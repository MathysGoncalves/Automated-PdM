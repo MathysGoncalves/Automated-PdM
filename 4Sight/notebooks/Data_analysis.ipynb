{
 "cells": [
  {
   "cell_type": "code",
   "execution_count": 1,
   "metadata": {},
   "outputs": [],
   "source": [
    "import pandas as pd\n",
    "import numpy as np\n",
    "import matplotlib.pyplot as plt\n",
    "import math\n",
    "import time\n",
    "from datetime import datetime\n",
    "from tqdm import tqdm\n",
    "tqdm.pandas()\n",
    "\n",
    "### Sklearn\n",
    "from sklearn.model_selection import train_test_split\n",
    "from sklearn.linear_model import LinearRegression\n",
    "from sklearn.linear_model import SGDClassifier\n",
    "\n"
   ]
  },
  {
   "cell_type": "code",
   "execution_count": 2,
   "metadata": {},
   "outputs": [
    {
     "name": "stdout",
     "output_type": "stream",
     "text": [
      "Index(['datetime', 'machineID', 'volt', 'rotate', 'pressure', 'vibration'], dtype='object')\n",
      "(876100, 6)\n",
      "              datetime  machineID        volt      rotate    pressure  \\\n",
      "0  2015-01-01 06:00:00          1  176.217853  418.504078  113.077935   \n",
      "1  2015-01-01 07:00:00          1  162.879223  402.747490   95.460525   \n",
      "2  2015-01-01 08:00:00          1  170.989902  527.349825   75.237905   \n",
      "\n",
      "   vibration  \n",
      "0  45.087686  \n",
      "1  43.413973  \n",
      "2  34.178847  \n",
      "Index(['datetime', 'machineID', 'failure'], dtype='object')\n",
      "(761, 3)\n",
      "              datetime  machineID failure\n",
      "0  2015-01-05 06:00:00          1   comp4\n",
      "1  2015-03-06 06:00:00          1   comp1\n",
      "2  2015-04-20 06:00:00          1   comp2\n",
      "Index(['datetime', 'machineID', 'errorID'], dtype='object')\n",
      "(3919, 3)\n",
      "              datetime  machineID errorID\n",
      "0  2015-01-03 07:00:00          1  error1\n",
      "1  2015-01-03 20:00:00          1  error3\n",
      "2  2015-01-04 06:00:00          1  error5\n"
     ]
    }
   ],
   "source": [
    "telemetry_df = pd.read_csv(\"../data/raw/PdM_telemetry.csv\")\n",
    "failuredf = pd.read_csv(\"../data/raw/PdM_failures.csv\")\n",
    "errordf = pd.read_csv(\"../data/raw/PdM_errors.csv\")\n",
    "\n",
    "print(telemetry_df.columns)\n",
    "print(telemetry_df.shape)\n",
    "print(telemetry_df.head(3))\n",
    "\n",
    "print(failuredf.columns)\n",
    "print(failuredf.shape)\n",
    "print(failuredf.head(3))\n",
    "\n",
    "print(errordf.columns)\n",
    "print(errordf.shape)\n",
    "print(errordf.head(3))"
   ]
  },
  {
   "cell_type": "code",
   "execution_count": 3,
   "metadata": {},
   "outputs": [
    {
     "name": "stdout",
     "output_type": "stream",
     "text": [
      "           machineID           volt         rotate       pressure  \\\n",
      "count  876100.000000  876100.000000  876100.000000  876100.000000   \n",
      "mean       50.500000     170.777736     446.605119     100.858668   \n",
      "std        28.866087      15.509114      52.673886      11.048679   \n",
      "min         1.000000      97.333604     138.432075      51.237106   \n",
      "25%        25.750000     160.304927     412.305714      93.498181   \n",
      "50%        50.500000     170.607338     447.558150     100.425559   \n",
      "75%        75.250000     181.004493     482.176600     107.555231   \n",
      "max       100.000000     255.124717     695.020984     185.951998   \n",
      "\n",
      "           vibration  \n",
      "count  876100.000000  \n",
      "mean       40.385007  \n",
      "std         5.370361  \n",
      "min        14.877054  \n",
      "25%        36.777299  \n",
      "50%        40.237247  \n",
      "75%        43.784938  \n",
      "max        76.791072  \n"
     ]
    }
   ],
   "source": [
    "print(telemetry_df.describe())"
   ]
  },
  {
   "cell_type": "code",
   "execution_count": 3,
   "metadata": {},
   "outputs": [
    {
     "name": "stderr",
     "output_type": "stream",
     "text": [
      "100%|██████████| 876100/876100 [00:29<00:00, 29488.85it/s]\n"
     ]
    },
    {
     "data": {
      "text/plain": [
       "time.struct_time"
      ]
     },
     "execution_count": 3,
     "metadata": {},
     "output_type": "execute_result"
    }
   ],
   "source": [
    "telemetry_df[\"datetime\"]= telemetry_df[\"datetime\"].progress_apply(lambda x : time.strptime(x, \"%Y-%m-%d %H:%M:%S\"))\n",
    "type(telemetry_df[\"datetime\"][0])"
   ]
  },
  {
   "cell_type": "code",
   "execution_count": 4,
   "metadata": {},
   "outputs": [
    {
     "name": "stderr",
     "output_type": "stream",
     "text": [
      "100%|██████████| 761/761 [00:00<00:00, 21327.30it/s]\n"
     ]
    },
    {
     "data": {
      "text/plain": [
       "time.struct_time"
      ]
     },
     "execution_count": 4,
     "metadata": {},
     "output_type": "execute_result"
    }
   ],
   "source": [
    "failuredf[\"datetime\"]= failuredf[\"datetime\"].progress_apply(lambda x : time.strptime(x, \"%Y-%m-%d %H:%M:%S\"))\n",
    "type(failuredf[\"datetime\"][0])"
   ]
  },
  {
   "cell_type": "code",
   "execution_count": 5,
   "metadata": {},
   "outputs": [
    {
     "name": "stderr",
     "output_type": "stream",
     "text": [
      "100%|██████████| 3919/3919 [00:00<00:00, 43617.05it/s]\n"
     ]
    },
    {
     "data": {
      "text/plain": [
       "time.struct_time"
      ]
     },
     "execution_count": 5,
     "metadata": {},
     "output_type": "execute_result"
    }
   ],
   "source": [
    "errordf[\"datetime\"]= errordf[\"datetime\"].progress_apply(lambda x : time.strptime(x, \"%Y-%m-%d %H:%M:%S\"))\n",
    "type(errordf[\"datetime\"][0])"
   ]
  },
  {
   "cell_type": "code",
   "execution_count": 7,
   "metadata": {},
   "outputs": [
    {
     "data": {
      "text/plain": [
       "count                              876100\n",
       "unique                               8761\n",
       "top       (2015, 1, 1, 6, 0, 0, 3, 1, -1)\n",
       "freq                                  100\n",
       "Name: datetime, dtype: object"
      ]
     },
     "execution_count": 7,
     "metadata": {},
     "output_type": "execute_result"
    }
   ],
   "source": [
    "telemetry_df.datetime.describe(datetime_is_numeric=True)"
   ]
  },
  {
   "cell_type": "code",
   "execution_count": 98,
   "metadata": {},
   "outputs": [
    {
     "data": {
      "text/plain": [
       "pandas._libs.tslibs.timestamps.Timestamp"
      ]
     },
     "execution_count": 98,
     "metadata": {},
     "output_type": "execute_result"
    }
   ],
   "source": [
    "#passage au format pandas timestamp --- optionnel ---\n",
    "df2['datetime'] = df2[\"datetime\"].apply(lambda x: datetime.fromtimestamp(time.mktime(x)))\n",
    "type(df2[\"datetime\"][0])"
   ]
  },
  {
   "cell_type": "code",
   "execution_count": 10,
   "metadata": {},
   "outputs": [
    {
     "data": {
      "text/plain": [
       "0"
      ]
     },
     "execution_count": 10,
     "metadata": {},
     "output_type": "execute_result"
    }
   ],
   "source": [
    "telemetry_df.duplicated().sum()\n"
   ]
  },
  {
   "cell_type": "code",
   "execution_count": 11,
   "metadata": {},
   "outputs": [
    {
     "data": {
      "text/plain": [
       "datetime     0\n",
       "machineID    0\n",
       "volt         0\n",
       "rotate       0\n",
       "pressure     0\n",
       "vibration    0\n",
       "dtype: int64"
      ]
     },
     "execution_count": 11,
     "metadata": {},
     "output_type": "execute_result"
    }
   ],
   "source": [
    "telemetry_df.isnull().sum()"
   ]
  },
  {
   "cell_type": "code",
   "execution_count": 46,
   "metadata": {},
   "outputs": [
    {
     "data": {
      "text/html": [
       "<div>\n",
       "<style scoped>\n",
       "    .dataframe tbody tr th:only-of-type {\n",
       "        vertical-align: middle;\n",
       "    }\n",
       "\n",
       "    .dataframe tbody tr th {\n",
       "        vertical-align: top;\n",
       "    }\n",
       "\n",
       "    .dataframe thead th {\n",
       "        text-align: right;\n",
       "    }\n",
       "</style>\n",
       "<table border=\"1\" class=\"dataframe\">\n",
       "  <thead>\n",
       "    <tr style=\"text-align: right;\">\n",
       "      <th></th>\n",
       "      <th>datetime</th>\n",
       "      <th>machineID</th>\n",
       "      <th>volt</th>\n",
       "      <th>rotate</th>\n",
       "      <th>pressure</th>\n",
       "      <th>vibration</th>\n",
       "    </tr>\n",
       "  </thead>\n",
       "  <tbody>\n",
       "    <tr>\n",
       "      <th>0</th>\n",
       "      <td>(2015, 1, 1, 6, 0, 0, 3, 1, -1)</td>\n",
       "      <td>1</td>\n",
       "      <td>176.217853</td>\n",
       "      <td>418.504078</td>\n",
       "      <td>113.077935</td>\n",
       "      <td>45.087686</td>\n",
       "    </tr>\n",
       "    <tr>\n",
       "      <th>1</th>\n",
       "      <td>(2015, 1, 1, 7, 0, 0, 3, 1, -1)</td>\n",
       "      <td>1</td>\n",
       "      <td>162.879223</td>\n",
       "      <td>402.747490</td>\n",
       "      <td>95.460525</td>\n",
       "      <td>43.413973</td>\n",
       "    </tr>\n",
       "    <tr>\n",
       "      <th>2</th>\n",
       "      <td>(2015, 1, 1, 8, 0, 0, 3, 1, -1)</td>\n",
       "      <td>1</td>\n",
       "      <td>170.989902</td>\n",
       "      <td>527.349825</td>\n",
       "      <td>75.237905</td>\n",
       "      <td>34.178847</td>\n",
       "    </tr>\n",
       "    <tr>\n",
       "      <th>3</th>\n",
       "      <td>(2015, 1, 1, 9, 0, 0, 3, 1, -1)</td>\n",
       "      <td>1</td>\n",
       "      <td>162.462833</td>\n",
       "      <td>346.149335</td>\n",
       "      <td>109.248561</td>\n",
       "      <td>41.122144</td>\n",
       "    </tr>\n",
       "    <tr>\n",
       "      <th>4</th>\n",
       "      <td>(2015, 1, 1, 10, 0, 0, 3, 1, -1)</td>\n",
       "      <td>1</td>\n",
       "      <td>157.610021</td>\n",
       "      <td>435.376873</td>\n",
       "      <td>111.886648</td>\n",
       "      <td>25.990511</td>\n",
       "    </tr>\n",
       "  </tbody>\n",
       "</table>\n",
       "</div>"
      ],
      "text/plain": [
       "                           datetime  machineID        volt      rotate  \\\n",
       "0   (2015, 1, 1, 6, 0, 0, 3, 1, -1)          1  176.217853  418.504078   \n",
       "1   (2015, 1, 1, 7, 0, 0, 3, 1, -1)          1  162.879223  402.747490   \n",
       "2   (2015, 1, 1, 8, 0, 0, 3, 1, -1)          1  170.989902  527.349825   \n",
       "3   (2015, 1, 1, 9, 0, 0, 3, 1, -1)          1  162.462833  346.149335   \n",
       "4  (2015, 1, 1, 10, 0, 0, 3, 1, -1)          1  157.610021  435.376873   \n",
       "\n",
       "     pressure  vibration  \n",
       "0  113.077935  45.087686  \n",
       "1   95.460525  43.413973  \n",
       "2   75.237905  34.178847  \n",
       "3  109.248561  41.122144  \n",
       "4  111.886648  25.990511  "
      ]
     },
     "execution_count": 46,
     "metadata": {},
     "output_type": "execute_result"
    }
   ],
   "source": [
    "telemetry_df.head(5)"
   ]
  },
  {
   "cell_type": "code",
   "execution_count": 28,
   "metadata": {},
   "outputs": [
    {
     "data": {
      "text/plain": [
       "error1    1010\n",
       "error2     988\n",
       "error3     838\n",
       "error4     727\n",
       "error5     356\n",
       "Name: errorID, dtype: int64"
      ]
     },
     "execution_count": 28,
     "metadata": {},
     "output_type": "execute_result"
    }
   ],
   "source": [
    "errordf[\"errorID\"].value_counts()"
   ]
  },
  {
   "cell_type": "code",
   "execution_count": 35,
   "metadata": {},
   "outputs": [
    {
     "data": {
      "text/html": [
       "<div>\n",
       "<style scoped>\n",
       "    .dataframe tbody tr th:only-of-type {\n",
       "        vertical-align: middle;\n",
       "    }\n",
       "\n",
       "    .dataframe tbody tr th {\n",
       "        vertical-align: top;\n",
       "    }\n",
       "\n",
       "    .dataframe thead th {\n",
       "        text-align: right;\n",
       "    }\n",
       "</style>\n",
       "<table border=\"1\" class=\"dataframe\">\n",
       "  <thead>\n",
       "    <tr style=\"text-align: right;\">\n",
       "      <th></th>\n",
       "      <th>datetime</th>\n",
       "      <th>machineID</th>\n",
       "      <th>volt</th>\n",
       "      <th>rotate</th>\n",
       "      <th>pressure</th>\n",
       "      <th>vibration</th>\n",
       "      <th>errorID</th>\n",
       "    </tr>\n",
       "  </thead>\n",
       "  <tbody>\n",
       "    <tr>\n",
       "      <th>0</th>\n",
       "      <td>(2015, 1, 1, 6, 0, 0, 3, 1, -1)</td>\n",
       "      <td>1</td>\n",
       "      <td>176.217853</td>\n",
       "      <td>418.504078</td>\n",
       "      <td>113.077935</td>\n",
       "      <td>45.087686</td>\n",
       "      <td>NaN</td>\n",
       "    </tr>\n",
       "    <tr>\n",
       "      <th>1</th>\n",
       "      <td>(2015, 1, 1, 7, 0, 0, 3, 1, -1)</td>\n",
       "      <td>1</td>\n",
       "      <td>162.879223</td>\n",
       "      <td>402.747490</td>\n",
       "      <td>95.460525</td>\n",
       "      <td>43.413973</td>\n",
       "      <td>NaN</td>\n",
       "    </tr>\n",
       "    <tr>\n",
       "      <th>2</th>\n",
       "      <td>(2015, 1, 1, 8, 0, 0, 3, 1, -1)</td>\n",
       "      <td>1</td>\n",
       "      <td>170.989902</td>\n",
       "      <td>527.349825</td>\n",
       "      <td>75.237905</td>\n",
       "      <td>34.178847</td>\n",
       "      <td>NaN</td>\n",
       "    </tr>\n",
       "    <tr>\n",
       "      <th>3</th>\n",
       "      <td>(2015, 1, 1, 9, 0, 0, 3, 1, -1)</td>\n",
       "      <td>1</td>\n",
       "      <td>162.462833</td>\n",
       "      <td>346.149335</td>\n",
       "      <td>109.248561</td>\n",
       "      <td>41.122144</td>\n",
       "      <td>NaN</td>\n",
       "    </tr>\n",
       "    <tr>\n",
       "      <th>4</th>\n",
       "      <td>(2015, 1, 1, 10, 0, 0, 3, 1, -1)</td>\n",
       "      <td>1</td>\n",
       "      <td>157.610021</td>\n",
       "      <td>435.376873</td>\n",
       "      <td>111.886648</td>\n",
       "      <td>25.990511</td>\n",
       "      <td>NaN</td>\n",
       "    </tr>\n",
       "  </tbody>\n",
       "</table>\n",
       "</div>"
      ],
      "text/plain": [
       "                           datetime  machineID        volt      rotate  \\\n",
       "0   (2015, 1, 1, 6, 0, 0, 3, 1, -1)          1  176.217853  418.504078   \n",
       "1   (2015, 1, 1, 7, 0, 0, 3, 1, -1)          1  162.879223  402.747490   \n",
       "2   (2015, 1, 1, 8, 0, 0, 3, 1, -1)          1  170.989902  527.349825   \n",
       "3   (2015, 1, 1, 9, 0, 0, 3, 1, -1)          1  162.462833  346.149335   \n",
       "4  (2015, 1, 1, 10, 0, 0, 3, 1, -1)          1  157.610021  435.376873   \n",
       "\n",
       "     pressure  vibration errorID  \n",
       "0  113.077935  45.087686     NaN  \n",
       "1   95.460525  43.413973     NaN  \n",
       "2   75.237905  34.178847     NaN  \n",
       "3  109.248561  41.122144     NaN  \n",
       "4  111.886648  25.990511     NaN  "
      ]
     },
     "execution_count": 35,
     "metadata": {},
     "output_type": "execute_result"
    }
   ],
   "source": [
    "errordf['machineID']=errordf['machineID'].astype(int)\n",
    "\n",
    "#merge two DataFrames\n",
    "df = telemetry_df.merge(errordf, left_on=['datetime','machineID'], how='left', right_on = ['datetime','machineID'])\n",
    "\n",
    "#df = telemetry_df.merge(failuredf, left_on=\"machineID\", right_on='datetime')\n",
    "df.head()"
   ]
  },
  {
   "cell_type": "code",
   "execution_count": 11,
   "metadata": {},
   "outputs": [
    {
     "data": {
      "text/plain": [
       "datetime     0\n",
       "machineID    0\n",
       "volt         0\n",
       "rotate       0\n",
       "pressure     0\n",
       "vibration    0\n",
       "errorID      0\n",
       "dtype: int64"
      ]
     },
     "execution_count": 11,
     "metadata": {},
     "output_type": "execute_result"
    }
   ],
   "source": [
    "df.isna().sum()"
   ]
  },
  {
   "cell_type": "code",
   "execution_count": 37,
   "metadata": {},
   "outputs": [],
   "source": [
    "df.loc[(df.errorID == 'error2') , 'errorID'] = 'error'\n",
    "df.loc[(df.errorID == 'error1') , 'errorID'] = 'error'\n",
    "df.loc[(df.errorID == 'error3') , 'errorID'] = 'error'\n",
    "df.loc[(df.errorID == 'error4') , 'errorID'] = 'error'\n",
    "df.loc[(df.errorID == 'error5') , 'errorID'] = 'error'\n"
   ]
  },
  {
   "cell_type": "code",
   "execution_count": 41,
   "metadata": {},
   "outputs": [
    {
     "data": {
      "text/plain": [
       "array([0., 1.])"
      ]
     },
     "execution_count": 41,
     "metadata": {},
     "output_type": "execute_result"
    }
   ],
   "source": [
    "df['errorID'].unique()"
   ]
  },
  {
   "cell_type": "code",
   "execution_count": 45,
   "metadata": {},
   "outputs": [
    {
     "data": {
      "text/plain": [
       "numpy.float64"
      ]
     },
     "execution_count": 45,
     "metadata": {},
     "output_type": "execute_result"
    }
   ],
   "source": [
    "type(df['volt'][0])"
   ]
  },
  {
   "cell_type": "code",
   "execution_count": 39,
   "metadata": {},
   "outputs": [],
   "source": [
    "df['errorID'] =df['errorID'].fillna(\"auc_error\")"
   ]
  },
  {
   "cell_type": "code",
   "execution_count": 40,
   "metadata": {},
   "outputs": [],
   "source": [
    "from sklearn.preprocessing import OrdinalEncoder\n",
    "\n",
    "ord_enc = OrdinalEncoder()\n",
    "df['errorID']  = ord_enc.fit_transform(df[['errorID']])"
   ]
  },
  {
   "cell_type": "code",
   "execution_count": 42,
   "metadata": {},
   "outputs": [
    {
     "data": {
      "text/plain": [
       "rotate      -0.014891\n",
       "machineID    0.001265\n",
       "pressure     0.005049\n",
       "vibration    0.005141\n",
       "volt         0.006385\n",
       "errorID      1.000000\n",
       "Name: errorID, dtype: float64"
      ]
     },
     "execution_count": 42,
     "metadata": {},
     "output_type": "execute_result"
    }
   ],
   "source": [
    "corr_rank = df.corr()['errorID'].sort_values()\n",
    "corr_rank.head(n=15)"
   ]
  },
  {
   "cell_type": "code",
   "execution_count": 47,
   "metadata": {},
   "outputs": [
    {
     "data": {
      "text/plain": [
       "0.0    872484\n",
       "1.0      3919\n",
       "Name: errorID, dtype: int64"
      ]
     },
     "execution_count": 47,
     "metadata": {},
     "output_type": "execute_result"
    }
   ],
   "source": [
    "df[\"errorID\"].value_counts()"
   ]
  },
  {
   "cell_type": "code",
   "execution_count": 56,
   "metadata": {},
   "outputs": [
    {
     "data": {
      "text/plain": [
       "float"
      ]
     },
     "execution_count": 56,
     "metadata": {},
     "output_type": "execute_result"
    }
   ],
   "source": [
    "type(df[\"errorID\"][0])"
   ]
  },
  {
   "cell_type": "code",
   "execution_count": 8,
   "metadata": {},
   "outputs": [
    {
     "name": "stderr",
     "output_type": "stream",
     "text": [
      "100%|██████████| 876403/876403 [00:01<00:00, 583541.59it/s]\n"
     ]
    }
   ],
   "source": [
    "df[\"errorID\"]= df[\"errorID\"].progress_apply(lambda x : False if x!= x else True)\n"
   ]
  },
  {
   "cell_type": "code",
   "execution_count": 68,
   "metadata": {},
   "outputs": [
    {
     "data": {
      "text/plain": [
       "False    872484\n",
       "True       3919\n",
       "Name: errorID, dtype: int64"
      ]
     },
     "execution_count": 68,
     "metadata": {},
     "output_type": "execute_result"
    }
   ],
   "source": [
    "df[\"errorID\"].value_counts()"
   ]
  },
  {
   "cell_type": "code",
   "execution_count": 43,
   "metadata": {},
   "outputs": [
    {
     "data": {
      "text/html": [
       "<div>\n",
       "<style scoped>\n",
       "    .dataframe tbody tr th:only-of-type {\n",
       "        vertical-align: middle;\n",
       "    }\n",
       "\n",
       "    .dataframe tbody tr th {\n",
       "        vertical-align: top;\n",
       "    }\n",
       "\n",
       "    .dataframe thead th {\n",
       "        text-align: right;\n",
       "    }\n",
       "</style>\n",
       "<table border=\"1\" class=\"dataframe\">\n",
       "  <thead>\n",
       "    <tr style=\"text-align: right;\">\n",
       "      <th></th>\n",
       "      <th>machineID</th>\n",
       "      <th>volt</th>\n",
       "      <th>rotate</th>\n",
       "      <th>pressure</th>\n",
       "      <th>vibration</th>\n",
       "    </tr>\n",
       "  </thead>\n",
       "  <tbody>\n",
       "    <tr>\n",
       "      <th>0</th>\n",
       "      <td>1</td>\n",
       "      <td>176.217853</td>\n",
       "      <td>418.504078</td>\n",
       "      <td>113.077935</td>\n",
       "      <td>45.087686</td>\n",
       "    </tr>\n",
       "    <tr>\n",
       "      <th>1</th>\n",
       "      <td>1</td>\n",
       "      <td>162.879223</td>\n",
       "      <td>402.747490</td>\n",
       "      <td>95.460525</td>\n",
       "      <td>43.413973</td>\n",
       "    </tr>\n",
       "    <tr>\n",
       "      <th>2</th>\n",
       "      <td>1</td>\n",
       "      <td>170.989902</td>\n",
       "      <td>527.349825</td>\n",
       "      <td>75.237905</td>\n",
       "      <td>34.178847</td>\n",
       "    </tr>\n",
       "    <tr>\n",
       "      <th>3</th>\n",
       "      <td>1</td>\n",
       "      <td>162.462833</td>\n",
       "      <td>346.149335</td>\n",
       "      <td>109.248561</td>\n",
       "      <td>41.122144</td>\n",
       "    </tr>\n",
       "    <tr>\n",
       "      <th>4</th>\n",
       "      <td>1</td>\n",
       "      <td>157.610021</td>\n",
       "      <td>435.376873</td>\n",
       "      <td>111.886648</td>\n",
       "      <td>25.990511</td>\n",
       "    </tr>\n",
       "    <tr>\n",
       "      <th>...</th>\n",
       "      <td>...</td>\n",
       "      <td>...</td>\n",
       "      <td>...</td>\n",
       "      <td>...</td>\n",
       "      <td>...</td>\n",
       "    </tr>\n",
       "    <tr>\n",
       "      <th>876398</th>\n",
       "      <td>100</td>\n",
       "      <td>179.438162</td>\n",
       "      <td>395.222827</td>\n",
       "      <td>102.290715</td>\n",
       "      <td>50.771941</td>\n",
       "    </tr>\n",
       "    <tr>\n",
       "      <th>876399</th>\n",
       "      <td>100</td>\n",
       "      <td>189.617555</td>\n",
       "      <td>446.207972</td>\n",
       "      <td>98.180607</td>\n",
       "      <td>35.123072</td>\n",
       "    </tr>\n",
       "    <tr>\n",
       "      <th>876400</th>\n",
       "      <td>100</td>\n",
       "      <td>192.483414</td>\n",
       "      <td>447.816524</td>\n",
       "      <td>94.132837</td>\n",
       "      <td>48.314561</td>\n",
       "    </tr>\n",
       "    <tr>\n",
       "      <th>876401</th>\n",
       "      <td>100</td>\n",
       "      <td>165.475310</td>\n",
       "      <td>413.771670</td>\n",
       "      <td>104.081073</td>\n",
       "      <td>44.835259</td>\n",
       "    </tr>\n",
       "    <tr>\n",
       "      <th>876402</th>\n",
       "      <td>100</td>\n",
       "      <td>171.336037</td>\n",
       "      <td>496.096870</td>\n",
       "      <td>79.095538</td>\n",
       "      <td>37.845245</td>\n",
       "    </tr>\n",
       "  </tbody>\n",
       "</table>\n",
       "<p>876403 rows × 5 columns</p>\n",
       "</div>"
      ],
      "text/plain": [
       "        machineID        volt      rotate    pressure  vibration\n",
       "0               1  176.217853  418.504078  113.077935  45.087686\n",
       "1               1  162.879223  402.747490   95.460525  43.413973\n",
       "2               1  170.989902  527.349825   75.237905  34.178847\n",
       "3               1  162.462833  346.149335  109.248561  41.122144\n",
       "4               1  157.610021  435.376873  111.886648  25.990511\n",
       "...           ...         ...         ...         ...        ...\n",
       "876398        100  179.438162  395.222827  102.290715  50.771941\n",
       "876399        100  189.617555  446.207972   98.180607  35.123072\n",
       "876400        100  192.483414  447.816524   94.132837  48.314561\n",
       "876401        100  165.475310  413.771670  104.081073  44.835259\n",
       "876402        100  171.336037  496.096870   79.095538  37.845245\n",
       "\n",
       "[876403 rows x 5 columns]"
      ]
     },
     "execution_count": 43,
     "metadata": {},
     "output_type": "execute_result"
    }
   ],
   "source": [
    "X = df.loc[:,  ~df.columns.isin(['errorID','datetime'])]\n",
    "y = df[\"errorID\"]\n",
    "X"
   ]
  },
  {
   "cell_type": "code",
   "execution_count": 48,
   "metadata": {},
   "outputs": [],
   "source": [
    "X_train, X_test, y_train, y_test = train_test_split(X, y,test_size=0.33, random_state=42)\n",
    "#test_size=0.33, random_state=42\n"
   ]
  },
  {
   "cell_type": "code",
   "execution_count": 21,
   "metadata": {},
   "outputs": [
    {
     "data": {
      "text/plain": [
       "587190"
      ]
     },
     "execution_count": 21,
     "metadata": {},
     "output_type": "execute_result"
    }
   ],
   "source": [
    "y_train.count()"
   ]
  },
  {
   "cell_type": "code",
   "execution_count": null,
   "metadata": {},
   "outputs": [],
   "source": [
    "y_train.groupby(['Genre']).count().plot(kind='pie', y='Lyrics', figsize= (10,10))\n"
   ]
  },
  {
   "cell_type": "code",
   "execution_count": null,
   "metadata": {},
   "outputs": [],
   "source": [
    "import matplotlib.pyplot as plt\n",
    "\n",
    "fig1, ax1 = plt.subplots()\n",
    "ax1.pie(y_train, autopct='%1.1f%%',\n",
    "        shadow=True, startangle=90)\n",
    "ax1.axis('equal')  # Equal aspect ratio ensures that pie is drawn as a circle.\n",
    "\n",
    "plt.show()"
   ]
  },
  {
   "cell_type": "code",
   "execution_count": 15,
   "metadata": {},
   "outputs": [
    {
     "data": {
      "text/plain": [
       "0.00027131944171820965"
      ]
     },
     "execution_count": 15,
     "metadata": {},
     "output_type": "execute_result"
    }
   ],
   "source": [
    "reg = LinearRegression().fit(X_train, y_train)\n",
    "reg.score(X_test, y_test)"
   ]
  },
  {
   "cell_type": "code",
   "execution_count": 56,
   "metadata": {},
   "outputs": [
    {
     "data": {
      "text/plain": [
       "0.46995121242821036"
      ]
     },
     "execution_count": 56,
     "metadata": {},
     "output_type": "execute_result"
    }
   ],
   "source": [
    "clf = SGDClassifier(max_iter=1000, tol=1e-3, class_weight = \"balanced\").fit(X_train, y_train)\n"
   ]
  },
  {
   "cell_type": "code",
   "execution_count": 64,
   "metadata": {},
   "outputs": [
    {
     "data": {
      "text/plain": [
       "0.004436176797031946"
      ]
     },
     "execution_count": 64,
     "metadata": {},
     "output_type": "execute_result"
    }
   ],
   "source": [
    "clf.score(X_test, y_test)"
   ]
  },
  {
   "cell_type": "code",
   "execution_count": 65,
   "metadata": {},
   "outputs": [],
   "source": [
    "y_pred = clf.predict(X_test)"
   ]
  },
  {
   "cell_type": "code",
   "execution_count": 66,
   "metadata": {},
   "outputs": [
    {
     "data": {
      "text/plain": [
       "<sklearn.metrics._plot.confusion_matrix.ConfusionMatrixDisplay at 0x7fccd9300820>"
      ]
     },
     "execution_count": 66,
     "metadata": {},
     "output_type": "execute_result"
    },
    {
     "data": {
      "image/png": "[encoded data removed]",
      "text/plain": [
       "<Figure size 432x288 with 2 Axes>"
      ]
     },
     "metadata": {
      "needs_background": "light"
     },
     "output_type": "display_data"
    }
   ],
   "source": [
    "from sklearn.metrics import confusion_matrix\n",
    "from sklearn.metrics import ConfusionMatrixDisplay\n",
    "\n",
    "cm = confusion_matrix(y_test, y_pred)\n",
    "disp = ConfusionMatrixDisplay(confusion_matrix=cm,display_labels=clf.classes_)\n",
    "disp.plot()"
   ]
  },
  {
   "cell_type": "code",
   "execution_count": 59,
   "metadata": {},
   "outputs": [
    {
     "data": {
      "text/plain": [
       "array([0.63806207, 0.01022721])"
      ]
     },
     "execution_count": 59,
     "metadata": {},
     "output_type": "execute_result"
    }
   ],
   "source": [
    "from sklearn.metrics import f1_score\n",
    "f1_score(y_test, y_pred, average=None)"
   ]
  },
  {
   "cell_type": "code",
   "execution_count": 63,
   "metadata": {},
   "outputs": [
    {
     "data": {
      "text/html": [
       "<style>#sk-container-id-1 {color: black;background-color: white;}#sk-container-id-1 pre{padding: 0;}#sk-container-id-1 div.sk-toggleable {background-color: white;}#sk-container-id-1 label.sk-toggleable__label {cursor: pointer;display: block;width: 100%;margin-bottom: 0;padding: 0.3em;box-sizing: border-box;text-align: center;}#sk-container-id-1 label.sk-toggleable__label-arrow:before {content: \"▸\";float: left;margin-right: 0.25em;color: #696969;}#sk-container-id-1 label.sk-toggleable__label-arrow:hover:before {color: black;}#sk-container-id-1 div.sk-estimator:hover label.sk-toggleable__label-arrow:before {color: black;}#sk-container-id-1 div.sk-toggleable__content {max-height: 0;max-width: 0;overflow: hidden;text-align: left;background-color: #f0f8ff;}#sk-container-id-1 div.sk-toggleable__content pre {margin: 0.2em;color: black;border-radius: 0.25em;background-color: #f0f8ff;}#sk-container-id-1 input.sk-toggleable__control:checked~div.sk-toggleable__content {max-height: 200px;max-width: 100%;overflow: auto;}#sk-container-id-1 input.sk-toggleable__control:checked~label.sk-toggleable__label-arrow:before {content: \"▾\";}#sk-container-id-1 div.sk-estimator input.sk-toggleable__control:checked~label.sk-toggleable__label {background-color: #d4ebff;}#sk-container-id-1 div.sk-label input.sk-toggleable__control:checked~label.sk-toggleable__label {background-color: #d4ebff;}#sk-container-id-1 input.sk-hidden--visually {border: 0;clip: rect(1px 1px 1px 1px);clip: rect(1px, 1px, 1px, 1px);height: 1px;margin: -1px;overflow: hidden;padding: 0;position: absolute;width: 1px;}#sk-container-id-1 div.sk-estimator {font-family: monospace;background-color: #f0f8ff;border: 1px dotted black;border-radius: 0.25em;box-sizing: border-box;margin-bottom: 0.5em;}#sk-container-id-1 div.sk-estimator:hover {background-color: #d4ebff;}#sk-container-id-1 div.sk-parallel-item::after {content: \"\";width: 100%;border-bottom: 1px solid gray;flex-grow: 1;}#sk-container-id-1 div.sk-label:hover label.sk-toggleable__label {background-color: #d4ebff;}#sk-container-id-1 div.sk-serial::before {content: \"\";position: absolute;border-left: 1px solid gray;box-sizing: border-box;top: 0;bottom: 0;left: 50%;z-index: 0;}#sk-container-id-1 div.sk-serial {display: flex;flex-direction: column;align-items: center;background-color: white;padding-right: 0.2em;padding-left: 0.2em;position: relative;}#sk-container-id-1 div.sk-item {position: relative;z-index: 1;}#sk-container-id-1 div.sk-parallel {display: flex;align-items: stretch;justify-content: center;background-color: white;position: relative;}#sk-container-id-1 div.sk-item::before, #sk-container-id-1 div.sk-parallel-item::before {content: \"\";position: absolute;border-left: 1px solid gray;box-sizing: border-box;top: 0;bottom: 0;left: 50%;z-index: -1;}#sk-container-id-1 div.sk-parallel-item {display: flex;flex-direction: column;z-index: 1;position: relative;background-color: white;}#sk-container-id-1 div.sk-parallel-item:first-child::after {align-self: flex-end;width: 50%;}#sk-container-id-1 div.sk-parallel-item:last-child::after {align-self: flex-start;width: 50%;}#sk-container-id-1 div.sk-parallel-item:only-child::after {width: 0;}#sk-container-id-1 div.sk-dashed-wrapped {border: 1px dashed gray;margin: 0 0.4em 0.5em 0.4em;box-sizing: border-box;padding-bottom: 0.4em;background-color: white;}#sk-container-id-1 div.sk-label label {font-family: monospace;font-weight: bold;display: inline-block;line-height: 1.2em;}#sk-container-id-1 div.sk-label-container {text-align: center;}#sk-container-id-1 div.sk-container {/* jupyter's `normalize.less` sets `[hidden] { display: none; }` but bootstrap.min.css set `[hidden] { display: none !important; }` so we also need the `!important` here to be able to override the default hidden behavior on the sphinx rendered scikit-learn.org. See: https://github.com/scikit-learn/scikit-learn/issues/21755 */display: inline-block !important;position: relative;}#sk-container-id-1 div.sk-text-repr-fallback {display: none;}</style><div id=\"sk-container-id-1\" class=\"sk-top-container\"><div class=\"sk-text-repr-fallback\"><pre>SGDClassifier(class_weight=&#x27;balanced&#x27;)</pre><b>In a Jupyter environment, please rerun this cell to show the HTML representation or trust the notebook. <br />On GitHub, the HTML representation is unable to render, please try loading this page with nbviewer.org.</b></div><div class=\"sk-container\" hidden><div class=\"sk-item\"><div class=\"sk-estimator sk-toggleable\"><input class=\"sk-toggleable__control sk-hidden--visually\" id=\"sk-estimator-id-1\" type=\"checkbox\" checked><label for=\"sk-estimator-id-1\" class=\"sk-toggleable__label sk-toggleable__label-arrow\">SGDClassifier</label><div class=\"sk-toggleable__content\"><pre>SGDClassifier(class_weight=&#x27;balanced&#x27;)</pre></div></div></div></div></div>"
      ],
      "text/plain": [
       "SGDClassifier(class_weight='balanced')"
      ]
     },
     "execution_count": 63,
     "metadata": {},
     "output_type": "execute_result"
    }
   ],
   "source": [
    "from imblearn.over_sampling import SMOTE, RandomOverSampler\n",
    "from imblearn.under_sampling import RandomUnderSampler\n",
    "from imblearn.pipeline import Pipeline \n",
    "\n",
    "# Définition de l'instance SMOTE\n",
    "sm = SMOTE(sampling_strategy=0.75)\n",
    "#to_model_columns= X_train.columns[::-1]\n",
    "#X, y = X_train[to_model_columns], X_train.errorID\n",
    "\n",
    "# define resampling\n",
    "#oversampling des machines fonctionnelles\n",
    "over = SMOTE(sampling_strategy=0.1)\n",
    "#undersampling des machines défaillantes\n",
    "under = RandomUnderSampler(sampling_strategy=0.5)\n",
    "\n",
    "# SVC\n",
    "#clf = SVC(gamma='auto')\n",
    "\n",
    "# Application du SMOTE aux données\n",
    "X_train, Y_train = sm.fit_resample(X, y)\n",
    "clf.fit(X_train, Y_train)"
   ]
  },
  {
   "attachments": {},
   "cell_type": "markdown",
   "metadata": {},
   "source": [
    "## IMBLearn"
   ]
  },
  {
   "cell_type": "code",
   "execution_count": 21,
   "metadata": {},
   "outputs": [],
   "source": [
    "from imblearn.datasets import make_imbalance\n",
    "from imblearn.metrics import classification_report_imbalanced\n",
    "from imblearn.pipeline import make_pipeline\n",
    "from imblearn.under_sampling import NearMiss"
   ]
  },
  {
   "cell_type": "code",
   "execution_count": 22,
   "metadata": {},
   "outputs": [
    {
     "name": "stderr",
     "output_type": "stream",
     "text": [
      "/Users/oub/opt/anaconda3/lib/python3.9/site-packages/sklearn/metrics/_classification.py:1344: UndefinedMetricWarning: Precision and F-score are ill-defined and being set to 0.0 in labels with no predicted samples. Use `zero_division` parameter to control this behavior.\n",
      "  _warn_prf(average, modifier, msg_start, len(result))\n"
     ]
    },
    {
     "name": "stdout",
     "output_type": "stream",
     "text": [
      "                   pre       rec       spe        f1       geo       iba       sup\n",
      "\n",
      "        0.0       0.00      0.00      1.00      0.00      0.00      0.00       315\n",
      "        1.0       0.00      0.00      1.00      0.00      0.00      0.00       329\n",
      "        2.0       0.00      0.00      1.00      0.00      0.00      0.00       291\n",
      "        3.0       0.00      0.00      1.00      0.00      0.00      0.00       237\n",
      "        4.0       0.00      0.00      1.00      0.00      0.00      0.00       111\n",
      "        5.0       1.00      1.00      0.00      1.00      0.00      0.00    287930\n",
      "\n",
      "avg / total       0.99      1.00      0.00      0.99      0.00      0.00    289213\n",
      "\n"
     ]
    }
   ],
   "source": [
    "\n",
    "# Classify and report the results\n",
    "print(classification_report_imbalanced(y_test, clf.predict(X_test)))"
   ]
  },
  {
   "cell_type": "markdown",
   "metadata": {},
   "source": [
    "### Problème de classes: wj=n_samples / (n_classes * n_samplesj)"
   ]
  },
  {
   "cell_type": "code",
   "execution_count": 73,
   "metadata": {},
   "outputs": [
    {
     "data": {
      "text/plain": [
       "0.9960513531549412"
      ]
     },
     "execution_count": 73,
     "metadata": {},
     "output_type": "execute_result"
    }
   ],
   "source": [
    "from sklearn.ensemble import RandomForestClassifier\n",
    "\n",
    "rfc = RandomForestClassifier(max_depth=None, random_state=41,class_weight = {0: 0.1, 1: 0.9}).fit(X_train, y_train)\n",
    "rfc.score(X_test, y_test)"
   ]
  },
  {
   "cell_type": "code",
   "execution_count": 74,
   "metadata": {},
   "outputs": [
    {
     "data": {
      "text/plain": [
       "<sklearn.metrics._plot.confusion_matrix.ConfusionMatrixDisplay at 0x7fad78cd69a0>"
      ]
     },
     "execution_count": 74,
     "metadata": {},
     "output_type": "execute_result"
    },
    {
     "data": {
      "image/png": "[encoded data removed]",
      "text/plain": [
       "<Figure size 432x288 with 2 Axes>"
      ]
     },
     "metadata": {},
     "output_type": "display_data"
    }
   ],
   "source": [
    "y_pred = rfc.predict(X_test)\n",
    "cm_rfc = confusion_matrix(y_test, y_pred)\n",
    "disp = ConfusionMatrixDisplay(confusion_matrix=cm_rfc,display_labels=rfc.classes_)\n",
    "disp.plot()"
   ]
  },
  {
   "cell_type": "code",
   "execution_count": 44,
   "metadata": {},
   "outputs": [
    {
     "name": "stdout",
     "output_type": "stream",
     "text": [
      "0.0\n",
      "0.0\n",
      "0.0\n",
      "0.0\n",
      "0.44383691064498865\n"
     ]
    }
   ],
   "source": [
    "from sklearn.linear_model import LogisticRegression\n",
    "\n",
    "print(LogisticRegression(random_state=0).fit(X,y).predict(X).mean()) # 0.184\n",
    "print((LogisticRegression(random_state=0).fit(X,y).predict_proba(X)[:,1]>0.5).mean()) # 0.184 => same as first\n",
    "print(LogisticRegression(random_state=0,class_weight={0:0.5,1:0.5}).fit(X,y).predict(X).mean()) # 0.184 => same as first\n",
    "print(LogisticRegression(random_state=0,class_weight={0:2,1:8}).fit(X,y).predict(X).mean()) # 0.296 => seems to make things worse?\n",
    "print(LogisticRegression(random_state=0,class_weight=\"balanced\").fit(X,y).predict(X).mean()) # 0.292 => seems to make things worse?\n"
   ]
  },
  {
   "cell_type": "code",
   "execution_count": null,
   "metadata": {},
   "outputs": [],
   "source": [
    "mask = (df2['datetime'] >= time.strptime('2015-01-01 06:00:00', \"%Y-%m-%d %H:%M:%S\")) & (df2['datetime'] < time.strptime('2015-01-29 23:00:00', \"%Y-%m-%d %H:%M:%S\"))\n",
    "\n",
    "month = df2[mask]\n",
    "print(month)"
   ]
  },
  {
   "cell_type": "code",
   "execution_count": 28,
   "metadata": {},
   "outputs": [
    {
     "name": "stdout",
     "output_type": "stream",
     "text": [
      "Fitting 5 folds for each of 200 candidates, totalling 1000 fits\n",
      "[CV] END ......................class_weight={0: 0.0, 1: 1.0}; total time=   4.1s\n",
      "[CV] END ......................class_weight={0: 0.0, 1: 1.0}; total time=   4.1s\n",
      "[CV] END ......................class_weight={0: 0.0, 1: 1.0}; total time=   4.3s\n",
      "[CV] END ......................class_weight={0: 0.0, 1: 1.0}; total time=   4.5s\n",
      "[CV] END class_weight={0: 0.004974874371859297, 1: 0.9950251256281407}; total time=   4.5s\n",
      "[CV] END ......................class_weight={0: 0.0, 1: 1.0}; total time=   4.6s\n",
      "[CV] END class_weight={0: 0.004974874371859297, 1: 0.9950251256281407}; total time=   4.4s\n",
      "[CV] END class_weight={0: 0.004974874371859297, 1: 0.9950251256281407}; total time=   5.3s\n",
      "[CV] END class_weight={0: 0.004974874371859297, 1: 0.9950251256281407}; total time=   3.8s\n",
      "[CV] END class_weight={0: 0.004974874371859297, 1: 0.9950251256281407}; total time=   5.2s\n",
      "[CV] END class_weight={0: 0.009949748743718593, 1: 0.9900502512562814}; total time=   9.5s\n",
      "[CV] END class_weight={0: 0.009949748743718593, 1: 0.9900502512562814}; total time=   9.7s\n",
      "[CV] END class_weight={0: 0.009949748743718593, 1: 0.9900502512562814}; total time=  10.2s\n",
      "[CV] END class_weight={0: 0.009949748743718593, 1: 0.9900502512562814}; total time=  11.7s\n",
      "[CV] END class_weight={0: 0.014924623115577889, 1: 0.9850753768844221}; total time=  13.8s\n"
     ]
    },
    {
     "name": "stderr",
     "output_type": "stream",
     "text": [
      "/Users/oub/opt/anaconda3/lib/python3.9/site-packages/scipy/optimize/linesearch.py:327: LineSearchWarning: The line search algorithm did not converge\n",
      "  warn('The line search algorithm did not converge', LineSearchWarning)\n",
      "/Users/oub/opt/anaconda3/lib/python3.9/site-packages/sklearn/utils/optimize.py:203: UserWarning: Line Search failed\n",
      "  warnings.warn(\"Line Search failed\")\n"
     ]
    },
    {
     "name": "stdout",
     "output_type": "stream",
     "text": [
      "[CV] END class_weight={0: 0.009949748743718593, 1: 0.9900502512562814}; total time=  17.9s\n",
      "[CV] END class_weight={0: 0.014924623115577889, 1: 0.9850753768844221}; total time=  16.2s\n"
     ]
    },
    {
     "name": "stderr",
     "output_type": "stream",
     "text": [
      "/Users/oub/opt/anaconda3/lib/python3.9/site-packages/scipy/optimize/linesearch.py:327: LineSearchWarning: The line search algorithm did not converge\n",
      "  warn('The line search algorithm did not converge', LineSearchWarning)\n",
      "/Users/oub/opt/anaconda3/lib/python3.9/site-packages/sklearn/utils/optimize.py:203: UserWarning: Line Search failed\n",
      "  warnings.warn(\"Line Search failed\")\n"
     ]
    },
    {
     "name": "stdout",
     "output_type": "stream",
     "text": [
      "[CV] END class_weight={0: 0.014924623115577889, 1: 0.9850753768844221}; total time=  33.0s\n",
      "[CV] END class_weight={0: 0.014924623115577889, 1: 0.9850753768844221}; total time=  26.8s\n",
      "[CV] END class_weight={0: 0.019899497487437186, 1: 0.9801005025125629}; total time=  22.7s\n"
     ]
    },
    {
     "name": "stderr",
     "output_type": "stream",
     "text": [
      "/Users/oub/opt/anaconda3/lib/python3.9/site-packages/scipy/optimize/linesearch.py:437: LineSearchWarning: Rounding errors prevent the line search from converging\n",
      "  warn(msg, LineSearchWarning)\n",
      "/Users/oub/opt/anaconda3/lib/python3.9/site-packages/scipy/optimize/linesearch.py:327: LineSearchWarning: The line search algorithm did not converge\n",
      "  warn('The line search algorithm did not converge', LineSearchWarning)\n",
      "/Users/oub/opt/anaconda3/lib/python3.9/site-packages/sklearn/utils/optimize.py:203: UserWarning: Line Search failed\n",
      "  warnings.warn(\"Line Search failed\")\n"
     ]
    },
    {
     "name": "stdout",
     "output_type": "stream",
     "text": [
      "[CV] END class_weight={0: 0.014924623115577889, 1: 0.9850753768844221}; total time=  35.0s\n",
      "[CV] END class_weight={0: 0.019899497487437186, 1: 0.9801005025125629}; total time=  28.1s\n",
      "[CV] END class_weight={0: 0.019899497487437186, 1: 0.9801005025125629}; total time=  25.9s\n"
     ]
    },
    {
     "name": "stderr",
     "output_type": "stream",
     "text": [
      "/Users/oub/opt/anaconda3/lib/python3.9/site-packages/scipy/optimize/linesearch.py:327: LineSearchWarning: The line search algorithm did not converge\n",
      "  warn('The line search algorithm did not converge', LineSearchWarning)\n",
      "/Users/oub/opt/anaconda3/lib/python3.9/site-packages/sklearn/utils/optimize.py:203: UserWarning: Line Search failed\n",
      "  warnings.warn(\"Line Search failed\")\n"
     ]
    },
    {
     "name": "stdout",
     "output_type": "stream",
     "text": [
      "[CV] END class_weight={0: 0.019899497487437186, 1: 0.9801005025125629}; total time=  31.1s\n",
      "[CV] END class_weight={0: 0.019899497487437186, 1: 0.9801005025125629}; total time=  20.6s\n",
      "[CV] END class_weight={0: 0.024874371859296484, 1: 0.9751256281407035}; total time=  14.1s\n",
      "[CV] END class_weight={0: 0.024874371859296484, 1: 0.9751256281407035}; total time=  16.3s\n",
      "[CV] END class_weight={0: 0.024874371859296484, 1: 0.9751256281407035}; total time=  15.7s\n"
     ]
    },
    {
     "name": "stderr",
     "output_type": "stream",
     "text": [
      "/Users/oub/opt/anaconda3/lib/python3.9/site-packages/scipy/optimize/linesearch.py:327: LineSearchWarning: The line search algorithm did not converge\n",
      "  warn('The line search algorithm did not converge', LineSearchWarning)\n",
      "/Users/oub/opt/anaconda3/lib/python3.9/site-packages/sklearn/utils/optimize.py:203: UserWarning: Line Search failed\n",
      "  warnings.warn(\"Line Search failed\")\n"
     ]
    },
    {
     "name": "stdout",
     "output_type": "stream",
     "text": [
      "[CV] END class_weight={0: 0.024874371859296484, 1: 0.9751256281407035}; total time=  25.2s\n",
      "[CV] END class_weight={0: 0.024874371859296484, 1: 0.9751256281407035}; total time=  19.2s\n",
      "[CV] END class_weight={0: 0.029849246231155778, 1: 0.9701507537688442}; total time=  20.5s\n",
      "[CV] END class_weight={0: 0.029849246231155778, 1: 0.9701507537688442}; total time=  18.4s\n",
      "[CV] END class_weight={0: 0.029849246231155778, 1: 0.9701507537688442}; total time=  17.9s\n",
      "[CV] END class_weight={0: 0.034824120603015075, 1: 0.9651758793969849}; total time=  23.0s\n",
      "[CV] END class_weight={0: 0.029849246231155778, 1: 0.9701507537688442}; total time=  24.7s\n",
      "[CV] END class_weight={0: 0.029849246231155778, 1: 0.9701507537688442}; total time=  25.4s\n",
      "[CV] END class_weight={0: 0.034824120603015075, 1: 0.9651758793969849}; total time=  26.0s\n",
      "[CV] END class_weight={0: 0.034824120603015075, 1: 0.9651758793969849}; total time=  17.4s\n",
      "[CV] END class_weight={0: 0.034824120603015075, 1: 0.9651758793969849}; total time=  17.7s\n",
      "[CV] END class_weight={0: 0.03979899497487437, 1: 0.9602010050251256}; total time=  15.2s\n",
      "[CV] END class_weight={0: 0.034824120603015075, 1: 0.9651758793969849}; total time=  18.8s\n",
      "[CV] END class_weight={0: 0.03979899497487437, 1: 0.9602010050251256}; total time=  15.0s\n",
      "[CV] END class_weight={0: 0.03979899497487437, 1: 0.9602010050251256}; total time=  15.6s\n",
      "[CV] END class_weight={0: 0.03979899497487437, 1: 0.9602010050251256}; total time=  18.0s\n",
      "[CV] END class_weight={0: 0.03979899497487437, 1: 0.9602010050251256}; total time=  18.0s\n",
      "[CV] END class_weight={0: 0.04477386934673367, 1: 0.9552261306532663}; total time=  19.4s\n",
      "[CV] END class_weight={0: 0.04477386934673367, 1: 0.9552261306532663}; total time=  15.2s\n",
      "[CV] END class_weight={0: 0.04477386934673367, 1: 0.9552261306532663}; total time=  20.9s\n",
      "[CV] END class_weight={0: 0.04477386934673367, 1: 0.9552261306532663}; total time=  15.8s\n",
      "[CV] END class_weight={0: 0.04477386934673367, 1: 0.9552261306532663}; total time=  16.8s\n",
      "[CV] END class_weight={0: 0.04974874371859297, 1: 0.950251256281407}; total time=  15.9s\n",
      "[CV] END class_weight={0: 0.04974874371859297, 1: 0.950251256281407}; total time=  17.2s\n",
      "[CV] END class_weight={0: 0.04974874371859297, 1: 0.950251256281407}; total time=  19.3s\n",
      "[CV] END class_weight={0: 0.04974874371859297, 1: 0.950251256281407}; total time=  16.7s\n",
      "[CV] END class_weight={0: 0.04974874371859297, 1: 0.950251256281407}; total time=  19.5s\n",
      "[CV] END class_weight={0: 0.054723618090452265, 1: 0.9452763819095478}; total time=  20.5s\n",
      "[CV] END class_weight={0: 0.054723618090452265, 1: 0.9452763819095478}; total time=  22.6s\n",
      "[CV] END class_weight={0: 0.054723618090452265, 1: 0.9452763819095478}; total time=  19.1s\n",
      "[CV] END class_weight={0: 0.054723618090452265, 1: 0.9452763819095478}; total time=  16.6s\n",
      "[CV] END class_weight={0: 0.054723618090452265, 1: 0.9452763819095478}; total time=  18.3s\n",
      "[CV] END class_weight={0: 0.059698492462311556, 1: 0.9403015075376885}; total time=  14.9s\n",
      "[CV] END class_weight={0: 0.059698492462311556, 1: 0.9403015075376885}; total time=  10.0s\n",
      "[CV] END class_weight={0: 0.059698492462311556, 1: 0.9403015075376885}; total time=  13.2s\n",
      "[CV] END class_weight={0: 0.059698492462311556, 1: 0.9403015075376885}; total time=  13.6s\n"
     ]
    },
    {
     "name": "stderr",
     "output_type": "stream",
     "text": [
      "/Users/oub/opt/anaconda3/lib/python3.9/site-packages/scipy/optimize/linesearch.py:327: LineSearchWarning: The line search algorithm did not converge\n",
      "  warn('The line search algorithm did not converge', LineSearchWarning)\n",
      "/Users/oub/opt/anaconda3/lib/python3.9/site-packages/sklearn/utils/optimize.py:203: UserWarning: Line Search failed\n",
      "  warnings.warn(\"Line Search failed\")\n"
     ]
    },
    {
     "name": "stdout",
     "output_type": "stream",
     "text": [
      "[CV] END class_weight={0: 0.059698492462311556, 1: 0.9403015075376885}; total time=  19.3s\n",
      "[CV] END class_weight={0: 0.06467336683417085, 1: 0.9353266331658292}; total time=  12.1s\n",
      "[CV] END class_weight={0: 0.06467336683417085, 1: 0.9353266331658292}; total time=  14.7s\n",
      "[CV] END class_weight={0: 0.06467336683417085, 1: 0.9353266331658292}; total time=  13.3s\n",
      "[CV] END class_weight={0: 0.06467336683417085, 1: 0.9353266331658292}; total time=  15.9s\n",
      "[CV] END class_weight={0: 0.06467336683417085, 1: 0.9353266331658292}; total time=  14.7s\n"
     ]
    },
    {
     "name": "stderr",
     "output_type": "stream",
     "text": [
      "/Users/oub/opt/anaconda3/lib/python3.9/site-packages/scipy/optimize/linesearch.py:327: LineSearchWarning: The line search algorithm did not converge\n",
      "  warn('The line search algorithm did not converge', LineSearchWarning)\n",
      "/Users/oub/opt/anaconda3/lib/python3.9/site-packages/sklearn/utils/optimize.py:203: UserWarning: Line Search failed\n",
      "  warnings.warn(\"Line Search failed\")\n"
     ]
    },
    {
     "name": "stdout",
     "output_type": "stream",
     "text": [
      "[CV] END class_weight={0: 0.06964824120603015, 1: 0.9303517587939698}; total time=  19.2s\n"
     ]
    },
    {
     "name": "stderr",
     "output_type": "stream",
     "text": [
      "/Users/oub/opt/anaconda3/lib/python3.9/site-packages/scipy/optimize/linesearch.py:327: LineSearchWarning: The line search algorithm did not converge\n",
      "  warn('The line search algorithm did not converge', LineSearchWarning)\n",
      "/Users/oub/opt/anaconda3/lib/python3.9/site-packages/sklearn/utils/optimize.py:203: UserWarning: Line Search failed\n",
      "  warnings.warn(\"Line Search failed\")\n"
     ]
    },
    {
     "name": "stdout",
     "output_type": "stream",
     "text": [
      "[CV] END class_weight={0: 0.06964824120603015, 1: 0.9303517587939698}; total time=  16.2s\n",
      "[CV] END class_weight={0: 0.06964824120603015, 1: 0.9303517587939698}; total time=  14.6s\n"
     ]
    },
    {
     "name": "stderr",
     "output_type": "stream",
     "text": [
      "/Users/oub/opt/anaconda3/lib/python3.9/site-packages/scipy/optimize/linesearch.py:327: LineSearchWarning: The line search algorithm did not converge\n",
      "  warn('The line search algorithm did not converge', LineSearchWarning)\n",
      "/Users/oub/opt/anaconda3/lib/python3.9/site-packages/sklearn/utils/optimize.py:203: UserWarning: Line Search failed\n",
      "  warnings.warn(\"Line Search failed\")\n"
     ]
    },
    {
     "name": "stdout",
     "output_type": "stream",
     "text": [
      "[CV] END class_weight={0: 0.06964824120603015, 1: 0.9303517587939698}; total time=  17.0s\n",
      "[CV] END class_weight={0: 0.06964824120603015, 1: 0.9303517587939698}; total time=  14.3s\n"
     ]
    },
    {
     "name": "stderr",
     "output_type": "stream",
     "text": [
      "/Users/oub/opt/anaconda3/lib/python3.9/site-packages/scipy/optimize/linesearch.py:437: LineSearchWarning: Rounding errors prevent the line search from converging\n",
      "  warn(msg, LineSearchWarning)\n",
      "/Users/oub/opt/anaconda3/lib/python3.9/site-packages/scipy/optimize/linesearch.py:327: LineSearchWarning: The line search algorithm did not converge\n",
      "  warn('The line search algorithm did not converge', LineSearchWarning)\n",
      "/Users/oub/opt/anaconda3/lib/python3.9/site-packages/sklearn/utils/optimize.py:203: UserWarning: Line Search failed\n",
      "  warnings.warn(\"Line Search failed\")\n"
     ]
    },
    {
     "name": "stdout",
     "output_type": "stream",
     "text": [
      "[CV] END class_weight={0: 0.07462311557788945, 1: 0.9253768844221105}; total time=  17.6s\n",
      "[CV] END class_weight={0: 0.07462311557788945, 1: 0.9253768844221105}; total time=  14.7s\n",
      "[CV] END class_weight={0: 0.07462311557788945, 1: 0.9253768844221105}; total time=  15.7s\n",
      "[CV] END class_weight={0: 0.07959798994974875, 1: 0.9204020100502512}; total time=  13.9s\n"
     ]
    },
    {
     "name": "stderr",
     "output_type": "stream",
     "text": [
      "/Users/oub/opt/anaconda3/lib/python3.9/site-packages/scipy/optimize/linesearch.py:327: LineSearchWarning: The line search algorithm did not converge\n",
      "  warn('The line search algorithm did not converge', LineSearchWarning)\n",
      "/Users/oub/opt/anaconda3/lib/python3.9/site-packages/sklearn/utils/optimize.py:203: UserWarning: Line Search failed\n",
      "  warnings.warn(\"Line Search failed\")\n"
     ]
    },
    {
     "name": "stdout",
     "output_type": "stream",
     "text": [
      "[CV] END class_weight={0: 0.07462311557788945, 1: 0.9253768844221105}; total time=  21.6s\n",
      "[CV] END class_weight={0: 0.07462311557788945, 1: 0.9253768844221105}; total time=  15.3s\n",
      "[CV] END class_weight={0: 0.07959798994974875, 1: 0.9204020100502512}; total time=  15.4s\n",
      "[CV] END class_weight={0: 0.07959798994974875, 1: 0.9204020100502512}; total time=  15.4s\n",
      "[CV] END class_weight={0: 0.07959798994974875, 1: 0.9204020100502512}; total time=  15.1s\n",
      "[CV] END class_weight={0: 0.07959798994974875, 1: 0.9204020100502512}; total time=  15.5s\n",
      "[CV] END class_weight={0: 0.08457286432160804, 1: 0.915427135678392}; total time=  14.2s\n"
     ]
    },
    {
     "name": "stderr",
     "output_type": "stream",
     "text": [
      "/Users/oub/opt/anaconda3/lib/python3.9/site-packages/scipy/optimize/linesearch.py:437: LineSearchWarning: Rounding errors prevent the line search from converging\n",
      "  warn(msg, LineSearchWarning)\n",
      "/Users/oub/opt/anaconda3/lib/python3.9/site-packages/scipy/optimize/linesearch.py:327: LineSearchWarning: The line search algorithm did not converge\n",
      "  warn('The line search algorithm did not converge', LineSearchWarning)\n",
      "/Users/oub/opt/anaconda3/lib/python3.9/site-packages/sklearn/utils/optimize.py:203: UserWarning: Line Search failed\n",
      "  warnings.warn(\"Line Search failed\")\n"
     ]
    },
    {
     "name": "stdout",
     "output_type": "stream",
     "text": [
      "[CV] END class_weight={0: 0.08457286432160804, 1: 0.915427135678392}; total time=  15.3s\n",
      "[CV] END class_weight={0: 0.08457286432160804, 1: 0.915427135678392}; total time=  14.9s\n"
     ]
    },
    {
     "name": "stderr",
     "output_type": "stream",
     "text": [
      "/Users/oub/opt/anaconda3/lib/python3.9/site-packages/scipy/optimize/linesearch.py:327: LineSearchWarning: The line search algorithm did not converge\n",
      "  warn('The line search algorithm did not converge', LineSearchWarning)\n",
      "/Users/oub/opt/anaconda3/lib/python3.9/site-packages/sklearn/utils/optimize.py:203: UserWarning: Line Search failed\n",
      "  warnings.warn(\"Line Search failed\")\n"
     ]
    },
    {
     "name": "stdout",
     "output_type": "stream",
     "text": [
      "[CV] END class_weight={0: 0.08457286432160804, 1: 0.915427135678392}; total time=  18.4s\n",
      "[CV] END class_weight={0: 0.08457286432160804, 1: 0.915427135678392}; total time=  14.7s\n",
      "[CV] END class_weight={0: 0.08954773869346734, 1: 0.9104522613065327}; total time=  16.2s\n",
      "[CV] END class_weight={0: 0.08954773869346734, 1: 0.9104522613065327}; total time=  13.8s\n",
      "[CV] END class_weight={0: 0.08954773869346734, 1: 0.9104522613065327}; total time=  15.1s\n",
      "[CV] END class_weight={0: 0.08954773869346734, 1: 0.9104522613065327}; total time=  18.7s\n",
      "[CV] END class_weight={0: 0.08954773869346734, 1: 0.9104522613065327}; total time=  16.7s\n",
      "[CV] END class_weight={0: 0.09452261306532664, 1: 0.9054773869346734}; total time=  15.9s\n",
      "[CV] END class_weight={0: 0.09452261306532664, 1: 0.9054773869346734}; total time=  18.3s\n",
      "[CV] END class_weight={0: 0.09452261306532664, 1: 0.9054773869346734}; total time=  17.9s\n",
      "[CV] END class_weight={0: 0.09949748743718594, 1: 0.9005025125628141}; total time=  14.0s\n",
      "[CV] END class_weight={0: 0.09452261306532664, 1: 0.9054773869346734}; total time=  17.5s\n",
      "[CV] END class_weight={0: 0.09452261306532664, 1: 0.9054773869346734}; total time=  20.7s\n",
      "[CV] END class_weight={0: 0.09949748743718594, 1: 0.9005025125628141}; total time=  20.5s\n",
      "[CV] END class_weight={0: 0.09949748743718594, 1: 0.9005025125628141}; total time=  15.6s\n",
      "[CV] END class_weight={0: 0.09949748743718594, 1: 0.9005025125628141}; total time=  15.1s\n",
      "[CV] END class_weight={0: 0.10447236180904523, 1: 0.8955276381909547}; total time=  17.4s\n"
     ]
    },
    {
     "name": "stderr",
     "output_type": "stream",
     "text": [
      "/Users/oub/opt/anaconda3/lib/python3.9/site-packages/scipy/optimize/linesearch.py:327: LineSearchWarning: The line search algorithm did not converge\n",
      "  warn('The line search algorithm did not converge', LineSearchWarning)\n",
      "/Users/oub/opt/anaconda3/lib/python3.9/site-packages/sklearn/utils/optimize.py:203: UserWarning: Line Search failed\n",
      "  warnings.warn(\"Line Search failed\")\n"
     ]
    },
    {
     "name": "stdout",
     "output_type": "stream",
     "text": [
      "[CV] END class_weight={0: 0.09949748743718594, 1: 0.9005025125628141}; total time=  22.4s\n",
      "[CV] END class_weight={0: 0.10447236180904523, 1: 0.8955276381909547}; total time=  13.2s\n",
      "[CV] END class_weight={0: 0.10447236180904523, 1: 0.8955276381909547}; total time=  17.4s\n",
      "[CV] END class_weight={0: 0.10447236180904523, 1: 0.8955276381909547}; total time=  17.6s\n"
     ]
    },
    {
     "name": "stderr",
     "output_type": "stream",
     "text": [
      "/Users/oub/opt/anaconda3/lib/python3.9/site-packages/scipy/optimize/linesearch.py:327: LineSearchWarning: The line search algorithm did not converge\n",
      "  warn('The line search algorithm did not converge', LineSearchWarning)\n",
      "/Users/oub/opt/anaconda3/lib/python3.9/site-packages/sklearn/utils/optimize.py:203: UserWarning: Line Search failed\n",
      "  warnings.warn(\"Line Search failed\")\n"
     ]
    },
    {
     "name": "stdout",
     "output_type": "stream",
     "text": [
      "[CV] END class_weight={0: 0.10447236180904523, 1: 0.8955276381909547}; total time=  19.0s\n",
      "[CV] END class_weight={0: 0.10944723618090453, 1: 0.8905527638190954}; total time=  16.2s\n"
     ]
    },
    {
     "name": "stderr",
     "output_type": "stream",
     "text": [
      "/Users/oub/opt/anaconda3/lib/python3.9/site-packages/scipy/optimize/linesearch.py:327: LineSearchWarning: The line search algorithm did not converge\n",
      "  warn('The line search algorithm did not converge', LineSearchWarning)\n",
      "/Users/oub/opt/anaconda3/lib/python3.9/site-packages/sklearn/utils/optimize.py:203: UserWarning: Line Search failed\n",
      "  warnings.warn(\"Line Search failed\")\n"
     ]
    },
    {
     "name": "stdout",
     "output_type": "stream",
     "text": [
      "[CV] END class_weight={0: 0.10944723618090453, 1: 0.8905527638190954}; total time=  19.5s\n",
      "[CV] END class_weight={0: 0.10944723618090453, 1: 0.8905527638190954}; total time=  15.6s\n"
     ]
    },
    {
     "name": "stderr",
     "output_type": "stream",
     "text": [
      "/Users/oub/opt/anaconda3/lib/python3.9/site-packages/scipy/optimize/linesearch.py:327: LineSearchWarning: The line search algorithm did not converge\n",
      "  warn('The line search algorithm did not converge', LineSearchWarning)\n",
      "/Users/oub/opt/anaconda3/lib/python3.9/site-packages/sklearn/utils/optimize.py:203: UserWarning: Line Search failed\n",
      "  warnings.warn(\"Line Search failed\")\n"
     ]
    },
    {
     "name": "stdout",
     "output_type": "stream",
     "text": [
      "[CV] END class_weight={0: 0.10944723618090453, 1: 0.8905527638190954}; total time=  18.5s\n",
      "[CV] END class_weight={0: 0.10944723618090453, 1: 0.8905527638190954}; total time=  14.1s\n"
     ]
    },
    {
     "name": "stderr",
     "output_type": "stream",
     "text": [
      "/Users/oub/opt/anaconda3/lib/python3.9/site-packages/scipy/optimize/linesearch.py:327: LineSearchWarning: The line search algorithm did not converge\n",
      "  warn('The line search algorithm did not converge', LineSearchWarning)\n",
      "/Users/oub/opt/anaconda3/lib/python3.9/site-packages/sklearn/utils/optimize.py:203: UserWarning: Line Search failed\n",
      "  warnings.warn(\"Line Search failed\")\n"
     ]
    },
    {
     "name": "stdout",
     "output_type": "stream",
     "text": [
      "[CV] END class_weight={0: 0.11442211055276383, 1: 0.8855778894472361}; total time=  14.2s\n",
      "[CV] END class_weight={0: 0.11442211055276383, 1: 0.8855778894472361}; total time=  19.4s\n",
      "[CV] END class_weight={0: 0.11442211055276383, 1: 0.8855778894472361}; total time=  15.8s\n",
      "[CV] END class_weight={0: 0.11442211055276383, 1: 0.8855778894472361}; total time=  15.6s\n",
      "[CV] END class_weight={0: 0.11939698492462311, 1: 0.8806030150753769}; total time=  12.9s\n",
      "[CV] END class_weight={0: 0.11442211055276383, 1: 0.8855778894472361}; total time=  14.0s\n",
      "[CV] END class_weight={0: 0.11939698492462311, 1: 0.8806030150753769}; total time=  13.6s\n",
      "[CV] END class_weight={0: 0.11939698492462311, 1: 0.8806030150753769}; total time=  15.3s\n",
      "[CV] END class_weight={0: 0.12437185929648241, 1: 0.8756281407035176}; total time=  15.0s\n",
      "[CV] END class_weight={0: 0.11939698492462311, 1: 0.8806030150753769}; total time=  16.7s\n",
      "[CV] END class_weight={0: 0.12437185929648241, 1: 0.8756281407035176}; total time=  15.5s\n"
     ]
    },
    {
     "name": "stderr",
     "output_type": "stream",
     "text": [
      "/Users/oub/opt/anaconda3/lib/python3.9/site-packages/scipy/optimize/linesearch.py:327: LineSearchWarning: The line search algorithm did not converge\n",
      "  warn('The line search algorithm did not converge', LineSearchWarning)\n",
      "/Users/oub/opt/anaconda3/lib/python3.9/site-packages/sklearn/utils/optimize.py:203: UserWarning: Line Search failed\n",
      "  warnings.warn(\"Line Search failed\")\n"
     ]
    },
    {
     "name": "stdout",
     "output_type": "stream",
     "text": [
      "[CV] END class_weight={0: 0.11939698492462311, 1: 0.8806030150753769}; total time=  19.9s\n",
      "[CV] END class_weight={0: 0.12437185929648241, 1: 0.8756281407035176}; total time=  15.1s\n",
      "[CV] END class_weight={0: 0.12437185929648241, 1: 0.8756281407035176}; total time=  21.5s\n"
     ]
    },
    {
     "name": "stderr",
     "output_type": "stream",
     "text": [
      "/Users/oub/opt/anaconda3/lib/python3.9/site-packages/scipy/optimize/linesearch.py:327: LineSearchWarning: The line search algorithm did not converge\n",
      "  warn('The line search algorithm did not converge', LineSearchWarning)\n",
      "/Users/oub/opt/anaconda3/lib/python3.9/site-packages/sklearn/utils/optimize.py:203: UserWarning: Line Search failed\n",
      "  warnings.warn(\"Line Search failed\")\n"
     ]
    },
    {
     "name": "stdout",
     "output_type": "stream",
     "text": [
      "[CV] END class_weight={0: 0.12437185929648241, 1: 0.8756281407035176}; total time=  20.7s\n"
     ]
    },
    {
     "name": "stderr",
     "output_type": "stream",
     "text": [
      "/Users/oub/opt/anaconda3/lib/python3.9/site-packages/scipy/optimize/linesearch.py:327: LineSearchWarning: The line search algorithm did not converge\n",
      "  warn('The line search algorithm did not converge', LineSearchWarning)\n",
      "/Users/oub/opt/anaconda3/lib/python3.9/site-packages/sklearn/utils/optimize.py:203: UserWarning: Line Search failed\n",
      "  warnings.warn(\"Line Search failed\")\n"
     ]
    },
    {
     "name": "stdout",
     "output_type": "stream",
     "text": [
      "[CV] END class_weight={0: 0.1293467336683417, 1: 0.8706532663316583}; total time=  22.0s\n",
      "[CV] END class_weight={0: 0.1293467336683417, 1: 0.8706532663316583}; total time=  13.9s\n",
      "[CV] END class_weight={0: 0.1293467336683417, 1: 0.8706532663316583}; total time=  13.4s\n",
      "[CV] END class_weight={0: 0.1293467336683417, 1: 0.8706532663316583}; total time=  15.1s\n",
      "[CV] END class_weight={0: 0.1293467336683417, 1: 0.8706532663316583}; total time=  14.0s\n",
      "[CV] END class_weight={0: 0.13432160804020102, 1: 0.865678391959799}; total time=  15.8s\n",
      "[CV] END class_weight={0: 0.13432160804020102, 1: 0.865678391959799}; total time=  14.5s\n",
      "[CV] END class_weight={0: 0.13432160804020102, 1: 0.865678391959799}; total time=  13.0s\n",
      "[CV] END class_weight={0: 0.13432160804020102, 1: 0.865678391959799}; total time=  18.3s\n",
      "[CV] END class_weight={0: 0.1392964824120603, 1: 0.8607035175879397}; total time=  14.3s\n"
     ]
    },
    {
     "name": "stderr",
     "output_type": "stream",
     "text": [
      "/Users/oub/opt/anaconda3/lib/python3.9/site-packages/scipy/optimize/linesearch.py:327: LineSearchWarning: The line search algorithm did not converge\n",
      "  warn('The line search algorithm did not converge', LineSearchWarning)\n",
      "/Users/oub/opt/anaconda3/lib/python3.9/site-packages/sklearn/utils/optimize.py:203: UserWarning: Line Search failed\n",
      "  warnings.warn(\"Line Search failed\")\n"
     ]
    },
    {
     "name": "stdout",
     "output_type": "stream",
     "text": [
      "[CV] END class_weight={0: 0.13432160804020102, 1: 0.865678391959799}; total time=  19.7s\n",
      "[CV] END class_weight={0: 0.1392964824120603, 1: 0.8607035175879397}; total time=  16.3s\n",
      "[CV] END class_weight={0: 0.1392964824120603, 1: 0.8607035175879397}; total time=  16.3s\n",
      "[CV] END class_weight={0: 0.1392964824120603, 1: 0.8607035175879397}; total time=  15.1s\n",
      "[CV] END class_weight={0: 0.1392964824120603, 1: 0.8607035175879397}; total time=  15.9s\n",
      "[CV] END class_weight={0: 0.1442713567839196, 1: 0.8557286432160804}; total time=  14.7s\n",
      "[CV] END class_weight={0: 0.1442713567839196, 1: 0.8557286432160804}; total time=  15.8s\n",
      "[CV] END class_weight={0: 0.1442713567839196, 1: 0.8557286432160804}; total time=  16.6s\n",
      "[CV] END class_weight={0: 0.1442713567839196, 1: 0.8557286432160804}; total time=  12.7s\n"
     ]
    },
    {
     "name": "stderr",
     "output_type": "stream",
     "text": [
      "/Users/oub/opt/anaconda3/lib/python3.9/site-packages/scipy/optimize/linesearch.py:437: LineSearchWarning: Rounding errors prevent the line search from converging\n",
      "  warn(msg, LineSearchWarning)\n",
      "/Users/oub/opt/anaconda3/lib/python3.9/site-packages/scipy/optimize/linesearch.py:327: LineSearchWarning: The line search algorithm did not converge\n",
      "  warn('The line search algorithm did not converge', LineSearchWarning)\n",
      "/Users/oub/opt/anaconda3/lib/python3.9/site-packages/sklearn/utils/optimize.py:203: UserWarning: Line Search failed\n",
      "  warnings.warn(\"Line Search failed\")\n"
     ]
    },
    {
     "name": "stdout",
     "output_type": "stream",
     "text": [
      "[CV] END class_weight={0: 0.1442713567839196, 1: 0.8557286432160804}; total time=  15.9s\n"
     ]
    },
    {
     "name": "stderr",
     "output_type": "stream",
     "text": [
      "/Users/oub/opt/anaconda3/lib/python3.9/site-packages/scipy/optimize/linesearch.py:437: LineSearchWarning: Rounding errors prevent the line search from converging\n",
      "  warn(msg, LineSearchWarning)\n",
      "/Users/oub/opt/anaconda3/lib/python3.9/site-packages/scipy/optimize/linesearch.py:327: LineSearchWarning: The line search algorithm did not converge\n",
      "  warn('The line search algorithm did not converge', LineSearchWarning)\n",
      "/Users/oub/opt/anaconda3/lib/python3.9/site-packages/sklearn/utils/optimize.py:203: UserWarning: Line Search failed\n",
      "  warnings.warn(\"Line Search failed\")\n"
     ]
    },
    {
     "name": "stdout",
     "output_type": "stream",
     "text": [
      "[CV] END class_weight={0: 0.1492462311557789, 1: 0.850753768844221}; total time=  15.7s\n",
      "[CV] END class_weight={0: 0.1492462311557789, 1: 0.850753768844221}; total time=  15.0s\n",
      "[CV] END class_weight={0: 0.1492462311557789, 1: 0.850753768844221}; total time=  15.4s\n"
     ]
    },
    {
     "name": "stderr",
     "output_type": "stream",
     "text": [
      "/Users/oub/opt/anaconda3/lib/python3.9/site-packages/scipy/optimize/linesearch.py:327: LineSearchWarning: The line search algorithm did not converge\n",
      "  warn('The line search algorithm did not converge', LineSearchWarning)\n",
      "/Users/oub/opt/anaconda3/lib/python3.9/site-packages/sklearn/utils/optimize.py:203: UserWarning: Line Search failed\n",
      "  warnings.warn(\"Line Search failed\")\n"
     ]
    },
    {
     "name": "stdout",
     "output_type": "stream",
     "text": [
      "[CV] END class_weight={0: 0.1492462311557789, 1: 0.850753768844221}; total time=  17.2s\n",
      "[CV] END class_weight={0: 0.1492462311557789, 1: 0.850753768844221}; total time=  13.2s\n",
      "[CV] END class_weight={0: 0.1542211055276382, 1: 0.8457788944723618}; total time=  12.9s\n",
      "[CV] END class_weight={0: 0.1542211055276382, 1: 0.8457788944723618}; total time=  13.4s\n",
      "[CV] END class_weight={0: 0.1542211055276382, 1: 0.8457788944723618}; total time=  16.7s\n"
     ]
    },
    {
     "name": "stderr",
     "output_type": "stream",
     "text": [
      "/Users/oub/opt/anaconda3/lib/python3.9/site-packages/scipy/optimize/linesearch.py:327: LineSearchWarning: The line search algorithm did not converge\n",
      "  warn('The line search algorithm did not converge', LineSearchWarning)\n",
      "/Users/oub/opt/anaconda3/lib/python3.9/site-packages/sklearn/utils/optimize.py:203: UserWarning: Line Search failed\n",
      "  warnings.warn(\"Line Search failed\")\n"
     ]
    },
    {
     "name": "stdout",
     "output_type": "stream",
     "text": [
      "[CV] END class_weight={0: 0.1542211055276382, 1: 0.8457788944723618}; total time=  20.8s\n",
      "[CV] END class_weight={0: 0.1542211055276382, 1: 0.8457788944723618}; total time=  16.8s\n",
      "[CV] END class_weight={0: 0.1591959798994975, 1: 0.8408040201005025}; total time=  17.3s\n",
      "[CV] END class_weight={0: 0.1591959798994975, 1: 0.8408040201005025}; total time=  15.3s\n",
      "[CV] END class_weight={0: 0.1591959798994975, 1: 0.8408040201005025}; total time=  16.2s\n",
      "[CV] END class_weight={0: 0.1591959798994975, 1: 0.8408040201005025}; total time=  16.0s\n",
      "[CV] END class_weight={0: 0.1591959798994975, 1: 0.8408040201005025}; total time=  16.0s\n"
     ]
    },
    {
     "name": "stderr",
     "output_type": "stream",
     "text": [
      "/Users/oub/opt/anaconda3/lib/python3.9/site-packages/scipy/optimize/linesearch.py:327: LineSearchWarning: The line search algorithm did not converge\n",
      "  warn('The line search algorithm did not converge', LineSearchWarning)\n",
      "/Users/oub/opt/anaconda3/lib/python3.9/site-packages/sklearn/utils/optimize.py:203: UserWarning: Line Search failed\n",
      "  warnings.warn(\"Line Search failed\")\n"
     ]
    },
    {
     "name": "stdout",
     "output_type": "stream",
     "text": [
      "[CV] END class_weight={0: 0.16417085427135678, 1: 0.8358291457286432}; total time=  18.1s\n",
      "[CV] END class_weight={0: 0.16417085427135678, 1: 0.8358291457286432}; total time=  13.1s\n",
      "[CV] END class_weight={0: 0.16417085427135678, 1: 0.8358291457286432}; total time=  15.2s\n",
      "[CV] END class_weight={0: 0.16417085427135678, 1: 0.8358291457286432}; total time=  16.6s\n",
      "[CV] END class_weight={0: 0.1691457286432161, 1: 0.8308542713567839}; total time=  12.2s\n",
      "[CV] END class_weight={0: 0.16417085427135678, 1: 0.8358291457286432}; total time=  15.3s\n",
      "[CV] END class_weight={0: 0.1691457286432161, 1: 0.8308542713567839}; total time=  12.1s\n",
      "[CV] END class_weight={0: 0.1691457286432161, 1: 0.8308542713567839}; total time=  16.8s\n",
      "[CV] END class_weight={0: 0.1691457286432161, 1: 0.8308542713567839}; total time=  15.6s\n",
      "[CV] END class_weight={0: 0.1691457286432161, 1: 0.8308542713567839}; total time=  17.9s\n",
      "[CV] END class_weight={0: 0.17412060301507537, 1: 0.8258793969849246}; total time=  11.9s\n",
      "[CV] END class_weight={0: 0.17412060301507537, 1: 0.8258793969849246}; total time=  18.0s\n",
      "[CV] END class_weight={0: 0.17412060301507537, 1: 0.8258793969849246}; total time=  14.9s\n",
      "[CV] END class_weight={0: 0.17412060301507537, 1: 0.8258793969849246}; total time=  13.4s\n",
      "[CV] END class_weight={0: 0.17412060301507537, 1: 0.8258793969849246}; total time=  16.6s\n",
      "[CV] END class_weight={0: 0.17909547738693468, 1: 0.8209045226130653}; total time=  12.6s\n",
      "[CV] END class_weight={0: 0.17909547738693468, 1: 0.8209045226130653}; total time=  15.1s\n",
      "[CV] END class_weight={0: 0.17909547738693468, 1: 0.8209045226130653}; total time=  13.8s\n"
     ]
    },
    {
     "name": "stderr",
     "output_type": "stream",
     "text": [
      "/Users/oub/opt/anaconda3/lib/python3.9/site-packages/scipy/optimize/linesearch.py:327: LineSearchWarning: The line search algorithm did not converge\n",
      "  warn('The line search algorithm did not converge', LineSearchWarning)\n",
      "/Users/oub/opt/anaconda3/lib/python3.9/site-packages/sklearn/utils/optimize.py:203: UserWarning: Line Search failed\n",
      "  warnings.warn(\"Line Search failed\")\n"
     ]
    },
    {
     "name": "stdout",
     "output_type": "stream",
     "text": [
      "[CV] END class_weight={0: 0.17909547738693468, 1: 0.8209045226130653}; total time=  21.7s\n",
      "[CV] END class_weight={0: 0.17909547738693468, 1: 0.8209045226130653}; total time=  28.4s\n",
      "[CV] END class_weight={0: 0.18407035175879397, 1: 0.8159296482412061}; total time=  27.2s\n",
      "[CV] END class_weight={0: 0.18407035175879397, 1: 0.8159296482412061}; total time=  29.3s\n"
     ]
    },
    {
     "name": "stderr",
     "output_type": "stream",
     "text": [
      "/Users/oub/opt/anaconda3/lib/python3.9/site-packages/scipy/optimize/linesearch.py:327: LineSearchWarning: The line search algorithm did not converge\n",
      "  warn('The line search algorithm did not converge', LineSearchWarning)\n",
      "/Users/oub/opt/anaconda3/lib/python3.9/site-packages/sklearn/utils/optimize.py:203: UserWarning: Line Search failed\n",
      "  warnings.warn(\"Line Search failed\")\n"
     ]
    },
    {
     "name": "stdout",
     "output_type": "stream",
     "text": [
      "[CV] END class_weight={0: 0.18407035175879397, 1: 0.8159296482412061}; total time=  24.1s\n",
      "[CV] END class_weight={0: 0.18407035175879397, 1: 0.8159296482412061}; total time=  15.6s\n",
      "[CV] END class_weight={0: 0.18904522613065328, 1: 0.8109547738693468}; total time=  15.7s\n"
     ]
    },
    {
     "name": "stderr",
     "output_type": "stream",
     "text": [
      "/Users/oub/opt/anaconda3/lib/python3.9/site-packages/scipy/optimize/linesearch.py:327: LineSearchWarning: The line search algorithm did not converge\n",
      "  warn('The line search algorithm did not converge', LineSearchWarning)\n",
      "/Users/oub/opt/anaconda3/lib/python3.9/site-packages/sklearn/utils/optimize.py:203: UserWarning: Line Search failed\n",
      "  warnings.warn(\"Line Search failed\")\n"
     ]
    },
    {
     "name": "stdout",
     "output_type": "stream",
     "text": [
      "[CV] END class_weight={0: 0.18407035175879397, 1: 0.8159296482412061}; total time=  27.0s\n"
     ]
    },
    {
     "name": "stderr",
     "output_type": "stream",
     "text": [
      "/Users/oub/opt/anaconda3/lib/python3.9/site-packages/scipy/optimize/linesearch.py:327: LineSearchWarning: The line search algorithm did not converge\n",
      "  warn('The line search algorithm did not converge', LineSearchWarning)\n",
      "/Users/oub/opt/anaconda3/lib/python3.9/site-packages/sklearn/utils/optimize.py:203: UserWarning: Line Search failed\n",
      "  warnings.warn(\"Line Search failed\")\n"
     ]
    },
    {
     "name": "stdout",
     "output_type": "stream",
     "text": [
      "[CV] END class_weight={0: 0.18904522613065328, 1: 0.8109547738693468}; total time=  22.4s\n",
      "[CV] END class_weight={0: 0.18904522613065328, 1: 0.8109547738693468}; total time=  21.7s\n"
     ]
    },
    {
     "name": "stderr",
     "output_type": "stream",
     "text": [
      "/Users/oub/opt/anaconda3/lib/python3.9/site-packages/scipy/optimize/linesearch.py:327: LineSearchWarning: The line search algorithm did not converge\n",
      "  warn('The line search algorithm did not converge', LineSearchWarning)\n",
      "/Users/oub/opt/anaconda3/lib/python3.9/site-packages/sklearn/utils/optimize.py:203: UserWarning: Line Search failed\n",
      "  warnings.warn(\"Line Search failed\")\n"
     ]
    },
    {
     "name": "stdout",
     "output_type": "stream",
     "text": [
      "[CV] END class_weight={0: 0.18904522613065328, 1: 0.8109547738693468}; total time=  25.5s\n"
     ]
    },
    {
     "name": "stderr",
     "output_type": "stream",
     "text": [
      "/Users/oub/opt/anaconda3/lib/python3.9/site-packages/scipy/optimize/linesearch.py:327: LineSearchWarning: The line search algorithm did not converge\n",
      "  warn('The line search algorithm did not converge', LineSearchWarning)\n",
      "/Users/oub/opt/anaconda3/lib/python3.9/site-packages/sklearn/utils/optimize.py:203: UserWarning: Line Search failed\n",
      "  warnings.warn(\"Line Search failed\")\n"
     ]
    },
    {
     "name": "stdout",
     "output_type": "stream",
     "text": [
      "[CV] END class_weight={0: 0.18904522613065328, 1: 0.8109547738693468}; total time=  24.8s\n",
      "[CV] END class_weight={0: 0.19402010050251256, 1: 0.8059798994974874}; total time=  20.5s\n"
     ]
    },
    {
     "name": "stderr",
     "output_type": "stream",
     "text": [
      "/Users/oub/opt/anaconda3/lib/python3.9/site-packages/scipy/optimize/linesearch.py:437: LineSearchWarning: Rounding errors prevent the line search from converging\n",
      "  warn(msg, LineSearchWarning)\n",
      "/Users/oub/opt/anaconda3/lib/python3.9/site-packages/scipy/optimize/linesearch.py:327: LineSearchWarning: The line search algorithm did not converge\n",
      "  warn('The line search algorithm did not converge', LineSearchWarning)\n",
      "/Users/oub/opt/anaconda3/lib/python3.9/site-packages/sklearn/utils/optimize.py:203: UserWarning: Line Search failed\n",
      "  warnings.warn(\"Line Search failed\")\n"
     ]
    },
    {
     "name": "stdout",
     "output_type": "stream",
     "text": [
      "[CV] END class_weight={0: 0.19402010050251256, 1: 0.8059798994974874}; total time=  21.4s\n",
      "[CV] END class_weight={0: 0.19402010050251256, 1: 0.8059798994974874}; total time=  21.9s\n",
      "[CV] END class_weight={0: 0.19402010050251256, 1: 0.8059798994974874}; total time=  24.2s\n",
      "[CV] END class_weight={0: 0.19402010050251256, 1: 0.8059798994974874}; total time=  25.2s\n",
      "[CV] END class_weight={0: 0.19899497487437187, 1: 0.8010050251256281}; total time=  19.3s\n"
     ]
    },
    {
     "name": "stderr",
     "output_type": "stream",
     "text": [
      "/Users/oub/opt/anaconda3/lib/python3.9/site-packages/scipy/optimize/linesearch.py:327: LineSearchWarning: The line search algorithm did not converge\n",
      "  warn('The line search algorithm did not converge', LineSearchWarning)\n",
      "/Users/oub/opt/anaconda3/lib/python3.9/site-packages/sklearn/utils/optimize.py:203: UserWarning: Line Search failed\n",
      "  warnings.warn(\"Line Search failed\")\n"
     ]
    },
    {
     "name": "stdout",
     "output_type": "stream",
     "text": [
      "[CV] END class_weight={0: 0.19899497487437187, 1: 0.8010050251256281}; total time=  18.5s\n",
      "[CV] END class_weight={0: 0.19899497487437187, 1: 0.8010050251256281}; total time=  16.9s\n"
     ]
    },
    {
     "name": "stderr",
     "output_type": "stream",
     "text": [
      "/Users/oub/opt/anaconda3/lib/python3.9/site-packages/scipy/optimize/linesearch.py:327: LineSearchWarning: The line search algorithm did not converge\n",
      "  warn('The line search algorithm did not converge', LineSearchWarning)\n",
      "/Users/oub/opt/anaconda3/lib/python3.9/site-packages/sklearn/utils/optimize.py:203: UserWarning: Line Search failed\n",
      "  warnings.warn(\"Line Search failed\")\n"
     ]
    },
    {
     "name": "stdout",
     "output_type": "stream",
     "text": [
      "[CV] END class_weight={0: 0.20396984924623116, 1: 0.7960301507537688}; total time=  19.3s\n",
      "[CV] END class_weight={0: 0.19899497487437187, 1: 0.8010050251256281}; total time=  24.9s\n",
      "[CV] END class_weight={0: 0.19899497487437187, 1: 0.8010050251256281}; total time=  25.0s\n",
      "[CV] END class_weight={0: 0.20396984924623116, 1: 0.7960301507537688}; total time=  18.3s\n",
      "[CV] END class_weight={0: 0.20396984924623116, 1: 0.7960301507537688}; total time=  20.4s\n",
      "[CV] END class_weight={0: 0.20396984924623116, 1: 0.7960301507537688}; total time=  21.4s\n",
      "[CV] END class_weight={0: 0.20396984924623116, 1: 0.7960301507537688}; total time=  21.8s\n"
     ]
    },
    {
     "name": "stderr",
     "output_type": "stream",
     "text": [
      "/Users/oub/opt/anaconda3/lib/python3.9/site-packages/scipy/optimize/linesearch.py:327: LineSearchWarning: The line search algorithm did not converge\n",
      "  warn('The line search algorithm did not converge', LineSearchWarning)\n",
      "/Users/oub/opt/anaconda3/lib/python3.9/site-packages/sklearn/utils/optimize.py:203: UserWarning: Line Search failed\n",
      "  warnings.warn(\"Line Search failed\")\n"
     ]
    },
    {
     "name": "stdout",
     "output_type": "stream",
     "text": [
      "[CV] END class_weight={0: 0.20894472361809047, 1: 0.7910552763819095}; total time=  25.0s\n",
      "[CV] END class_weight={0: 0.20894472361809047, 1: 0.7910552763819095}; total time=  20.2s\n",
      "[CV] END class_weight={0: 0.20894472361809047, 1: 0.7910552763819095}; total time=  19.8s\n"
     ]
    },
    {
     "name": "stderr",
     "output_type": "stream",
     "text": [
      "/Users/oub/opt/anaconda3/lib/python3.9/site-packages/scipy/optimize/linesearch.py:437: LineSearchWarning: Rounding errors prevent the line search from converging\n",
      "  warn(msg, LineSearchWarning)\n",
      "/Users/oub/opt/anaconda3/lib/python3.9/site-packages/scipy/optimize/linesearch.py:327: LineSearchWarning: The line search algorithm did not converge\n",
      "  warn('The line search algorithm did not converge', LineSearchWarning)\n",
      "/Users/oub/opt/anaconda3/lib/python3.9/site-packages/sklearn/utils/optimize.py:203: UserWarning: Line Search failed\n",
      "  warnings.warn(\"Line Search failed\")\n"
     ]
    },
    {
     "name": "stdout",
     "output_type": "stream",
     "text": [
      "[CV] END class_weight={0: 0.20894472361809047, 1: 0.7910552763819095}; total time=  20.9s\n",
      "[CV] END class_weight={0: 0.20894472361809047, 1: 0.7910552763819095}; total time=  19.5s\n",
      "[CV] END class_weight={0: 0.21391959798994975, 1: 0.7860804020100502}; total time=  21.2s\n",
      "[CV] END class_weight={0: 0.21391959798994975, 1: 0.7860804020100502}; total time=  23.8s\n",
      "[CV] END class_weight={0: 0.21391959798994975, 1: 0.7860804020100502}; total time=  24.0s\n",
      "[CV] END class_weight={0: 0.21391959798994975, 1: 0.7860804020100502}; total time=  21.0s\n",
      "[CV] END class_weight={0: 0.21391959798994975, 1: 0.7860804020100502}; total time=  28.0s\n",
      "[CV] END class_weight={0: 0.21889447236180906, 1: 0.781105527638191}; total time=  27.3s\n",
      "[CV] END class_weight={0: 0.21889447236180906, 1: 0.781105527638191}; total time=  29.1s\n"
     ]
    },
    {
     "name": "stderr",
     "output_type": "stream",
     "text": [
      "/Users/oub/opt/anaconda3/lib/python3.9/site-packages/scipy/optimize/linesearch.py:327: LineSearchWarning: The line search algorithm did not converge\n",
      "  warn('The line search algorithm did not converge', LineSearchWarning)\n",
      "/Users/oub/opt/anaconda3/lib/python3.9/site-packages/sklearn/utils/optimize.py:203: UserWarning: Line Search failed\n",
      "  warnings.warn(\"Line Search failed\")\n"
     ]
    },
    {
     "name": "stdout",
     "output_type": "stream",
     "text": [
      "[CV] END class_weight={0: 0.21889447236180906, 1: 0.781105527638191}; total time=  41.0s\n",
      "[CV] END class_weight={0: 0.21889447236180906, 1: 0.781105527638191}; total time=  25.9s\n",
      "[CV] END class_weight={0: 0.21889447236180906, 1: 0.781105527638191}; total time=  28.1s\n",
      "[CV] END class_weight={0: 0.22386934673366835, 1: 0.7761306532663317}; total time=  23.6s\n",
      "[CV] END class_weight={0: 0.22386934673366835, 1: 0.7761306532663317}; total time=  24.6s\n",
      "[CV] END class_weight={0: 0.22386934673366835, 1: 0.7761306532663317}; total time=  29.8s\n",
      "[CV] END class_weight={0: 0.22386934673366835, 1: 0.7761306532663317}; total time=  27.7s\n",
      "[CV] END class_weight={0: 0.22386934673366835, 1: 0.7761306532663317}; total time=  25.8s\n",
      "[CV] END class_weight={0: 0.22884422110552766, 1: 0.7711557788944723}; total time=  19.5s\n",
      "[CV] END class_weight={0: 0.22884422110552766, 1: 0.7711557788944723}; total time=  13.9s\n",
      "[CV] END class_weight={0: 0.22884422110552766, 1: 0.7711557788944723}; total time=  13.5s\n"
     ]
    },
    {
     "name": "stderr",
     "output_type": "stream",
     "text": [
      "/Users/oub/opt/anaconda3/lib/python3.9/site-packages/scipy/optimize/linesearch.py:327: LineSearchWarning: The line search algorithm did not converge\n",
      "  warn('The line search algorithm did not converge', LineSearchWarning)\n",
      "/Users/oub/opt/anaconda3/lib/python3.9/site-packages/sklearn/utils/optimize.py:203: UserWarning: Line Search failed\n",
      "  warnings.warn(\"Line Search failed\")\n"
     ]
    },
    {
     "name": "stdout",
     "output_type": "stream",
     "text": [
      "[CV] END class_weight={0: 0.22884422110552766, 1: 0.7711557788944723}; total time=  16.6s\n"
     ]
    },
    {
     "name": "stderr",
     "output_type": "stream",
     "text": [
      "/Users/oub/opt/anaconda3/lib/python3.9/site-packages/scipy/optimize/linesearch.py:327: LineSearchWarning: The line search algorithm did not converge\n",
      "  warn('The line search algorithm did not converge', LineSearchWarning)\n",
      "/Users/oub/opt/anaconda3/lib/python3.9/site-packages/sklearn/utils/optimize.py:203: UserWarning: Line Search failed\n",
      "  warnings.warn(\"Line Search failed\")\n"
     ]
    },
    {
     "name": "stdout",
     "output_type": "stream",
     "text": [
      "[CV] END class_weight={0: 0.22884422110552766, 1: 0.7711557788944723}; total time=  13.9s\n",
      "[CV] END class_weight={0: 0.23381909547738694, 1: 0.7661809045226131}; total time=  14.0s\n",
      "[CV] END class_weight={0: 0.23381909547738694, 1: 0.7661809045226131}; total time=  13.9s\n"
     ]
    },
    {
     "name": "stderr",
     "output_type": "stream",
     "text": [
      "/Users/oub/opt/anaconda3/lib/python3.9/site-packages/scipy/optimize/linesearch.py:327: LineSearchWarning: The line search algorithm did not converge\n",
      "  warn('The line search algorithm did not converge', LineSearchWarning)\n",
      "/Users/oub/opt/anaconda3/lib/python3.9/site-packages/sklearn/utils/optimize.py:203: UserWarning: Line Search failed\n",
      "  warnings.warn(\"Line Search failed\")\n"
     ]
    },
    {
     "name": "stdout",
     "output_type": "stream",
     "text": [
      "[CV] END class_weight={0: 0.23381909547738694, 1: 0.7661809045226131}; total time=  14.4s\n"
     ]
    },
    {
     "name": "stderr",
     "output_type": "stream",
     "text": [
      "/Users/oub/opt/anaconda3/lib/python3.9/site-packages/scipy/optimize/linesearch.py:327: LineSearchWarning: The line search algorithm did not converge\n",
      "  warn('The line search algorithm did not converge', LineSearchWarning)\n",
      "/Users/oub/opt/anaconda3/lib/python3.9/site-packages/sklearn/utils/optimize.py:203: UserWarning: Line Search failed\n",
      "  warnings.warn(\"Line Search failed\")\n"
     ]
    },
    {
     "name": "stdout",
     "output_type": "stream",
     "text": [
      "[CV] END class_weight={0: 0.23381909547738694, 1: 0.7661809045226131}; total time=  16.7s\n",
      "[CV] END class_weight={0: 0.23381909547738694, 1: 0.7661809045226131}; total time=  13.3s\n"
     ]
    },
    {
     "name": "stderr",
     "output_type": "stream",
     "text": [
      "/Users/oub/opt/anaconda3/lib/python3.9/site-packages/scipy/optimize/linesearch.py:327: LineSearchWarning: The line search algorithm did not converge\n",
      "  warn('The line search algorithm did not converge', LineSearchWarning)\n",
      "/Users/oub/opt/anaconda3/lib/python3.9/site-packages/sklearn/utils/optimize.py:203: UserWarning: Line Search failed\n",
      "  warnings.warn(\"Line Search failed\")\n"
     ]
    },
    {
     "name": "stdout",
     "output_type": "stream",
     "text": [
      "[CV] END class_weight={0: 0.23879396984924622, 1: 0.7612060301507537}; total time=  16.8s\n",
      "[CV] END class_weight={0: 0.23879396984924622, 1: 0.7612060301507537}; total time=  12.4s\n",
      "[CV] END class_weight={0: 0.23879396984924622, 1: 0.7612060301507537}; total time=  13.9s\n",
      "[CV] END class_weight={0: 0.23879396984924622, 1: 0.7612060301507537}; total time=  12.9s\n",
      "[CV] END class_weight={0: 0.24376884422110554, 1: 0.7562311557788944}; total time=  12.1s\n"
     ]
    },
    {
     "name": "stderr",
     "output_type": "stream",
     "text": [
      "/Users/oub/opt/anaconda3/lib/python3.9/site-packages/scipy/optimize/linesearch.py:437: LineSearchWarning: Rounding errors prevent the line search from converging\n",
      "  warn(msg, LineSearchWarning)\n",
      "/Users/oub/opt/anaconda3/lib/python3.9/site-packages/scipy/optimize/linesearch.py:327: LineSearchWarning: The line search algorithm did not converge\n",
      "  warn('The line search algorithm did not converge', LineSearchWarning)\n",
      "/Users/oub/opt/anaconda3/lib/python3.9/site-packages/sklearn/utils/optimize.py:203: UserWarning: Line Search failed\n",
      "  warnings.warn(\"Line Search failed\")\n"
     ]
    },
    {
     "name": "stdout",
     "output_type": "stream",
     "text": [
      "[CV] END class_weight={0: 0.23879396984924622, 1: 0.7612060301507537}; total time=  15.0s\n",
      "[CV] END class_weight={0: 0.24376884422110554, 1: 0.7562311557788944}; total time=  12.9s\n",
      "[CV] END class_weight={0: 0.24376884422110554, 1: 0.7562311557788944}; total time=  19.3s\n"
     ]
    },
    {
     "name": "stderr",
     "output_type": "stream",
     "text": [
      "/Users/oub/opt/anaconda3/lib/python3.9/site-packages/scipy/optimize/linesearch.py:437: LineSearchWarning: Rounding errors prevent the line search from converging\n",
      "  warn(msg, LineSearchWarning)\n",
      "/Users/oub/opt/anaconda3/lib/python3.9/site-packages/scipy/optimize/linesearch.py:327: LineSearchWarning: The line search algorithm did not converge\n",
      "  warn('The line search algorithm did not converge', LineSearchWarning)\n",
      "/Users/oub/opt/anaconda3/lib/python3.9/site-packages/sklearn/utils/optimize.py:203: UserWarning: Line Search failed\n",
      "  warnings.warn(\"Line Search failed\")\n"
     ]
    },
    {
     "name": "stdout",
     "output_type": "stream",
     "text": [
      "[CV] END class_weight={0: 0.24376884422110554, 1: 0.7562311557788944}; total time=  18.5s\n",
      "[CV] END class_weight={0: 0.24376884422110554, 1: 0.7562311557788944}; total time=  20.8s\n",
      "[CV] END class_weight={0: 0.24874371859296482, 1: 0.7512562814070352}; total time=  24.2s\n"
     ]
    },
    {
     "name": "stderr",
     "output_type": "stream",
     "text": [
      "/Users/oub/opt/anaconda3/lib/python3.9/site-packages/scipy/optimize/linesearch.py:327: LineSearchWarning: The line search algorithm did not converge\n",
      "  warn('The line search algorithm did not converge', LineSearchWarning)\n",
      "/Users/oub/opt/anaconda3/lib/python3.9/site-packages/sklearn/utils/optimize.py:203: UserWarning: Line Search failed\n",
      "  warnings.warn(\"Line Search failed\")\n"
     ]
    },
    {
     "name": "stdout",
     "output_type": "stream",
     "text": [
      "[CV] END class_weight={0: 0.24874371859296482, 1: 0.7512562814070352}; total time=  33.6s\n",
      "[CV] END class_weight={0: 0.24874371859296482, 1: 0.7512562814070352}; total time=  24.6s\n"
     ]
    },
    {
     "name": "stderr",
     "output_type": "stream",
     "text": [
      "/Users/oub/opt/anaconda3/lib/python3.9/site-packages/scipy/optimize/linesearch.py:327: LineSearchWarning: The line search algorithm did not converge\n",
      "  warn('The line search algorithm did not converge', LineSearchWarning)\n",
      "/Users/oub/opt/anaconda3/lib/python3.9/site-packages/sklearn/utils/optimize.py:203: UserWarning: Line Search failed\n",
      "  warnings.warn(\"Line Search failed\")\n"
     ]
    },
    {
     "name": "stdout",
     "output_type": "stream",
     "text": [
      "[CV] END class_weight={0: 0.24874371859296482, 1: 0.7512562814070352}; total time=  33.3s\n",
      "[CV] END class_weight={0: 0.25371859296482413, 1: 0.7462814070351759}; total time=  23.4s\n",
      "[CV] END class_weight={0: 0.25371859296482413, 1: 0.7462814070351759}; total time=  20.0s\n",
      "[CV] END class_weight={0: 0.25371859296482413, 1: 0.7462814070351759}; total time=  15.1s\n"
     ]
    },
    {
     "name": "stderr",
     "output_type": "stream",
     "text": [
      "/Users/oub/opt/anaconda3/lib/python3.9/site-packages/scipy/optimize/linesearch.py:327: LineSearchWarning: The line search algorithm did not converge\n",
      "  warn('The line search algorithm did not converge', LineSearchWarning)\n",
      "/Users/oub/opt/anaconda3/lib/python3.9/site-packages/sklearn/utils/optimize.py:203: UserWarning: Line Search failed\n",
      "  warnings.warn(\"Line Search failed\")\n"
     ]
    },
    {
     "name": "stdout",
     "output_type": "stream",
     "text": [
      "[CV] END class_weight={0: 0.24874371859296482, 1: 0.7512562814070352}; total time=  30.8s\n",
      "[CV] END class_weight={0: 0.25371859296482413, 1: 0.7462814070351759}; total time=  14.9s\n"
     ]
    },
    {
     "name": "stderr",
     "output_type": "stream",
     "text": [
      "/Users/oub/opt/anaconda3/lib/python3.9/site-packages/scipy/optimize/linesearch.py:437: LineSearchWarning: Rounding errors prevent the line search from converging\n",
      "  warn(msg, LineSearchWarning)\n",
      "/Users/oub/opt/anaconda3/lib/python3.9/site-packages/scipy/optimize/linesearch.py:327: LineSearchWarning: The line search algorithm did not converge\n",
      "  warn('The line search algorithm did not converge', LineSearchWarning)\n",
      "/Users/oub/opt/anaconda3/lib/python3.9/site-packages/sklearn/utils/optimize.py:203: UserWarning: Line Search failed\n",
      "  warnings.warn(\"Line Search failed\")\n"
     ]
    },
    {
     "name": "stdout",
     "output_type": "stream",
     "text": [
      "[CV] END class_weight={0: 0.25371859296482413, 1: 0.7462814070351759}; total time=  19.4s\n",
      "[CV] END class_weight={0: 0.2586934673366834, 1: 0.7413065326633166}; total time=  19.3s\n",
      "[CV] END class_weight={0: 0.2586934673366834, 1: 0.7413065326633166}; total time=  19.7s\n"
     ]
    },
    {
     "name": "stderr",
     "output_type": "stream",
     "text": [
      "/Users/oub/opt/anaconda3/lib/python3.9/site-packages/scipy/optimize/linesearch.py:327: LineSearchWarning: The line search algorithm did not converge\n",
      "  warn('The line search algorithm did not converge', LineSearchWarning)\n",
      "/Users/oub/opt/anaconda3/lib/python3.9/site-packages/sklearn/utils/optimize.py:203: UserWarning: Line Search failed\n",
      "  warnings.warn(\"Line Search failed\")\n"
     ]
    },
    {
     "name": "stdout",
     "output_type": "stream",
     "text": [
      "[CV] END class_weight={0: 0.2586934673366834, 1: 0.7413065326633166}; total time=  20.6s\n",
      "[CV] END class_weight={0: 0.2586934673366834, 1: 0.7413065326633166}; total time=  19.1s\n",
      "[CV] END class_weight={0: 0.2636683417085427, 1: 0.7363316582914573}; total time=  17.0s\n"
     ]
    },
    {
     "name": "stderr",
     "output_type": "stream",
     "text": [
      "/Users/oub/opt/anaconda3/lib/python3.9/site-packages/scipy/optimize/linesearch.py:327: LineSearchWarning: The line search algorithm did not converge\n",
      "  warn('The line search algorithm did not converge', LineSearchWarning)\n",
      "/Users/oub/opt/anaconda3/lib/python3.9/site-packages/sklearn/utils/optimize.py:203: UserWarning: Line Search failed\n",
      "  warnings.warn(\"Line Search failed\")\n"
     ]
    },
    {
     "name": "stdout",
     "output_type": "stream",
     "text": [
      "[CV] END class_weight={0: 0.2586934673366834, 1: 0.7413065326633166}; total time=  21.9s\n"
     ]
    },
    {
     "name": "stderr",
     "output_type": "stream",
     "text": [
      "/Users/oub/opt/anaconda3/lib/python3.9/site-packages/scipy/optimize/linesearch.py:327: LineSearchWarning: The line search algorithm did not converge\n",
      "  warn('The line search algorithm did not converge', LineSearchWarning)\n",
      "/Users/oub/opt/anaconda3/lib/python3.9/site-packages/sklearn/utils/optimize.py:203: UserWarning: Line Search failed\n",
      "  warnings.warn(\"Line Search failed\")\n"
     ]
    },
    {
     "name": "stdout",
     "output_type": "stream",
     "text": [
      "[CV] END class_weight={0: 0.2636683417085427, 1: 0.7363316582914573}; total time=  16.4s\n",
      "[CV] END class_weight={0: 0.2636683417085427, 1: 0.7363316582914573}; total time=  13.7s\n"
     ]
    },
    {
     "name": "stderr",
     "output_type": "stream",
     "text": [
      "/Users/oub/opt/anaconda3/lib/python3.9/site-packages/scipy/optimize/linesearch.py:437: LineSearchWarning: Rounding errors prevent the line search from converging\n",
      "  warn(msg, LineSearchWarning)\n",
      "/Users/oub/opt/anaconda3/lib/python3.9/site-packages/scipy/optimize/linesearch.py:327: LineSearchWarning: The line search algorithm did not converge\n",
      "  warn('The line search algorithm did not converge', LineSearchWarning)\n",
      "/Users/oub/opt/anaconda3/lib/python3.9/site-packages/sklearn/utils/optimize.py:203: UserWarning: Line Search failed\n",
      "  warnings.warn(\"Line Search failed\")\n"
     ]
    },
    {
     "name": "stdout",
     "output_type": "stream",
     "text": [
      "[CV] END class_weight={0: 0.2636683417085427, 1: 0.7363316582914573}; total time=  14.0s\n"
     ]
    },
    {
     "name": "stderr",
     "output_type": "stream",
     "text": [
      "/Users/oub/opt/anaconda3/lib/python3.9/site-packages/scipy/optimize/linesearch.py:327: LineSearchWarning: The line search algorithm did not converge\n",
      "  warn('The line search algorithm did not converge', LineSearchWarning)\n",
      "/Users/oub/opt/anaconda3/lib/python3.9/site-packages/sklearn/utils/optimize.py:203: UserWarning: Line Search failed\n",
      "  warnings.warn(\"Line Search failed\")\n"
     ]
    },
    {
     "name": "stdout",
     "output_type": "stream",
     "text": [
      "[CV] END class_weight={0: 0.2636683417085427, 1: 0.7363316582914573}; total time=  17.5s\n",
      "[CV] END class_weight={0: 0.26864321608040204, 1: 0.731356783919598}; total time=  13.9s\n"
     ]
    },
    {
     "name": "stderr",
     "output_type": "stream",
     "text": [
      "/Users/oub/opt/anaconda3/lib/python3.9/site-packages/scipy/optimize/linesearch.py:437: LineSearchWarning: Rounding errors prevent the line search from converging\n",
      "  warn(msg, LineSearchWarning)\n",
      "/Users/oub/opt/anaconda3/lib/python3.9/site-packages/scipy/optimize/linesearch.py:327: LineSearchWarning: The line search algorithm did not converge\n",
      "  warn('The line search algorithm did not converge', LineSearchWarning)\n",
      "/Users/oub/opt/anaconda3/lib/python3.9/site-packages/sklearn/utils/optimize.py:203: UserWarning: Line Search failed\n",
      "  warnings.warn(\"Line Search failed\")\n"
     ]
    },
    {
     "name": "stdout",
     "output_type": "stream",
     "text": [
      "[CV] END class_weight={0: 0.26864321608040204, 1: 0.731356783919598}; total time=  14.4s\n",
      "[CV] END class_weight={0: 0.26864321608040204, 1: 0.731356783919598}; total time=  18.3s\n",
      "[CV] END class_weight={0: 0.26864321608040204, 1: 0.731356783919598}; total time=  14.3s\n",
      "[CV] END class_weight={0: 0.2736180904522613, 1: 0.7263819095477386}; total time=  13.4s\n",
      "[CV] END class_weight={0: 0.26864321608040204, 1: 0.731356783919598}; total time=  15.2s\n",
      "[CV] END class_weight={0: 0.2736180904522613, 1: 0.7263819095477386}; total time=  14.2s\n",
      "[CV] END class_weight={0: 0.2736180904522613, 1: 0.7263819095477386}; total time=  11.4s\n",
      "[CV] END class_weight={0: 0.2736180904522613, 1: 0.7263819095477386}; total time=  13.0s\n",
      "[CV] END class_weight={0: 0.2785929648241206, 1: 0.7214070351758795}; total time=  12.4s\n",
      "[CV] END class_weight={0: 0.2736180904522613, 1: 0.7263819095477386}; total time=  15.1s\n",
      "[CV] END class_weight={0: 0.2785929648241206, 1: 0.7214070351758795}; total time=  12.2s\n",
      "[CV] END class_weight={0: 0.2785929648241206, 1: 0.7214070351758795}; total time=  13.1s\n",
      "[CV] END class_weight={0: 0.2785929648241206, 1: 0.7214070351758795}; total time=  12.2s\n",
      "[CV] END class_weight={0: 0.2835678391959799, 1: 0.7164321608040201}; total time=  14.6s\n"
     ]
    },
    {
     "name": "stderr",
     "output_type": "stream",
     "text": [
      "/Users/oub/opt/anaconda3/lib/python3.9/site-packages/scipy/optimize/linesearch.py:327: LineSearchWarning: The line search algorithm did not converge\n",
      "  warn('The line search algorithm did not converge', LineSearchWarning)\n",
      "/Users/oub/opt/anaconda3/lib/python3.9/site-packages/sklearn/utils/optimize.py:203: UserWarning: Line Search failed\n",
      "  warnings.warn(\"Line Search failed\")\n"
     ]
    },
    {
     "name": "stdout",
     "output_type": "stream",
     "text": [
      "[CV] END class_weight={0: 0.2785929648241206, 1: 0.7214070351758795}; total time=  17.6s\n"
     ]
    },
    {
     "name": "stderr",
     "output_type": "stream",
     "text": [
      "/Users/oub/opt/anaconda3/lib/python3.9/site-packages/scipy/optimize/linesearch.py:327: LineSearchWarning: The line search algorithm did not converge\n",
      "  warn('The line search algorithm did not converge', LineSearchWarning)\n",
      "/Users/oub/opt/anaconda3/lib/python3.9/site-packages/sklearn/utils/optimize.py:203: UserWarning: Line Search failed\n",
      "  warnings.warn(\"Line Search failed\")\n"
     ]
    },
    {
     "name": "stdout",
     "output_type": "stream",
     "text": [
      "[CV] END class_weight={0: 0.2835678391959799, 1: 0.7164321608040201}; total time=  15.4s\n",
      "[CV] END class_weight={0: 0.2835678391959799, 1: 0.7164321608040201}; total time=  12.4s\n",
      "[CV] END class_weight={0: 0.2835678391959799, 1: 0.7164321608040201}; total time=  15.2s\n"
     ]
    },
    {
     "name": "stderr",
     "output_type": "stream",
     "text": [
      "/Users/oub/opt/anaconda3/lib/python3.9/site-packages/scipy/optimize/linesearch.py:327: LineSearchWarning: The line search algorithm did not converge\n",
      "  warn('The line search algorithm did not converge', LineSearchWarning)\n",
      "/Users/oub/opt/anaconda3/lib/python3.9/site-packages/sklearn/utils/optimize.py:203: UserWarning: Line Search failed\n",
      "  warnings.warn(\"Line Search failed\")\n"
     ]
    },
    {
     "name": "stdout",
     "output_type": "stream",
     "text": [
      "[CV] END class_weight={0: 0.2835678391959799, 1: 0.7164321608040201}; total time=  13.7s\n",
      "[CV] END class_weight={0: 0.2885427135678392, 1: 0.7114572864321608}; total time=  14.9s\n",
      "[CV] END class_weight={0: 0.2885427135678392, 1: 0.7114572864321608}; total time=  15.1s\n",
      "[CV] END class_weight={0: 0.2885427135678392, 1: 0.7114572864321608}; total time=  17.3s\n",
      "[CV] END class_weight={0: 0.2885427135678392, 1: 0.7114572864321608}; total time=  15.8s\n",
      "[CV] END class_weight={0: 0.2885427135678392, 1: 0.7114572864321608}; total time=  11.6s\n"
     ]
    },
    {
     "name": "stderr",
     "output_type": "stream",
     "text": [
      "/Users/oub/opt/anaconda3/lib/python3.9/site-packages/scipy/optimize/linesearch.py:327: LineSearchWarning: The line search algorithm did not converge\n",
      "  warn('The line search algorithm did not converge', LineSearchWarning)\n",
      "/Users/oub/opt/anaconda3/lib/python3.9/site-packages/sklearn/utils/optimize.py:203: UserWarning: Line Search failed\n",
      "  warnings.warn(\"Line Search failed\")\n"
     ]
    },
    {
     "name": "stdout",
     "output_type": "stream",
     "text": [
      "[CV] END class_weight={0: 0.2935175879396985, 1: 0.7064824120603015}; total time=  14.6s\n",
      "[CV] END class_weight={0: 0.2935175879396985, 1: 0.7064824120603015}; total time=  13.3s\n",
      "[CV] END class_weight={0: 0.2935175879396985, 1: 0.7064824120603015}; total time=  13.7s\n",
      "[CV] END class_weight={0: 0.2935175879396985, 1: 0.7064824120603015}; total time=  12.4s\n"
     ]
    },
    {
     "name": "stderr",
     "output_type": "stream",
     "text": [
      "/Users/oub/opt/anaconda3/lib/python3.9/site-packages/scipy/optimize/linesearch.py:327: LineSearchWarning: The line search algorithm did not converge\n",
      "  warn('The line search algorithm did not converge', LineSearchWarning)\n",
      "/Users/oub/opt/anaconda3/lib/python3.9/site-packages/sklearn/utils/optimize.py:203: UserWarning: Line Search failed\n",
      "  warnings.warn(\"Line Search failed\")\n"
     ]
    },
    {
     "name": "stdout",
     "output_type": "stream",
     "text": [
      "[CV] END class_weight={0: 0.2935175879396985, 1: 0.7064824120603015}; total time=  16.0s\n"
     ]
    },
    {
     "name": "stderr",
     "output_type": "stream",
     "text": [
      "/Users/oub/opt/anaconda3/lib/python3.9/site-packages/scipy/optimize/linesearch.py:327: LineSearchWarning: The line search algorithm did not converge\n",
      "  warn('The line search algorithm did not converge', LineSearchWarning)\n",
      "/Users/oub/opt/anaconda3/lib/python3.9/site-packages/sklearn/utils/optimize.py:203: UserWarning: Line Search failed\n",
      "  warnings.warn(\"Line Search failed\")\n"
     ]
    },
    {
     "name": "stdout",
     "output_type": "stream",
     "text": [
      "[CV] END class_weight={0: 0.2984924623115578, 1: 0.7015075376884422}; total time=  16.6s\n"
     ]
    },
    {
     "name": "stderr",
     "output_type": "stream",
     "text": [
      "/Users/oub/opt/anaconda3/lib/python3.9/site-packages/scipy/optimize/linesearch.py:327: LineSearchWarning: The line search algorithm did not converge\n",
      "  warn('The line search algorithm did not converge', LineSearchWarning)\n",
      "/Users/oub/opt/anaconda3/lib/python3.9/site-packages/sklearn/utils/optimize.py:203: UserWarning: Line Search failed\n",
      "  warnings.warn(\"Line Search failed\")\n"
     ]
    },
    {
     "name": "stdout",
     "output_type": "stream",
     "text": [
      "[CV] END class_weight={0: 0.2984924623115578, 1: 0.7015075376884422}; total time=  17.9s\n",
      "[CV] END class_weight={0: 0.2984924623115578, 1: 0.7015075376884422}; total time=  12.1s\n",
      "[CV] END class_weight={0: 0.2984924623115578, 1: 0.7015075376884422}; total time=  14.7s\n",
      "[CV] END class_weight={0: 0.3034673366834171, 1: 0.6965326633165829}; total time=  11.5s\n"
     ]
    },
    {
     "name": "stderr",
     "output_type": "stream",
     "text": [
      "/Users/oub/opt/anaconda3/lib/python3.9/site-packages/scipy/optimize/linesearch.py:327: LineSearchWarning: The line search algorithm did not converge\n",
      "  warn('The line search algorithm did not converge', LineSearchWarning)\n",
      "/Users/oub/opt/anaconda3/lib/python3.9/site-packages/sklearn/utils/optimize.py:203: UserWarning: Line Search failed\n",
      "  warnings.warn(\"Line Search failed\")\n"
     ]
    },
    {
     "name": "stdout",
     "output_type": "stream",
     "text": [
      "[CV] END class_weight={0: 0.2984924623115578, 1: 0.7015075376884422}; total time=  15.6s\n",
      "[CV] END class_weight={0: 0.3034673366834171, 1: 0.6965326633165829}; total time=  14.8s\n",
      "[CV] END class_weight={0: 0.3034673366834171, 1: 0.6965326633165829}; total time=  15.5s\n",
      "[CV] END class_weight={0: 0.3034673366834171, 1: 0.6965326633165829}; total time=  16.8s\n",
      "[CV] END class_weight={0: 0.3084422110552764, 1: 0.6915577889447235}; total time=  13.3s\n",
      "[CV] END class_weight={0: 0.3034673366834171, 1: 0.6965326633165829}; total time=  16.4s\n",
      "[CV] END class_weight={0: 0.3084422110552764, 1: 0.6915577889447235}; total time=  12.1s\n"
     ]
    },
    {
     "name": "stderr",
     "output_type": "stream",
     "text": [
      "/Users/oub/opt/anaconda3/lib/python3.9/site-packages/scipy/optimize/linesearch.py:437: LineSearchWarning: Rounding errors prevent the line search from converging\n",
      "  warn(msg, LineSearchWarning)\n",
      "/Users/oub/opt/anaconda3/lib/python3.9/site-packages/scipy/optimize/linesearch.py:327: LineSearchWarning: The line search algorithm did not converge\n",
      "  warn('The line search algorithm did not converge', LineSearchWarning)\n",
      "/Users/oub/opt/anaconda3/lib/python3.9/site-packages/sklearn/utils/optimize.py:203: UserWarning: Line Search failed\n",
      "  warnings.warn(\"Line Search failed\")\n"
     ]
    },
    {
     "name": "stdout",
     "output_type": "stream",
     "text": [
      "[CV] END class_weight={0: 0.3084422110552764, 1: 0.6915577889447235}; total time=  12.8s\n",
      "[CV] END class_weight={0: 0.3084422110552764, 1: 0.6915577889447235}; total time=  16.3s\n"
     ]
    },
    {
     "name": "stderr",
     "output_type": "stream",
     "text": [
      "/Users/oub/opt/anaconda3/lib/python3.9/site-packages/scipy/optimize/linesearch.py:327: LineSearchWarning: The line search algorithm did not converge\n",
      "  warn('The line search algorithm did not converge', LineSearchWarning)\n",
      "/Users/oub/opt/anaconda3/lib/python3.9/site-packages/sklearn/utils/optimize.py:203: UserWarning: Line Search failed\n",
      "  warnings.warn(\"Line Search failed\")\n"
     ]
    },
    {
     "name": "stdout",
     "output_type": "stream",
     "text": [
      "[CV] END class_weight={0: 0.3084422110552764, 1: 0.6915577889447235}; total time=  21.5s\n",
      "[CV] END class_weight={0: 0.3134170854271357, 1: 0.6865829145728644}; total time=  13.2s\n",
      "[CV] END class_weight={0: 0.3134170854271357, 1: 0.6865829145728644}; total time=  13.7s\n",
      "[CV] END class_weight={0: 0.3134170854271357, 1: 0.6865829145728644}; total time=  14.5s\n",
      "[CV] END class_weight={0: 0.3134170854271357, 1: 0.6865829145728644}; total time=  11.5s\n"
     ]
    },
    {
     "name": "stderr",
     "output_type": "stream",
     "text": [
      "/Users/oub/opt/anaconda3/lib/python3.9/site-packages/scipy/optimize/linesearch.py:437: LineSearchWarning: Rounding errors prevent the line search from converging\n",
      "  warn(msg, LineSearchWarning)\n",
      "/Users/oub/opt/anaconda3/lib/python3.9/site-packages/scipy/optimize/linesearch.py:327: LineSearchWarning: The line search algorithm did not converge\n",
      "  warn('The line search algorithm did not converge', LineSearchWarning)\n",
      "/Users/oub/opt/anaconda3/lib/python3.9/site-packages/sklearn/utils/optimize.py:203: UserWarning: Line Search failed\n",
      "  warnings.warn(\"Line Search failed\")\n"
     ]
    },
    {
     "name": "stdout",
     "output_type": "stream",
     "text": [
      "[CV] END class_weight={0: 0.3134170854271357, 1: 0.6865829145728644}; total time=  14.4s\n",
      "[CV] END class_weight={0: 0.318391959798995, 1: 0.681608040201005}; total time=  13.3s\n"
     ]
    },
    {
     "name": "stderr",
     "output_type": "stream",
     "text": [
      "/Users/oub/opt/anaconda3/lib/python3.9/site-packages/scipy/optimize/linesearch.py:327: LineSearchWarning: The line search algorithm did not converge\n",
      "  warn('The line search algorithm did not converge', LineSearchWarning)\n",
      "/Users/oub/opt/anaconda3/lib/python3.9/site-packages/sklearn/utils/optimize.py:203: UserWarning: Line Search failed\n",
      "  warnings.warn(\"Line Search failed\")\n"
     ]
    },
    {
     "name": "stdout",
     "output_type": "stream",
     "text": [
      "[CV] END class_weight={0: 0.318391959798995, 1: 0.681608040201005}; total time=  16.4s\n",
      "[CV] END class_weight={0: 0.318391959798995, 1: 0.681608040201005}; total time=  15.2s\n",
      "[CV] END class_weight={0: 0.318391959798995, 1: 0.681608040201005}; total time=  11.2s\n",
      "[CV] END class_weight={0: 0.318391959798995, 1: 0.681608040201005}; total time=  15.4s\n",
      "[CV] END class_weight={0: 0.32336683417085427, 1: 0.6766331658291458}; total time=  11.1s\n"
     ]
    },
    {
     "name": "stderr",
     "output_type": "stream",
     "text": [
      "/Users/oub/opt/anaconda3/lib/python3.9/site-packages/scipy/optimize/linesearch.py:327: LineSearchWarning: The line search algorithm did not converge\n",
      "  warn('The line search algorithm did not converge', LineSearchWarning)\n",
      "/Users/oub/opt/anaconda3/lib/python3.9/site-packages/sklearn/utils/optimize.py:203: UserWarning: Line Search failed\n",
      "  warnings.warn(\"Line Search failed\")\n"
     ]
    },
    {
     "name": "stdout",
     "output_type": "stream",
     "text": [
      "[CV] END class_weight={0: 0.32336683417085427, 1: 0.6766331658291458}; total time=  17.7s\n",
      "[CV] END class_weight={0: 0.32336683417085427, 1: 0.6766331658291458}; total time=  15.5s\n",
      "[CV] END class_weight={0: 0.32336683417085427, 1: 0.6766331658291458}; total time=  14.2s\n"
     ]
    },
    {
     "name": "stderr",
     "output_type": "stream",
     "text": [
      "/Users/oub/opt/anaconda3/lib/python3.9/site-packages/scipy/optimize/linesearch.py:327: LineSearchWarning: The line search algorithm did not converge\n",
      "  warn('The line search algorithm did not converge', LineSearchWarning)\n",
      "/Users/oub/opt/anaconda3/lib/python3.9/site-packages/sklearn/utils/optimize.py:203: UserWarning: Line Search failed\n",
      "  warnings.warn(\"Line Search failed\")\n"
     ]
    },
    {
     "name": "stdout",
     "output_type": "stream",
     "text": [
      "[CV] END class_weight={0: 0.32336683417085427, 1: 0.6766331658291458}; total time=  18.9s\n",
      "[CV] END class_weight={0: 0.32834170854271355, 1: 0.6716582914572864}; total time=  18.1s\n",
      "[CV] END class_weight={0: 0.32834170854271355, 1: 0.6716582914572864}; total time=  17.1s\n"
     ]
    },
    {
     "name": "stderr",
     "output_type": "stream",
     "text": [
      "/Users/oub/opt/anaconda3/lib/python3.9/site-packages/scipy/optimize/linesearch.py:327: LineSearchWarning: The line search algorithm did not converge\n",
      "  warn('The line search algorithm did not converge', LineSearchWarning)\n",
      "/Users/oub/opt/anaconda3/lib/python3.9/site-packages/sklearn/utils/optimize.py:203: UserWarning: Line Search failed\n",
      "  warnings.warn(\"Line Search failed\")\n"
     ]
    },
    {
     "name": "stdout",
     "output_type": "stream",
     "text": [
      "[CV] END class_weight={0: 0.32834170854271355, 1: 0.6716582914572864}; total time=  20.2s\n"
     ]
    },
    {
     "name": "stderr",
     "output_type": "stream",
     "text": [
      "/Users/oub/opt/anaconda3/lib/python3.9/site-packages/scipy/optimize/linesearch.py:327: LineSearchWarning: The line search algorithm did not converge\n",
      "  warn('The line search algorithm did not converge', LineSearchWarning)\n",
      "/Users/oub/opt/anaconda3/lib/python3.9/site-packages/sklearn/utils/optimize.py:203: UserWarning: Line Search failed\n",
      "  warnings.warn(\"Line Search failed\")\n"
     ]
    },
    {
     "name": "stdout",
     "output_type": "stream",
     "text": [
      "[CV] END class_weight={0: 0.32834170854271355, 1: 0.6716582914572864}; total time=  27.6s\n",
      "[CV] END class_weight={0: 0.32834170854271355, 1: 0.6716582914572864}; total time=  14.9s\n",
      "[CV] END class_weight={0: 0.3333165829145729, 1: 0.6666834170854271}; total time=  15.1s\n",
      "[CV] END class_weight={0: 0.3333165829145729, 1: 0.6666834170854271}; total time=  14.9s\n",
      "[CV] END class_weight={0: 0.3333165829145729, 1: 0.6666834170854271}; total time=  13.4s\n"
     ]
    },
    {
     "name": "stderr",
     "output_type": "stream",
     "text": [
      "/Users/oub/opt/anaconda3/lib/python3.9/site-packages/scipy/optimize/linesearch.py:327: LineSearchWarning: The line search algorithm did not converge\n",
      "  warn('The line search algorithm did not converge', LineSearchWarning)\n",
      "/Users/oub/opt/anaconda3/lib/python3.9/site-packages/sklearn/utils/optimize.py:203: UserWarning: Line Search failed\n",
      "  warnings.warn(\"Line Search failed\")\n"
     ]
    },
    {
     "name": "stdout",
     "output_type": "stream",
     "text": [
      "[CV] END class_weight={0: 0.3333165829145729, 1: 0.6666834170854271}; total time=  16.4s\n",
      "[CV] END class_weight={0: 0.3333165829145729, 1: 0.6666834170854271}; total time=  14.2s\n",
      "[CV] END class_weight={0: 0.3382914572864322, 1: 0.6617085427135678}; total time=  14.1s\n",
      "[CV] END class_weight={0: 0.3382914572864322, 1: 0.6617085427135678}; total time=  14.8s\n",
      "[CV] END class_weight={0: 0.3382914572864322, 1: 0.6617085427135678}; total time=  16.5s\n"
     ]
    },
    {
     "name": "stderr",
     "output_type": "stream",
     "text": [
      "/Users/oub/opt/anaconda3/lib/python3.9/site-packages/scipy/optimize/linesearch.py:327: LineSearchWarning: The line search algorithm did not converge\n",
      "  warn('The line search algorithm did not converge', LineSearchWarning)\n",
      "/Users/oub/opt/anaconda3/lib/python3.9/site-packages/sklearn/utils/optimize.py:203: UserWarning: Line Search failed\n",
      "  warnings.warn(\"Line Search failed\")\n"
     ]
    },
    {
     "name": "stdout",
     "output_type": "stream",
     "text": [
      "[CV] END class_weight={0: 0.3382914572864322, 1: 0.6617085427135678}; total time=  16.8s\n",
      "[CV] END class_weight={0: 0.34326633165829146, 1: 0.6567336683417085}; total time=  13.3s\n"
     ]
    },
    {
     "name": "stderr",
     "output_type": "stream",
     "text": [
      "/Users/oub/opt/anaconda3/lib/python3.9/site-packages/scipy/optimize/linesearch.py:327: LineSearchWarning: The line search algorithm did not converge\n",
      "  warn('The line search algorithm did not converge', LineSearchWarning)\n",
      "/Users/oub/opt/anaconda3/lib/python3.9/site-packages/sklearn/utils/optimize.py:203: UserWarning: Line Search failed\n",
      "  warnings.warn(\"Line Search failed\")\n"
     ]
    },
    {
     "name": "stdout",
     "output_type": "stream",
     "text": [
      "[CV] END class_weight={0: 0.3382914572864322, 1: 0.6617085427135678}; total time=  17.7s\n",
      "[CV] END class_weight={0: 0.34326633165829146, 1: 0.6567336683417085}; total time=  13.2s\n",
      "[CV] END class_weight={0: 0.34326633165829146, 1: 0.6567336683417085}; total time=  13.7s\n",
      "[CV] END class_weight={0: 0.34326633165829146, 1: 0.6567336683417085}; total time=  17.2s\n",
      "[CV] END class_weight={0: 0.34326633165829146, 1: 0.6567336683417085}; total time=  14.9s\n",
      "[CV] END class_weight={0: 0.34824120603015074, 1: 0.6517587939698493}; total time=  14.3s\n",
      "[CV] END class_weight={0: 0.34824120603015074, 1: 0.6517587939698493}; total time=  17.6s\n",
      "[CV] END class_weight={0: 0.34824120603015074, 1: 0.6517587939698493}; total time=  13.1s\n",
      "[CV] END class_weight={0: 0.34824120603015074, 1: 0.6517587939698493}; total time=  11.9s\n",
      "[CV] END class_weight={0: 0.34824120603015074, 1: 0.6517587939698493}; total time=  13.6s\n",
      "[CV] END class_weight={0: 0.3532160804020101, 1: 0.6467839195979899}; total time=  14.6s\n",
      "[CV] END class_weight={0: 0.3532160804020101, 1: 0.6467839195979899}; total time=  14.8s\n",
      "[CV] END class_weight={0: 0.3532160804020101, 1: 0.6467839195979899}; total time=  16.1s\n",
      "[CV] END class_weight={0: 0.3532160804020101, 1: 0.6467839195979899}; total time=  15.3s\n",
      "[CV] END class_weight={0: 0.3532160804020101, 1: 0.6467839195979899}; total time=  15.9s\n",
      "[CV] END class_weight={0: 0.35819095477386936, 1: 0.6418090452261307}; total time=  15.7s\n",
      "[CV] END class_weight={0: 0.35819095477386936, 1: 0.6418090452261307}; total time=  18.1s\n",
      "[CV] END class_weight={0: 0.35819095477386936, 1: 0.6418090452261307}; total time=  14.2s\n"
     ]
    },
    {
     "name": "stderr",
     "output_type": "stream",
     "text": [
      "/Users/oub/opt/anaconda3/lib/python3.9/site-packages/scipy/optimize/linesearch.py:437: LineSearchWarning: Rounding errors prevent the line search from converging\n",
      "  warn(msg, LineSearchWarning)\n",
      "/Users/oub/opt/anaconda3/lib/python3.9/site-packages/scipy/optimize/linesearch.py:327: LineSearchWarning: The line search algorithm did not converge\n",
      "  warn('The line search algorithm did not converge', LineSearchWarning)\n",
      "/Users/oub/opt/anaconda3/lib/python3.9/site-packages/sklearn/utils/optimize.py:203: UserWarning: Line Search failed\n",
      "  warnings.warn(\"Line Search failed\")\n"
     ]
    },
    {
     "name": "stdout",
     "output_type": "stream",
     "text": [
      "[CV] END class_weight={0: 0.35819095477386936, 1: 0.6418090452261307}; total time=  16.8s\n",
      "[CV] END class_weight={0: 0.35819095477386936, 1: 0.6418090452261307}; total time=  18.0s\n",
      "[CV] END class_weight={0: 0.36316582914572865, 1: 0.6368341708542713}; total time=  15.3s\n",
      "[CV] END class_weight={0: 0.36316582914572865, 1: 0.6368341708542713}; total time=  14.5s\n",
      "[CV] END class_weight={0: 0.36316582914572865, 1: 0.6368341708542713}; total time=  15.1s\n",
      "[CV] END class_weight={0: 0.36316582914572865, 1: 0.6368341708542713}; total time=  17.2s\n"
     ]
    },
    {
     "name": "stderr",
     "output_type": "stream",
     "text": [
      "/Users/oub/opt/anaconda3/lib/python3.9/site-packages/scipy/optimize/linesearch.py:327: LineSearchWarning: The line search algorithm did not converge\n",
      "  warn('The line search algorithm did not converge', LineSearchWarning)\n",
      "/Users/oub/opt/anaconda3/lib/python3.9/site-packages/sklearn/utils/optimize.py:203: UserWarning: Line Search failed\n",
      "  warnings.warn(\"Line Search failed\")\n"
     ]
    },
    {
     "name": "stdout",
     "output_type": "stream",
     "text": [
      "[CV] END class_weight={0: 0.36316582914572865, 1: 0.6368341708542713}; total time=  25.0s\n"
     ]
    },
    {
     "name": "stderr",
     "output_type": "stream",
     "text": [
      "/Users/oub/opt/anaconda3/lib/python3.9/site-packages/scipy/optimize/linesearch.py:327: LineSearchWarning: The line search algorithm did not converge\n",
      "  warn('The line search algorithm did not converge', LineSearchWarning)\n",
      "/Users/oub/opt/anaconda3/lib/python3.9/site-packages/sklearn/utils/optimize.py:203: UserWarning: Line Search failed\n",
      "  warnings.warn(\"Line Search failed\")\n"
     ]
    },
    {
     "name": "stdout",
     "output_type": "stream",
     "text": [
      "[CV] END class_weight={0: 0.36814070351758793, 1: 0.6318592964824121}; total time=  21.0s\n",
      "[CV] END class_weight={0: 0.36814070351758793, 1: 0.6318592964824121}; total time=  14.3s\n",
      "[CV] END class_weight={0: 0.36814070351758793, 1: 0.6318592964824121}; total time=  12.9s\n",
      "[CV] END class_weight={0: 0.36814070351758793, 1: 0.6318592964824121}; total time=  15.3s\n",
      "[CV] END class_weight={0: 0.36814070351758793, 1: 0.6318592964824121}; total time=  13.9s\n",
      "[CV] END class_weight={0: 0.37311557788944727, 1: 0.6268844221105527}; total time=  14.4s\n",
      "[CV] END class_weight={0: 0.37311557788944727, 1: 0.6268844221105527}; total time=  15.5s\n"
     ]
    },
    {
     "name": "stderr",
     "output_type": "stream",
     "text": [
      "/Users/oub/opt/anaconda3/lib/python3.9/site-packages/scipy/optimize/linesearch.py:327: LineSearchWarning: The line search algorithm did not converge\n",
      "  warn('The line search algorithm did not converge', LineSearchWarning)\n",
      "/Users/oub/opt/anaconda3/lib/python3.9/site-packages/sklearn/utils/optimize.py:203: UserWarning: Line Search failed\n",
      "  warnings.warn(\"Line Search failed\")\n"
     ]
    },
    {
     "name": "stdout",
     "output_type": "stream",
     "text": [
      "[CV] END class_weight={0: 0.37311557788944727, 1: 0.6268844221105527}; total time=  18.3s\n",
      "[CV] END class_weight={0: 0.37311557788944727, 1: 0.6268844221105527}; total time=  14.3s\n"
     ]
    },
    {
     "name": "stderr",
     "output_type": "stream",
     "text": [
      "/Users/oub/opt/anaconda3/lib/python3.9/site-packages/scipy/optimize/linesearch.py:327: LineSearchWarning: The line search algorithm did not converge\n",
      "  warn('The line search algorithm did not converge', LineSearchWarning)\n",
      "/Users/oub/opt/anaconda3/lib/python3.9/site-packages/sklearn/utils/optimize.py:203: UserWarning: Line Search failed\n",
      "  warnings.warn(\"Line Search failed\")\n"
     ]
    },
    {
     "name": "stdout",
     "output_type": "stream",
     "text": [
      "[CV] END class_weight={0: 0.37311557788944727, 1: 0.6268844221105527}; total time=  19.3s\n"
     ]
    },
    {
     "name": "stderr",
     "output_type": "stream",
     "text": [
      "/Users/oub/opt/anaconda3/lib/python3.9/site-packages/scipy/optimize/linesearch.py:327: LineSearchWarning: The line search algorithm did not converge\n",
      "  warn('The line search algorithm did not converge', LineSearchWarning)\n",
      "/Users/oub/opt/anaconda3/lib/python3.9/site-packages/sklearn/utils/optimize.py:203: UserWarning: Line Search failed\n",
      "  warnings.warn(\"Line Search failed\")\n"
     ]
    },
    {
     "name": "stdout",
     "output_type": "stream",
     "text": [
      "[CV] END class_weight={0: 0.37809045226130655, 1: 0.6219095477386934}; total time=  19.2s\n",
      "[CV] END class_weight={0: 0.37809045226130655, 1: 0.6219095477386934}; total time=  18.1s\n"
     ]
    },
    {
     "name": "stderr",
     "output_type": "stream",
     "text": [
      "/Users/oub/opt/anaconda3/lib/python3.9/site-packages/scipy/optimize/linesearch.py:327: LineSearchWarning: The line search algorithm did not converge\n",
      "  warn('The line search algorithm did not converge', LineSearchWarning)\n",
      "/Users/oub/opt/anaconda3/lib/python3.9/site-packages/sklearn/utils/optimize.py:203: UserWarning: Line Search failed\n",
      "  warnings.warn(\"Line Search failed\")\n"
     ]
    },
    {
     "name": "stdout",
     "output_type": "stream",
     "text": [
      "[CV] END class_weight={0: 0.37809045226130655, 1: 0.6219095477386934}; total time=  19.5s\n",
      "[CV] END class_weight={0: 0.37809045226130655, 1: 0.6219095477386934}; total time=  13.7s\n",
      "[CV] END class_weight={0: 0.37809045226130655, 1: 0.6219095477386934}; total time=  13.6s\n",
      "[CV] END class_weight={0: 0.38306532663316584, 1: 0.6169346733668342}; total time=  15.0s\n",
      "[CV] END class_weight={0: 0.38306532663316584, 1: 0.6169346733668342}; total time=  14.0s\n",
      "[CV] END class_weight={0: 0.38306532663316584, 1: 0.6169346733668342}; total time=  15.6s\n",
      "[CV] END class_weight={0: 0.38306532663316584, 1: 0.6169346733668342}; total time=  15.1s\n",
      "[CV] END class_weight={0: 0.3880402010050251, 1: 0.6119597989949749}; total time=  14.4s\n"
     ]
    },
    {
     "name": "stderr",
     "output_type": "stream",
     "text": [
      "/Users/oub/opt/anaconda3/lib/python3.9/site-packages/scipy/optimize/linesearch.py:327: LineSearchWarning: The line search algorithm did not converge\n",
      "  warn('The line search algorithm did not converge', LineSearchWarning)\n",
      "/Users/oub/opt/anaconda3/lib/python3.9/site-packages/sklearn/utils/optimize.py:203: UserWarning: Line Search failed\n",
      "  warnings.warn(\"Line Search failed\")\n"
     ]
    },
    {
     "name": "stdout",
     "output_type": "stream",
     "text": [
      "[CV] END class_weight={0: 0.38306532663316584, 1: 0.6169346733668342}; total time=  19.7s\n",
      "[CV] END class_weight={0: 0.3880402010050251, 1: 0.6119597989949749}; total time=  12.9s\n",
      "[CV] END class_weight={0: 0.3880402010050251, 1: 0.6119597989949749}; total time=  14.7s\n",
      "[CV] END class_weight={0: 0.3880402010050251, 1: 0.6119597989949749}; total time=  12.0s\n"
     ]
    },
    {
     "name": "stderr",
     "output_type": "stream",
     "text": [
      "/Users/oub/opt/anaconda3/lib/python3.9/site-packages/scipy/optimize/linesearch.py:327: LineSearchWarning: The line search algorithm did not converge\n",
      "  warn('The line search algorithm did not converge', LineSearchWarning)\n",
      "/Users/oub/opt/anaconda3/lib/python3.9/site-packages/sklearn/utils/optimize.py:203: UserWarning: Line Search failed\n",
      "  warnings.warn(\"Line Search failed\")\n"
     ]
    },
    {
     "name": "stdout",
     "output_type": "stream",
     "text": [
      "[CV] END class_weight={0: 0.3880402010050251, 1: 0.6119597989949749}; total time=  12.0s\n",
      "[CV] END class_weight={0: 0.39301507537688446, 1: 0.6069849246231156}; total time=  11.9s\n",
      "[CV] END class_weight={0: 0.39301507537688446, 1: 0.6069849246231156}; total time=  12.2s\n",
      "[CV] END class_weight={0: 0.39301507537688446, 1: 0.6069849246231156}; total time=  12.7s\n",
      "[CV] END class_weight={0: 0.39301507537688446, 1: 0.6069849246231156}; total time=  12.9s\n",
      "[CV] END class_weight={0: 0.39301507537688446, 1: 0.6069849246231156}; total time=  13.8s\n",
      "[CV] END class_weight={0: 0.39798994974874374, 1: 0.6020100502512562}; total time=  13.0s\n",
      "[CV] END class_weight={0: 0.39798994974874374, 1: 0.6020100502512562}; total time=  14.8s\n",
      "[CV] END class_weight={0: 0.39798994974874374, 1: 0.6020100502512562}; total time=  17.9s\n",
      "[CV] END class_weight={0: 0.39798994974874374, 1: 0.6020100502512562}; total time=  15.7s\n",
      "[CV] END class_weight={0: 0.39798994974874374, 1: 0.6020100502512562}; total time=  21.1s\n"
     ]
    },
    {
     "name": "stderr",
     "output_type": "stream",
     "text": [
      "/Users/oub/opt/anaconda3/lib/python3.9/site-packages/scipy/optimize/linesearch.py:327: LineSearchWarning: The line search algorithm did not converge\n",
      "  warn('The line search algorithm did not converge', LineSearchWarning)\n",
      "/Users/oub/opt/anaconda3/lib/python3.9/site-packages/sklearn/utils/optimize.py:203: UserWarning: Line Search failed\n",
      "  warnings.warn(\"Line Search failed\")\n"
     ]
    },
    {
     "name": "stdout",
     "output_type": "stream",
     "text": [
      "[CV] END class_weight={0: 0.402964824120603, 1: 0.597035175879397}; total time=  17.8s\n",
      "[CV] END class_weight={0: 0.402964824120603, 1: 0.597035175879397}; total time=  13.7s\n",
      "[CV] END class_weight={0: 0.402964824120603, 1: 0.597035175879397}; total time=  14.5s\n",
      "[CV] END class_weight={0: 0.402964824120603, 1: 0.597035175879397}; total time=  14.2s\n"
     ]
    },
    {
     "name": "stderr",
     "output_type": "stream",
     "text": [
      "/Users/oub/opt/anaconda3/lib/python3.9/site-packages/scipy/optimize/linesearch.py:327: LineSearchWarning: The line search algorithm did not converge\n",
      "  warn('The line search algorithm did not converge', LineSearchWarning)\n",
      "/Users/oub/opt/anaconda3/lib/python3.9/site-packages/sklearn/utils/optimize.py:203: UserWarning: Line Search failed\n",
      "  warnings.warn(\"Line Search failed\")\n"
     ]
    },
    {
     "name": "stdout",
     "output_type": "stream",
     "text": [
      "[CV] END class_weight={0: 0.402964824120603, 1: 0.597035175879397}; total time=  28.9s\n",
      "[CV] END class_weight={0: 0.4079396984924623, 1: 0.5920603015075376}; total time=  14.9s\n",
      "[CV] END class_weight={0: 0.4079396984924623, 1: 0.5920603015075376}; total time=  14.7s\n",
      "[CV] END class_weight={0: 0.4079396984924623, 1: 0.5920603015075376}; total time=  14.4s\n"
     ]
    },
    {
     "name": "stderr",
     "output_type": "stream",
     "text": [
      "/Users/oub/opt/anaconda3/lib/python3.9/site-packages/scipy/optimize/linesearch.py:437: LineSearchWarning: Rounding errors prevent the line search from converging\n",
      "  warn(msg, LineSearchWarning)\n",
      "/Users/oub/opt/anaconda3/lib/python3.9/site-packages/scipy/optimize/linesearch.py:327: LineSearchWarning: The line search algorithm did not converge\n",
      "  warn('The line search algorithm did not converge', LineSearchWarning)\n",
      "/Users/oub/opt/anaconda3/lib/python3.9/site-packages/sklearn/utils/optimize.py:203: UserWarning: Line Search failed\n",
      "  warnings.warn(\"Line Search failed\")\n"
     ]
    },
    {
     "name": "stdout",
     "output_type": "stream",
     "text": [
      "[CV] END class_weight={0: 0.4079396984924623, 1: 0.5920603015075376}; total time=  15.3s\n",
      "[CV] END class_weight={0: 0.4079396984924623, 1: 0.5920603015075376}; total time=  13.5s\n",
      "[CV] END class_weight={0: 0.4129145728643216, 1: 0.5870854271356785}; total time=  14.1s\n",
      "[CV] END class_weight={0: 0.4129145728643216, 1: 0.5870854271356785}; total time=  14.2s\n",
      "[CV] END class_weight={0: 0.4129145728643216, 1: 0.5870854271356785}; total time=  13.6s\n"
     ]
    },
    {
     "name": "stderr",
     "output_type": "stream",
     "text": [
      "/Users/oub/opt/anaconda3/lib/python3.9/site-packages/scipy/optimize/linesearch.py:327: LineSearchWarning: The line search algorithm did not converge\n",
      "  warn('The line search algorithm did not converge', LineSearchWarning)\n",
      "/Users/oub/opt/anaconda3/lib/python3.9/site-packages/sklearn/utils/optimize.py:203: UserWarning: Line Search failed\n",
      "  warnings.warn(\"Line Search failed\")\n"
     ]
    },
    {
     "name": "stdout",
     "output_type": "stream",
     "text": [
      "[CV] END class_weight={0: 0.4129145728643216, 1: 0.5870854271356785}; total time=  19.3s\n"
     ]
    },
    {
     "name": "stderr",
     "output_type": "stream",
     "text": [
      "/Users/oub/opt/anaconda3/lib/python3.9/site-packages/scipy/optimize/linesearch.py:327: LineSearchWarning: The line search algorithm did not converge\n",
      "  warn('The line search algorithm did not converge', LineSearchWarning)\n",
      "/Users/oub/opt/anaconda3/lib/python3.9/site-packages/sklearn/utils/optimize.py:203: UserWarning: Line Search failed\n",
      "  warnings.warn(\"Line Search failed\")\n"
     ]
    },
    {
     "name": "stdout",
     "output_type": "stream",
     "text": [
      "[CV] END class_weight={0: 0.4129145728643216, 1: 0.5870854271356785}; total time=  17.3s\n"
     ]
    },
    {
     "name": "stderr",
     "output_type": "stream",
     "text": [
      "/Users/oub/opt/anaconda3/lib/python3.9/site-packages/scipy/optimize/linesearch.py:327: LineSearchWarning: The line search algorithm did not converge\n",
      "  warn('The line search algorithm did not converge', LineSearchWarning)\n",
      "/Users/oub/opt/anaconda3/lib/python3.9/site-packages/sklearn/utils/optimize.py:203: UserWarning: Line Search failed\n",
      "  warnings.warn(\"Line Search failed\")\n"
     ]
    },
    {
     "name": "stdout",
     "output_type": "stream",
     "text": [
      "[CV] END class_weight={0: 0.41788944723618093, 1: 0.5821105527638191}; total time=  20.1s\n",
      "[CV] END class_weight={0: 0.41788944723618093, 1: 0.5821105527638191}; total time=  14.3s\n",
      "[CV] END class_weight={0: 0.41788944723618093, 1: 0.5821105527638191}; total time=  13.2s\n"
     ]
    },
    {
     "name": "stderr",
     "output_type": "stream",
     "text": [
      "/Users/oub/opt/anaconda3/lib/python3.9/site-packages/scipy/optimize/linesearch.py:327: LineSearchWarning: The line search algorithm did not converge\n",
      "  warn('The line search algorithm did not converge', LineSearchWarning)\n",
      "/Users/oub/opt/anaconda3/lib/python3.9/site-packages/sklearn/utils/optimize.py:203: UserWarning: Line Search failed\n",
      "  warnings.warn(\"Line Search failed\")\n"
     ]
    },
    {
     "name": "stdout",
     "output_type": "stream",
     "text": [
      "[CV] END class_weight={0: 0.41788944723618093, 1: 0.5821105527638191}; total time=  21.3s\n",
      "[CV] END class_weight={0: 0.4228643216080402, 1: 0.5771356783919598}; total time=  13.4s\n",
      "[CV] END class_weight={0: 0.41788944723618093, 1: 0.5821105527638191}; total time=  14.0s\n",
      "[CV] END class_weight={0: 0.4228643216080402, 1: 0.5771356783919598}; total time=  11.3s\n",
      "[CV] END class_weight={0: 0.4228643216080402, 1: 0.5771356783919598}; total time=  14.1s\n",
      "[CV] END class_weight={0: 0.4228643216080402, 1: 0.5771356783919598}; total time=  12.9s\n"
     ]
    },
    {
     "name": "stderr",
     "output_type": "stream",
     "text": [
      "/Users/oub/opt/anaconda3/lib/python3.9/site-packages/scipy/optimize/linesearch.py:327: LineSearchWarning: The line search algorithm did not converge\n",
      "  warn('The line search algorithm did not converge', LineSearchWarning)\n",
      "/Users/oub/opt/anaconda3/lib/python3.9/site-packages/sklearn/utils/optimize.py:203: UserWarning: Line Search failed\n",
      "  warnings.warn(\"Line Search failed\")\n"
     ]
    },
    {
     "name": "stdout",
     "output_type": "stream",
     "text": [
      "[CV] END class_weight={0: 0.4228643216080402, 1: 0.5771356783919598}; total time=  19.6s\n"
     ]
    },
    {
     "name": "stderr",
     "output_type": "stream",
     "text": [
      "/Users/oub/opt/anaconda3/lib/python3.9/site-packages/scipy/optimize/linesearch.py:327: LineSearchWarning: The line search algorithm did not converge\n",
      "  warn('The line search algorithm did not converge', LineSearchWarning)\n",
      "/Users/oub/opt/anaconda3/lib/python3.9/site-packages/sklearn/utils/optimize.py:203: UserWarning: Line Search failed\n",
      "  warnings.warn(\"Line Search failed\")\n"
     ]
    },
    {
     "name": "stdout",
     "output_type": "stream",
     "text": [
      "[CV] END class_weight={0: 0.4278391959798995, 1: 0.5721608040201005}; total time=  14.8s\n"
     ]
    },
    {
     "name": "stderr",
     "output_type": "stream",
     "text": [
      "/Users/oub/opt/anaconda3/lib/python3.9/site-packages/scipy/optimize/linesearch.py:437: LineSearchWarning: Rounding errors prevent the line search from converging\n",
      "  warn(msg, LineSearchWarning)\n",
      "/Users/oub/opt/anaconda3/lib/python3.9/site-packages/scipy/optimize/linesearch.py:327: LineSearchWarning: The line search algorithm did not converge\n",
      "  warn('The line search algorithm did not converge', LineSearchWarning)\n",
      "/Users/oub/opt/anaconda3/lib/python3.9/site-packages/sklearn/utils/optimize.py:203: UserWarning: Line Search failed\n",
      "  warnings.warn(\"Line Search failed\")\n"
     ]
    },
    {
     "name": "stdout",
     "output_type": "stream",
     "text": [
      "[CV] END class_weight={0: 0.4278391959798995, 1: 0.5721608040201005}; total time=  15.7s\n"
     ]
    },
    {
     "name": "stderr",
     "output_type": "stream",
     "text": [
      "/Users/oub/opt/anaconda3/lib/python3.9/site-packages/scipy/optimize/linesearch.py:327: LineSearchWarning: The line search algorithm did not converge\n",
      "  warn('The line search algorithm did not converge', LineSearchWarning)\n",
      "/Users/oub/opt/anaconda3/lib/python3.9/site-packages/sklearn/utils/optimize.py:203: UserWarning: Line Search failed\n",
      "  warnings.warn(\"Line Search failed\")\n"
     ]
    },
    {
     "name": "stdout",
     "output_type": "stream",
     "text": [
      "[CV] END class_weight={0: 0.4278391959798995, 1: 0.5721608040201005}; total time=  18.6s\n",
      "[CV] END class_weight={0: 0.4278391959798995, 1: 0.5721608040201005}; total time=  12.7s\n"
     ]
    },
    {
     "name": "stderr",
     "output_type": "stream",
     "text": [
      "/Users/oub/opt/anaconda3/lib/python3.9/site-packages/scipy/optimize/linesearch.py:327: LineSearchWarning: The line search algorithm did not converge\n",
      "  warn('The line search algorithm did not converge', LineSearchWarning)\n",
      "/Users/oub/opt/anaconda3/lib/python3.9/site-packages/sklearn/utils/optimize.py:203: UserWarning: Line Search failed\n",
      "  warnings.warn(\"Line Search failed\")\n"
     ]
    },
    {
     "name": "stdout",
     "output_type": "stream",
     "text": [
      "[CV] END class_weight={0: 0.4278391959798995, 1: 0.5721608040201005}; total time=  16.6s\n",
      "[CV] END class_weight={0: 0.4328140703517588, 1: 0.5671859296482412}; total time=  13.1s\n"
     ]
    },
    {
     "name": "stderr",
     "output_type": "stream",
     "text": [
      "/Users/oub/opt/anaconda3/lib/python3.9/site-packages/scipy/optimize/linesearch.py:327: LineSearchWarning: The line search algorithm did not converge\n",
      "  warn('The line search algorithm did not converge', LineSearchWarning)\n",
      "/Users/oub/opt/anaconda3/lib/python3.9/site-packages/sklearn/utils/optimize.py:203: UserWarning: Line Search failed\n",
      "  warnings.warn(\"Line Search failed\")\n"
     ]
    },
    {
     "name": "stdout",
     "output_type": "stream",
     "text": [
      "[CV] END class_weight={0: 0.4328140703517588, 1: 0.5671859296482412}; total time=  21.1s\n",
      "[CV] END class_weight={0: 0.4328140703517588, 1: 0.5671859296482412}; total time=  14.7s\n",
      "[CV] END class_weight={0: 0.4328140703517588, 1: 0.5671859296482412}; total time=  13.9s\n"
     ]
    },
    {
     "name": "stderr",
     "output_type": "stream",
     "text": [
      "/Users/oub/opt/anaconda3/lib/python3.9/site-packages/scipy/optimize/linesearch.py:327: LineSearchWarning: The line search algorithm did not converge\n",
      "  warn('The line search algorithm did not converge', LineSearchWarning)\n",
      "/Users/oub/opt/anaconda3/lib/python3.9/site-packages/sklearn/utils/optimize.py:203: UserWarning: Line Search failed\n",
      "  warnings.warn(\"Line Search failed\")\n"
     ]
    },
    {
     "name": "stdout",
     "output_type": "stream",
     "text": [
      "[CV] END class_weight={0: 0.4328140703517588, 1: 0.5671859296482412}; total time=  18.7s\n",
      "[CV] END class_weight={0: 0.4377889447236181, 1: 0.5622110552763819}; total time=  17.7s\n"
     ]
    },
    {
     "name": "stderr",
     "output_type": "stream",
     "text": [
      "/Users/oub/opt/anaconda3/lib/python3.9/site-packages/scipy/optimize/linesearch.py:327: LineSearchWarning: The line search algorithm did not converge\n",
      "  warn('The line search algorithm did not converge', LineSearchWarning)\n",
      "/Users/oub/opt/anaconda3/lib/python3.9/site-packages/sklearn/utils/optimize.py:203: UserWarning: Line Search failed\n",
      "  warnings.warn(\"Line Search failed\")\n"
     ]
    },
    {
     "name": "stdout",
     "output_type": "stream",
     "text": [
      "[CV] END class_weight={0: 0.4377889447236181, 1: 0.5622110552763819}; total time=  22.5s\n",
      "[CV] END class_weight={0: 0.4377889447236181, 1: 0.5622110552763819}; total time=  14.3s\n",
      "[CV] END class_weight={0: 0.4377889447236181, 1: 0.5622110552763819}; total time=  15.0s\n",
      "[CV] END class_weight={0: 0.4377889447236181, 1: 0.5622110552763819}; total time=  14.0s\n",
      "[CV] END class_weight={0: 0.4427638190954774, 1: 0.5572361809045225}; total time=  16.7s\n",
      "[CV] END class_weight={0: 0.4427638190954774, 1: 0.5572361809045225}; total time=  16.0s\n",
      "[CV] END class_weight={0: 0.4427638190954774, 1: 0.5572361809045225}; total time=  14.3s\n"
     ]
    },
    {
     "name": "stderr",
     "output_type": "stream",
     "text": [
      "/Users/oub/opt/anaconda3/lib/python3.9/site-packages/scipy/optimize/linesearch.py:437: LineSearchWarning: Rounding errors prevent the line search from converging\n",
      "  warn(msg, LineSearchWarning)\n",
      "/Users/oub/opt/anaconda3/lib/python3.9/site-packages/scipy/optimize/linesearch.py:327: LineSearchWarning: The line search algorithm did not converge\n",
      "  warn('The line search algorithm did not converge', LineSearchWarning)\n",
      "/Users/oub/opt/anaconda3/lib/python3.9/site-packages/sklearn/utils/optimize.py:203: UserWarning: Line Search failed\n",
      "  warnings.warn(\"Line Search failed\")\n"
     ]
    },
    {
     "name": "stdout",
     "output_type": "stream",
     "text": [
      "[CV] END class_weight={0: 0.4427638190954774, 1: 0.5572361809045225}; total time=  21.8s\n",
      "[CV] END class_weight={0: 0.4427638190954774, 1: 0.5572361809045225}; total time=  16.7s\n"
     ]
    },
    {
     "name": "stderr",
     "output_type": "stream",
     "text": [
      "/Users/oub/opt/anaconda3/lib/python3.9/site-packages/scipy/optimize/linesearch.py:327: LineSearchWarning: The line search algorithm did not converge\n",
      "  warn('The line search algorithm did not converge', LineSearchWarning)\n",
      "/Users/oub/opt/anaconda3/lib/python3.9/site-packages/sklearn/utils/optimize.py:203: UserWarning: Line Search failed\n",
      "  warnings.warn(\"Line Search failed\")\n"
     ]
    },
    {
     "name": "stdout",
     "output_type": "stream",
     "text": [
      "[CV] END class_weight={0: 0.4477386934673367, 1: 0.5522613065326634}; total time=  17.0s\n"
     ]
    },
    {
     "name": "stderr",
     "output_type": "stream",
     "text": [
      "/Users/oub/opt/anaconda3/lib/python3.9/site-packages/scipy/optimize/linesearch.py:327: LineSearchWarning: The line search algorithm did not converge\n",
      "  warn('The line search algorithm did not converge', LineSearchWarning)\n",
      "/Users/oub/opt/anaconda3/lib/python3.9/site-packages/sklearn/utils/optimize.py:203: UserWarning: Line Search failed\n",
      "  warnings.warn(\"Line Search failed\")\n"
     ]
    },
    {
     "name": "stdout",
     "output_type": "stream",
     "text": [
      "[CV] END class_weight={0: 0.4477386934673367, 1: 0.5522613065326634}; total time=  18.2s\n"
     ]
    },
    {
     "name": "stderr",
     "output_type": "stream",
     "text": [
      "/Users/oub/opt/anaconda3/lib/python3.9/site-packages/scipy/optimize/linesearch.py:327: LineSearchWarning: The line search algorithm did not converge\n",
      "  warn('The line search algorithm did not converge', LineSearchWarning)\n",
      "/Users/oub/opt/anaconda3/lib/python3.9/site-packages/sklearn/utils/optimize.py:203: UserWarning: Line Search failed\n",
      "  warnings.warn(\"Line Search failed\")\n"
     ]
    },
    {
     "name": "stdout",
     "output_type": "stream",
     "text": [
      "[CV] END class_weight={0: 0.4477386934673367, 1: 0.5522613065326634}; total time=  16.1s\n",
      "[CV] END class_weight={0: 0.4477386934673367, 1: 0.5522613065326634}; total time=  15.5s\n",
      "[CV] END class_weight={0: 0.4477386934673367, 1: 0.5522613065326634}; total time=  15.1s\n",
      "[CV] END class_weight={0: 0.452713567839196, 1: 0.547286432160804}; total time=  14.0s\n",
      "[CV] END class_weight={0: 0.452713567839196, 1: 0.547286432160804}; total time=  13.6s\n",
      "[CV] END class_weight={0: 0.452713567839196, 1: 0.547286432160804}; total time=  15.3s\n",
      "[CV] END class_weight={0: 0.452713567839196, 1: 0.547286432160804}; total time=  14.3s\n",
      "[CV] END class_weight={0: 0.452713567839196, 1: 0.547286432160804}; total time=  14.7s\n",
      "[CV] END class_weight={0: 0.4576884422110553, 1: 0.5423115577889447}; total time=  13.1s\n",
      "[CV] END class_weight={0: 0.4576884422110553, 1: 0.5423115577889447}; total time=  12.8s\n",
      "[CV] END class_weight={0: 0.4576884422110553, 1: 0.5423115577889447}; total time=  12.9s\n",
      "[CV] END class_weight={0: 0.4576884422110553, 1: 0.5423115577889447}; total time=  15.5s\n",
      "[CV] END class_weight={0: 0.4576884422110553, 1: 0.5423115577889447}; total time=  18.2s\n",
      "[CV] END class_weight={0: 0.4626633165829146, 1: 0.5373366834170854}; total time=  20.1s\n"
     ]
    },
    {
     "name": "stderr",
     "output_type": "stream",
     "text": [
      "/Users/oub/opt/anaconda3/lib/python3.9/site-packages/scipy/optimize/linesearch.py:327: LineSearchWarning: The line search algorithm did not converge\n",
      "  warn('The line search algorithm did not converge', LineSearchWarning)\n",
      "/Users/oub/opt/anaconda3/lib/python3.9/site-packages/sklearn/utils/optimize.py:203: UserWarning: Line Search failed\n",
      "  warnings.warn(\"Line Search failed\")\n"
     ]
    },
    {
     "name": "stdout",
     "output_type": "stream",
     "text": [
      "[CV] END class_weight={0: 0.4626633165829146, 1: 0.5373366834170854}; total time=  32.0s\n",
      "[CV] END class_weight={0: 0.4626633165829146, 1: 0.5373366834170854}; total time=  31.2s\n",
      "[CV] END class_weight={0: 0.4626633165829146, 1: 0.5373366834170854}; total time=  25.1s\n"
     ]
    },
    {
     "name": "stderr",
     "output_type": "stream",
     "text": [
      "/Users/oub/opt/anaconda3/lib/python3.9/site-packages/scipy/optimize/linesearch.py:327: LineSearchWarning: The line search algorithm did not converge\n",
      "  warn('The line search algorithm did not converge', LineSearchWarning)\n",
      "/Users/oub/opt/anaconda3/lib/python3.9/site-packages/sklearn/utils/optimize.py:203: UserWarning: Line Search failed\n",
      "  warnings.warn(\"Line Search failed\")\n"
     ]
    },
    {
     "name": "stdout",
     "output_type": "stream",
     "text": [
      "[CV] END class_weight={0: 0.4626633165829146, 1: 0.5373366834170854}; total time=  27.6s\n",
      "[CV] END class_weight={0: 0.4676381909547739, 1: 0.5323618090452261}; total time=  22.5s\n",
      "[CV] END class_weight={0: 0.4676381909547739, 1: 0.5323618090452261}; total time=  24.8s\n"
     ]
    },
    {
     "name": "stderr",
     "output_type": "stream",
     "text": [
      "/Users/oub/opt/anaconda3/lib/python3.9/site-packages/scipy/optimize/linesearch.py:327: LineSearchWarning: The line search algorithm did not converge\n",
      "  warn('The line search algorithm did not converge', LineSearchWarning)\n",
      "/Users/oub/opt/anaconda3/lib/python3.9/site-packages/sklearn/utils/optimize.py:203: UserWarning: Line Search failed\n",
      "  warnings.warn(\"Line Search failed\")\n"
     ]
    },
    {
     "name": "stdout",
     "output_type": "stream",
     "text": [
      "[CV] END class_weight={0: 0.4676381909547739, 1: 0.5323618090452261}; total time=  25.8s\n",
      "[CV] END class_weight={0: 0.4676381909547739, 1: 0.5323618090452261}; total time=  20.4s\n",
      "[CV] END class_weight={0: 0.4676381909547739, 1: 0.5323618090452261}; total time=  16.5s\n",
      "[CV] END class_weight={0: 0.47261306532663316, 1: 0.5273869346733668}; total time=  15.5s\n",
      "[CV] END class_weight={0: 0.47261306532663316, 1: 0.5273869346733668}; total time=  14.8s\n",
      "[CV] END class_weight={0: 0.47261306532663316, 1: 0.5273869346733668}; total time=  13.3s\n"
     ]
    },
    {
     "name": "stderr",
     "output_type": "stream",
     "text": [
      "/Users/oub/opt/anaconda3/lib/python3.9/site-packages/scipy/optimize/linesearch.py:327: LineSearchWarning: The line search algorithm did not converge\n",
      "  warn('The line search algorithm did not converge', LineSearchWarning)\n",
      "/Users/oub/opt/anaconda3/lib/python3.9/site-packages/sklearn/utils/optimize.py:203: UserWarning: Line Search failed\n",
      "  warnings.warn(\"Line Search failed\")\n"
     ]
    },
    {
     "name": "stdout",
     "output_type": "stream",
     "text": [
      "[CV] END class_weight={0: 0.47261306532663316, 1: 0.5273869346733668}; total time=  20.3s\n",
      "[CV] END class_weight={0: 0.47261306532663316, 1: 0.5273869346733668}; total time=  14.4s\n",
      "[CV] END class_weight={0: 0.47758793969849245, 1: 0.5224120603015076}; total time=  14.6s\n",
      "[CV] END class_weight={0: 0.47758793969849245, 1: 0.5224120603015076}; total time=  18.9s\n",
      "[CV] END class_weight={0: 0.47758793969849245, 1: 0.5224120603015076}; total time=  19.4s\n"
     ]
    },
    {
     "name": "stderr",
     "output_type": "stream",
     "text": [
      "/Users/oub/opt/anaconda3/lib/python3.9/site-packages/scipy/optimize/linesearch.py:327: LineSearchWarning: The line search algorithm did not converge\n",
      "  warn('The line search algorithm did not converge', LineSearchWarning)\n",
      "/Users/oub/opt/anaconda3/lib/python3.9/site-packages/sklearn/utils/optimize.py:203: UserWarning: Line Search failed\n",
      "  warnings.warn(\"Line Search failed\")\n"
     ]
    },
    {
     "name": "stdout",
     "output_type": "stream",
     "text": [
      "[CV] END class_weight={0: 0.47758793969849245, 1: 0.5224120603015076}; total time=  20.8s\n",
      "[CV] END class_weight={0: 0.47758793969849245, 1: 0.5224120603015076}; total time=  17.7s\n",
      "[CV] END class_weight={0: 0.4825628140703518, 1: 0.5174371859296483}; total time=  15.0s\n",
      "[CV] END class_weight={0: 0.4825628140703518, 1: 0.5174371859296483}; total time=  13.9s\n",
      "[CV] END class_weight={0: 0.4825628140703518, 1: 0.5174371859296483}; total time=  14.7s\n"
     ]
    },
    {
     "name": "stderr",
     "output_type": "stream",
     "text": [
      "/Users/oub/opt/anaconda3/lib/python3.9/site-packages/scipy/optimize/linesearch.py:327: LineSearchWarning: The line search algorithm did not converge\n",
      "  warn('The line search algorithm did not converge', LineSearchWarning)\n",
      "/Users/oub/opt/anaconda3/lib/python3.9/site-packages/sklearn/utils/optimize.py:203: UserWarning: Line Search failed\n",
      "  warnings.warn(\"Line Search failed\")\n"
     ]
    },
    {
     "name": "stdout",
     "output_type": "stream",
     "text": [
      "[CV] END class_weight={0: 0.4825628140703518, 1: 0.5174371859296483}; total time=  17.9s\n",
      "[CV] END class_weight={0: 0.48753768844221107, 1: 0.5124623115577889}; total time=  14.6s\n",
      "[CV] END class_weight={0: 0.48753768844221107, 1: 0.5124623115577889}; total time=  12.9s\n"
     ]
    },
    {
     "name": "stderr",
     "output_type": "stream",
     "text": [
      "/Users/oub/opt/anaconda3/lib/python3.9/site-packages/scipy/optimize/linesearch.py:327: LineSearchWarning: The line search algorithm did not converge\n",
      "  warn('The line search algorithm did not converge', LineSearchWarning)\n",
      "/Users/oub/opt/anaconda3/lib/python3.9/site-packages/sklearn/utils/optimize.py:203: UserWarning: Line Search failed\n",
      "  warnings.warn(\"Line Search failed\")\n"
     ]
    },
    {
     "name": "stdout",
     "output_type": "stream",
     "text": [
      "[CV] END class_weight={0: 0.4825628140703518, 1: 0.5174371859296483}; total time=  21.3s\n",
      "[CV] END class_weight={0: 0.48753768844221107, 1: 0.5124623115577889}; total time=  11.2s\n",
      "[CV] END class_weight={0: 0.48753768844221107, 1: 0.5124623115577889}; total time=  18.4s\n",
      "[CV] END class_weight={0: 0.49251256281407035, 1: 0.5074874371859297}; total time=  16.2s\n",
      "[CV] END class_weight={0: 0.48753768844221107, 1: 0.5124623115577889}; total time=  20.8s\n"
     ]
    },
    {
     "name": "stderr",
     "output_type": "stream",
     "text": [
      "/Users/oub/opt/anaconda3/lib/python3.9/site-packages/scipy/optimize/linesearch.py:327: LineSearchWarning: The line search algorithm did not converge\n",
      "  warn('The line search algorithm did not converge', LineSearchWarning)\n",
      "/Users/oub/opt/anaconda3/lib/python3.9/site-packages/sklearn/utils/optimize.py:203: UserWarning: Line Search failed\n",
      "  warnings.warn(\"Line Search failed\")\n"
     ]
    },
    {
     "name": "stdout",
     "output_type": "stream",
     "text": [
      "[CV] END class_weight={0: 0.49251256281407035, 1: 0.5074874371859297}; total time=  20.1s\n",
      "[CV] END class_weight={0: 0.49251256281407035, 1: 0.5074874371859297}; total time=  16.2s\n",
      "[CV] END class_weight={0: 0.49251256281407035, 1: 0.5074874371859297}; total time=  16.7s\n"
     ]
    },
    {
     "name": "stderr",
     "output_type": "stream",
     "text": [
      "/Users/oub/opt/anaconda3/lib/python3.9/site-packages/scipy/optimize/linesearch.py:327: LineSearchWarning: The line search algorithm did not converge\n",
      "  warn('The line search algorithm did not converge', LineSearchWarning)\n",
      "/Users/oub/opt/anaconda3/lib/python3.9/site-packages/sklearn/utils/optimize.py:203: UserWarning: Line Search failed\n",
      "  warnings.warn(\"Line Search failed\")\n"
     ]
    },
    {
     "name": "stdout",
     "output_type": "stream",
     "text": [
      "[CV] END class_weight={0: 0.49251256281407035, 1: 0.5074874371859297}; total time=  16.3s\n",
      "[CV] END class_weight={0: 0.49748743718592964, 1: 0.5025125628140703}; total time=  15.0s\n",
      "[CV] END class_weight={0: 0.49748743718592964, 1: 0.5025125628140703}; total time=  14.5s\n",
      "[CV] END class_weight={0: 0.49748743718592964, 1: 0.5025125628140703}; total time=  15.9s\n"
     ]
    },
    {
     "name": "stderr",
     "output_type": "stream",
     "text": [
      "/Users/oub/opt/anaconda3/lib/python3.9/site-packages/scipy/optimize/linesearch.py:437: LineSearchWarning: Rounding errors prevent the line search from converging\n",
      "  warn(msg, LineSearchWarning)\n",
      "/Users/oub/opt/anaconda3/lib/python3.9/site-packages/scipy/optimize/linesearch.py:327: LineSearchWarning: The line search algorithm did not converge\n",
      "  warn('The line search algorithm did not converge', LineSearchWarning)\n",
      "/Users/oub/opt/anaconda3/lib/python3.9/site-packages/sklearn/utils/optimize.py:203: UserWarning: Line Search failed\n",
      "  warnings.warn(\"Line Search failed\")\n"
     ]
    },
    {
     "name": "stdout",
     "output_type": "stream",
     "text": [
      "[CV] END class_weight={0: 0.49748743718592964, 1: 0.5025125628140703}; total time=  16.4s\n"
     ]
    },
    {
     "name": "stderr",
     "output_type": "stream",
     "text": [
      "/Users/oub/opt/anaconda3/lib/python3.9/site-packages/scipy/optimize/linesearch.py:327: LineSearchWarning: The line search algorithm did not converge\n",
      "  warn('The line search algorithm did not converge', LineSearchWarning)\n",
      "/Users/oub/opt/anaconda3/lib/python3.9/site-packages/sklearn/utils/optimize.py:203: UserWarning: Line Search failed\n",
      "  warnings.warn(\"Line Search failed\")\n"
     ]
    },
    {
     "name": "stdout",
     "output_type": "stream",
     "text": [
      "[CV] END class_weight={0: 0.49748743718592964, 1: 0.5025125628140703}; total time=  20.9s\n",
      "[CV] END class_weight={0: 0.502462311557789, 1: 0.497537688442211}; total time=  15.5s\n"
     ]
    },
    {
     "name": "stderr",
     "output_type": "stream",
     "text": [
      "/Users/oub/opt/anaconda3/lib/python3.9/site-packages/scipy/optimize/linesearch.py:327: LineSearchWarning: The line search algorithm did not converge\n",
      "  warn('The line search algorithm did not converge', LineSearchWarning)\n",
      "/Users/oub/opt/anaconda3/lib/python3.9/site-packages/sklearn/utils/optimize.py:203: UserWarning: Line Search failed\n",
      "  warnings.warn(\"Line Search failed\")\n"
     ]
    },
    {
     "name": "stdout",
     "output_type": "stream",
     "text": [
      "[CV] END class_weight={0: 0.502462311557789, 1: 0.497537688442211}; total time=  15.4s\n",
      "[CV] END class_weight={0: 0.502462311557789, 1: 0.497537688442211}; total time=  14.5s\n"
     ]
    },
    {
     "name": "stderr",
     "output_type": "stream",
     "text": [
      "/Users/oub/opt/anaconda3/lib/python3.9/site-packages/scipy/optimize/linesearch.py:327: LineSearchWarning: The line search algorithm did not converge\n",
      "  warn('The line search algorithm did not converge', LineSearchWarning)\n",
      "/Users/oub/opt/anaconda3/lib/python3.9/site-packages/sklearn/utils/optimize.py:203: UserWarning: Line Search failed\n",
      "  warnings.warn(\"Line Search failed\")\n"
     ]
    },
    {
     "name": "stdout",
     "output_type": "stream",
     "text": [
      "[CV] END class_weight={0: 0.502462311557789, 1: 0.497537688442211}; total time=  18.5s\n"
     ]
    },
    {
     "name": "stderr",
     "output_type": "stream",
     "text": [
      "/Users/oub/opt/anaconda3/lib/python3.9/site-packages/scipy/optimize/linesearch.py:327: LineSearchWarning: The line search algorithm did not converge\n",
      "  warn('The line search algorithm did not converge', LineSearchWarning)\n",
      "/Users/oub/opt/anaconda3/lib/python3.9/site-packages/sklearn/utils/optimize.py:203: UserWarning: Line Search failed\n",
      "  warnings.warn(\"Line Search failed\")\n"
     ]
    },
    {
     "name": "stdout",
     "output_type": "stream",
     "text": [
      "[CV] END class_weight={0: 0.502462311557789, 1: 0.497537688442211}; total time=  20.0s\n",
      "[CV] END class_weight={0: 0.5074371859296483, 1: 0.49256281407035174}; total time=  13.8s\n",
      "[CV] END class_weight={0: 0.5074371859296483, 1: 0.49256281407035174}; total time=  14.9s\n",
      "[CV] END class_weight={0: 0.5074371859296483, 1: 0.49256281407035174}; total time=  13.4s\n",
      "[CV] END class_weight={0: 0.5074371859296483, 1: 0.49256281407035174}; total time=  13.2s\n",
      "[CV] END class_weight={0: 0.5124120603015075, 1: 0.48758793969849246}; total time=  12.5s\n",
      "[CV] END class_weight={0: 0.5074371859296483, 1: 0.49256281407035174}; total time=  14.0s\n",
      "[CV] END class_weight={0: 0.5124120603015075, 1: 0.48758793969849246}; total time=  15.4s\n",
      "[CV] END class_weight={0: 0.5124120603015075, 1: 0.48758793969849246}; total time=  16.6s\n",
      "[CV] END class_weight={0: 0.5124120603015075, 1: 0.48758793969849246}; total time=  17.4s\n"
     ]
    },
    {
     "name": "stderr",
     "output_type": "stream",
     "text": [
      "/Users/oub/opt/anaconda3/lib/python3.9/site-packages/scipy/optimize/linesearch.py:327: LineSearchWarning: The line search algorithm did not converge\n",
      "  warn('The line search algorithm did not converge', LineSearchWarning)\n",
      "/Users/oub/opt/anaconda3/lib/python3.9/site-packages/sklearn/utils/optimize.py:203: UserWarning: Line Search failed\n",
      "  warnings.warn(\"Line Search failed\")\n"
     ]
    },
    {
     "name": "stdout",
     "output_type": "stream",
     "text": [
      "[CV] END class_weight={0: 0.5124120603015075, 1: 0.48758793969849246}; total time=  22.7s\n"
     ]
    },
    {
     "name": "stderr",
     "output_type": "stream",
     "text": [
      "/Users/oub/opt/anaconda3/lib/python3.9/site-packages/scipy/optimize/linesearch.py:327: LineSearchWarning: The line search algorithm did not converge\n",
      "  warn('The line search algorithm did not converge', LineSearchWarning)\n",
      "/Users/oub/opt/anaconda3/lib/python3.9/site-packages/sklearn/utils/optimize.py:203: UserWarning: Line Search failed\n",
      "  warnings.warn(\"Line Search failed\")\n"
     ]
    },
    {
     "name": "stdout",
     "output_type": "stream",
     "text": [
      "[CV] END class_weight={0: 0.5173869346733668, 1: 0.4826130653266332}; total time=  21.3s\n",
      "[CV] END class_weight={0: 0.5173869346733668, 1: 0.4826130653266332}; total time=  21.9s\n",
      "[CV] END class_weight={0: 0.5173869346733668, 1: 0.4826130653266332}; total time=  20.8s\n",
      "[CV] END class_weight={0: 0.5173869346733668, 1: 0.4826130653266332}; total time=  17.7s\n"
     ]
    },
    {
     "name": "stderr",
     "output_type": "stream",
     "text": [
      "/Users/oub/opt/anaconda3/lib/python3.9/site-packages/scipy/optimize/linesearch.py:437: LineSearchWarning: Rounding errors prevent the line search from converging\n",
      "  warn(msg, LineSearchWarning)\n",
      "/Users/oub/opt/anaconda3/lib/python3.9/site-packages/scipy/optimize/linesearch.py:327: LineSearchWarning: The line search algorithm did not converge\n",
      "  warn('The line search algorithm did not converge', LineSearchWarning)\n",
      "/Users/oub/opt/anaconda3/lib/python3.9/site-packages/sklearn/utils/optimize.py:203: UserWarning: Line Search failed\n",
      "  warnings.warn(\"Line Search failed\")\n"
     ]
    },
    {
     "name": "stdout",
     "output_type": "stream",
     "text": [
      "[CV] END class_weight={0: 0.5173869346733668, 1: 0.4826130653266332}; total time=  21.6s\n",
      "[CV] END class_weight={0: 0.5223618090452261, 1: 0.4776381909547739}; total time=  15.3s\n",
      "[CV] END class_weight={0: 0.5223618090452261, 1: 0.4776381909547739}; total time=  13.5s\n",
      "[CV] END class_weight={0: 0.5223618090452261, 1: 0.4776381909547739}; total time=  15.1s\n",
      "[CV] END class_weight={0: 0.5223618090452261, 1: 0.4776381909547739}; total time=  14.8s\n",
      "[CV] END class_weight={0: 0.5223618090452261, 1: 0.4776381909547739}; total time=  13.8s\n",
      "[CV] END class_weight={0: 0.5273366834170854, 1: 0.4726633165829146}; total time=  13.7s\n",
      "[CV] END class_weight={0: 0.5273366834170854, 1: 0.4726633165829146}; total time=  13.1s\n",
      "[CV] END class_weight={0: 0.5273366834170854, 1: 0.4726633165829146}; total time=  13.2s\n",
      "[CV] END class_weight={0: 0.5273366834170854, 1: 0.4726633165829146}; total time=  16.4s\n",
      "[CV] END class_weight={0: 0.5323115577889448, 1: 0.4676884422110552}; total time=  14.0s\n",
      "[CV] END class_weight={0: 0.5273366834170854, 1: 0.4726633165829146}; total time=  17.9s\n",
      "[CV] END class_weight={0: 0.5323115577889448, 1: 0.4676884422110552}; total time=  12.9s\n",
      "[CV] END class_weight={0: 0.5323115577889448, 1: 0.4676884422110552}; total time=  13.3s\n",
      "[CV] END class_weight={0: 0.5323115577889448, 1: 0.4676884422110552}; total time=  12.9s\n",
      "[CV] END class_weight={0: 0.5323115577889448, 1: 0.4676884422110552}; total time=  14.8s\n"
     ]
    },
    {
     "name": "stderr",
     "output_type": "stream",
     "text": [
      "/Users/oub/opt/anaconda3/lib/python3.9/site-packages/scipy/optimize/linesearch.py:437: LineSearchWarning: Rounding errors prevent the line search from converging\n",
      "  warn(msg, LineSearchWarning)\n",
      "/Users/oub/opt/anaconda3/lib/python3.9/site-packages/scipy/optimize/linesearch.py:327: LineSearchWarning: The line search algorithm did not converge\n",
      "  warn('The line search algorithm did not converge', LineSearchWarning)\n",
      "/Users/oub/opt/anaconda3/lib/python3.9/site-packages/sklearn/utils/optimize.py:203: UserWarning: Line Search failed\n",
      "  warnings.warn(\"Line Search failed\")\n"
     ]
    },
    {
     "name": "stdout",
     "output_type": "stream",
     "text": [
      "[CV] END class_weight={0: 0.5372864321608041, 1: 0.4627135678391959}; total time=  17.3s\n",
      "[CV] END class_weight={0: 0.5372864321608041, 1: 0.4627135678391959}; total time=  14.1s\n"
     ]
    },
    {
     "name": "stderr",
     "output_type": "stream",
     "text": [
      "/Users/oub/opt/anaconda3/lib/python3.9/site-packages/scipy/optimize/linesearch.py:327: LineSearchWarning: The line search algorithm did not converge\n",
      "  warn('The line search algorithm did not converge', LineSearchWarning)\n",
      "/Users/oub/opt/anaconda3/lib/python3.9/site-packages/sklearn/utils/optimize.py:203: UserWarning: Line Search failed\n",
      "  warnings.warn(\"Line Search failed\")\n",
      "/Users/oub/opt/anaconda3/lib/python3.9/site-packages/scipy/optimize/linesearch.py:327: LineSearchWarning: The line search algorithm did not converge\n",
      "  warn('The line search algorithm did not converge', LineSearchWarning)\n",
      "/Users/oub/opt/anaconda3/lib/python3.9/site-packages/sklearn/utils/optimize.py:203: UserWarning: Line Search failed\n",
      "  warnings.warn(\"Line Search failed\")\n"
     ]
    },
    {
     "name": "stdout",
     "output_type": "stream",
     "text": [
      "[CV] END class_weight={0: 0.5372864321608041, 1: 0.4627135678391959}; total time=  16.0s\n",
      "[CV] END class_weight={0: 0.5372864321608041, 1: 0.4627135678391959}; total time=  18.1s\n"
     ]
    },
    {
     "name": "stderr",
     "output_type": "stream",
     "text": [
      "/Users/oub/opt/anaconda3/lib/python3.9/site-packages/scipy/optimize/linesearch.py:437: LineSearchWarning: Rounding errors prevent the line search from converging\n",
      "  warn(msg, LineSearchWarning)\n",
      "/Users/oub/opt/anaconda3/lib/python3.9/site-packages/scipy/optimize/linesearch.py:327: LineSearchWarning: The line search algorithm did not converge\n",
      "  warn('The line search algorithm did not converge', LineSearchWarning)\n",
      "/Users/oub/opt/anaconda3/lib/python3.9/site-packages/sklearn/utils/optimize.py:203: UserWarning: Line Search failed\n",
      "  warnings.warn(\"Line Search failed\")\n"
     ]
    },
    {
     "name": "stdout",
     "output_type": "stream",
     "text": [
      "[CV] END class_weight={0: 0.5372864321608041, 1: 0.4627135678391959}; total time=  19.4s\n",
      "[CV] END class_weight={0: 0.5422613065326634, 1: 0.45773869346733664}; total time=  17.1s\n",
      "[CV] END class_weight={0: 0.5422613065326634, 1: 0.45773869346733664}; total time=  17.8s\n"
     ]
    },
    {
     "name": "stderr",
     "output_type": "stream",
     "text": [
      "/Users/oub/opt/anaconda3/lib/python3.9/site-packages/scipy/optimize/linesearch.py:327: LineSearchWarning: The line search algorithm did not converge\n",
      "  warn('The line search algorithm did not converge', LineSearchWarning)\n",
      "/Users/oub/opt/anaconda3/lib/python3.9/site-packages/sklearn/utils/optimize.py:203: UserWarning: Line Search failed\n",
      "  warnings.warn(\"Line Search failed\")\n"
     ]
    },
    {
     "name": "stdout",
     "output_type": "stream",
     "text": [
      "[CV] END class_weight={0: 0.5422613065326634, 1: 0.45773869346733664}; total time=  21.8s\n",
      "[CV] END class_weight={0: 0.5422613065326634, 1: 0.45773869346733664}; total time=  15.3s\n",
      "[CV] END class_weight={0: 0.5472361809045226, 1: 0.45276381909547736}; total time=  14.2s\n"
     ]
    },
    {
     "name": "stderr",
     "output_type": "stream",
     "text": [
      "/Users/oub/opt/anaconda3/lib/python3.9/site-packages/scipy/optimize/linesearch.py:327: LineSearchWarning: The line search algorithm did not converge\n",
      "  warn('The line search algorithm did not converge', LineSearchWarning)\n",
      "/Users/oub/opt/anaconda3/lib/python3.9/site-packages/sklearn/utils/optimize.py:203: UserWarning: Line Search failed\n",
      "  warnings.warn(\"Line Search failed\")\n"
     ]
    },
    {
     "name": "stdout",
     "output_type": "stream",
     "text": [
      "[CV] END class_weight={0: 0.5422613065326634, 1: 0.45773869346733664}; total time=  19.5s\n",
      "[CV] END class_weight={0: 0.5472361809045226, 1: 0.45276381909547736}; total time=  20.2s\n"
     ]
    },
    {
     "name": "stderr",
     "output_type": "stream",
     "text": [
      "/Users/oub/opt/anaconda3/lib/python3.9/site-packages/scipy/optimize/linesearch.py:327: LineSearchWarning: The line search algorithm did not converge\n",
      "  warn('The line search algorithm did not converge', LineSearchWarning)\n",
      "/Users/oub/opt/anaconda3/lib/python3.9/site-packages/sklearn/utils/optimize.py:203: UserWarning: Line Search failed\n",
      "  warnings.warn(\"Line Search failed\")\n"
     ]
    },
    {
     "name": "stdout",
     "output_type": "stream",
     "text": [
      "[CV] END class_weight={0: 0.5472361809045226, 1: 0.45276381909547736}; total time=  18.9s\n",
      "[CV] END class_weight={0: 0.5472361809045226, 1: 0.45276381909547736}; total time=  14.4s\n"
     ]
    },
    {
     "name": "stderr",
     "output_type": "stream",
     "text": [
      "/Users/oub/opt/anaconda3/lib/python3.9/site-packages/scipy/optimize/linesearch.py:437: LineSearchWarning: Rounding errors prevent the line search from converging\n",
      "  warn(msg, LineSearchWarning)\n",
      "/Users/oub/opt/anaconda3/lib/python3.9/site-packages/scipy/optimize/linesearch.py:327: LineSearchWarning: The line search algorithm did not converge\n",
      "  warn('The line search algorithm did not converge', LineSearchWarning)\n",
      "/Users/oub/opt/anaconda3/lib/python3.9/site-packages/sklearn/utils/optimize.py:203: UserWarning: Line Search failed\n",
      "  warnings.warn(\"Line Search failed\")\n"
     ]
    },
    {
     "name": "stdout",
     "output_type": "stream",
     "text": [
      "[CV] END class_weight={0: 0.5472361809045226, 1: 0.45276381909547736}; total time=  16.4s\n",
      "[CV] END class_weight={0: 0.5522110552763819, 1: 0.4477889447236181}; total time=  12.8s\n",
      "[CV] END class_weight={0: 0.5522110552763819, 1: 0.4477889447236181}; total time=  12.0s\n",
      "[CV] END class_weight={0: 0.5522110552763819, 1: 0.4477889447236181}; total time=  15.0s\n",
      "[CV] END class_weight={0: 0.5522110552763819, 1: 0.4477889447236181}; total time=  12.3s\n"
     ]
    },
    {
     "name": "stderr",
     "output_type": "stream",
     "text": [
      "/Users/oub/opt/anaconda3/lib/python3.9/site-packages/scipy/optimize/linesearch.py:327: LineSearchWarning: The line search algorithm did not converge\n",
      "  warn('The line search algorithm did not converge', LineSearchWarning)\n",
      "/Users/oub/opt/anaconda3/lib/python3.9/site-packages/sklearn/utils/optimize.py:203: UserWarning: Line Search failed\n",
      "  warnings.warn(\"Line Search failed\")\n"
     ]
    },
    {
     "name": "stdout",
     "output_type": "stream",
     "text": [
      "[CV] END class_weight={0: 0.5522110552763819, 1: 0.4477889447236181}; total time=  18.9s\n",
      "[CV] END class_weight={0: 0.5571859296482412, 1: 0.4428140703517588}; total time=  15.7s\n",
      "[CV] END class_weight={0: 0.5571859296482412, 1: 0.4428140703517588}; total time=  14.8s\n",
      "[CV] END class_weight={0: 0.5571859296482412, 1: 0.4428140703517588}; total time=  14.5s\n",
      "[CV] END class_weight={0: 0.5571859296482412, 1: 0.4428140703517588}; total time=  13.0s\n"
     ]
    },
    {
     "name": "stderr",
     "output_type": "stream",
     "text": [
      "/Users/oub/opt/anaconda3/lib/python3.9/site-packages/scipy/optimize/linesearch.py:327: LineSearchWarning: The line search algorithm did not converge\n",
      "  warn('The line search algorithm did not converge', LineSearchWarning)\n",
      "/Users/oub/opt/anaconda3/lib/python3.9/site-packages/sklearn/utils/optimize.py:203: UserWarning: Line Search failed\n",
      "  warnings.warn(\"Line Search failed\")\n"
     ]
    },
    {
     "name": "stdout",
     "output_type": "stream",
     "text": [
      "[CV] END class_weight={0: 0.5571859296482412, 1: 0.4428140703517588}; total time=  15.3s\n",
      "[CV] END class_weight={0: 0.5621608040201005, 1: 0.4378391959798995}; total time=  15.6s\n",
      "[CV] END class_weight={0: 0.5621608040201005, 1: 0.4378391959798995}; total time=  12.4s\n",
      "[CV] END class_weight={0: 0.5621608040201005, 1: 0.4378391959798995}; total time=  13.6s\n",
      "[CV] END class_weight={0: 0.5671356783919598, 1: 0.4328643216080402}; total time=  12.6s\n"
     ]
    },
    {
     "name": "stderr",
     "output_type": "stream",
     "text": [
      "/Users/oub/opt/anaconda3/lib/python3.9/site-packages/scipy/optimize/linesearch.py:327: LineSearchWarning: The line search algorithm did not converge\n",
      "  warn('The line search algorithm did not converge', LineSearchWarning)\n",
      "/Users/oub/opt/anaconda3/lib/python3.9/site-packages/sklearn/utils/optimize.py:203: UserWarning: Line Search failed\n",
      "  warnings.warn(\"Line Search failed\")\n"
     ]
    },
    {
     "name": "stdout",
     "output_type": "stream",
     "text": [
      "[CV] END class_weight={0: 0.5621608040201005, 1: 0.4378391959798995}; total time=  17.5s\n"
     ]
    },
    {
     "name": "stderr",
     "output_type": "stream",
     "text": [
      "/Users/oub/opt/anaconda3/lib/python3.9/site-packages/scipy/optimize/linesearch.py:327: LineSearchWarning: The line search algorithm did not converge\n",
      "  warn('The line search algorithm did not converge', LineSearchWarning)\n",
      "/Users/oub/opt/anaconda3/lib/python3.9/site-packages/sklearn/utils/optimize.py:203: UserWarning: Line Search failed\n",
      "  warnings.warn(\"Line Search failed\")\n"
     ]
    },
    {
     "name": "stdout",
     "output_type": "stream",
     "text": [
      "[CV] END class_weight={0: 0.5621608040201005, 1: 0.4378391959798995}; total time=  19.1s\n",
      "[CV] END class_weight={0: 0.5671356783919598, 1: 0.4328643216080402}; total time=  14.0s\n",
      "[CV] END class_weight={0: 0.5671356783919598, 1: 0.4328643216080402}; total time=  14.7s\n",
      "[CV] END class_weight={0: 0.5671356783919598, 1: 0.4328643216080402}; total time=  16.4s\n",
      "[CV] END class_weight={0: 0.5671356783919598, 1: 0.4328643216080402}; total time=  17.5s\n",
      "[CV] END class_weight={0: 0.5721105527638191, 1: 0.42788944723618094}; total time=  12.8s\n",
      "[CV] END class_weight={0: 0.5721105527638191, 1: 0.42788944723618094}; total time=  14.0s\n",
      "[CV] END class_weight={0: 0.5721105527638191, 1: 0.42788944723618094}; total time=  15.6s\n"
     ]
    },
    {
     "name": "stderr",
     "output_type": "stream",
     "text": [
      "/Users/oub/opt/anaconda3/lib/python3.9/site-packages/scipy/optimize/linesearch.py:327: LineSearchWarning: The line search algorithm did not converge\n",
      "  warn('The line search algorithm did not converge', LineSearchWarning)\n",
      "/Users/oub/opt/anaconda3/lib/python3.9/site-packages/sklearn/utils/optimize.py:203: UserWarning: Line Search failed\n",
      "  warnings.warn(\"Line Search failed\")\n"
     ]
    },
    {
     "name": "stdout",
     "output_type": "stream",
     "text": [
      "[CV] END class_weight={0: 0.5721105527638191, 1: 0.42788944723618094}; total time=  18.7s\n",
      "[CV] END class_weight={0: 0.5721105527638191, 1: 0.42788944723618094}; total time=  17.3s\n",
      "[CV] END class_weight={0: 0.5770854271356785, 1: 0.42291457286432155}; total time=  17.0s\n",
      "[CV] END class_weight={0: 0.5770854271356785, 1: 0.42291457286432155}; total time=  15.7s\n",
      "[CV] END class_weight={0: 0.5770854271356785, 1: 0.42291457286432155}; total time=  18.5s\n",
      "[CV] END class_weight={0: 0.5770854271356785, 1: 0.42291457286432155}; total time=  15.4s\n",
      "[CV] END class_weight={0: 0.5770854271356785, 1: 0.42291457286432155}; total time=  14.4s\n",
      "[CV] END class_weight={0: 0.5820603015075377, 1: 0.41793969849246226}; total time=  14.1s\n",
      "[CV] END class_weight={0: 0.5820603015075377, 1: 0.41793969849246226}; total time=  13.5s\n",
      "[CV] END class_weight={0: 0.5820603015075377, 1: 0.41793969849246226}; total time=  14.7s\n",
      "[CV] END class_weight={0: 0.5820603015075377, 1: 0.41793969849246226}; total time=  15.2s\n",
      "[CV] END class_weight={0: 0.5820603015075377, 1: 0.41793969849246226}; total time=  14.3s\n",
      "[CV] END class_weight={0: 0.587035175879397, 1: 0.412964824120603}; total time=  15.4s\n"
     ]
    },
    {
     "name": "stderr",
     "output_type": "stream",
     "text": [
      "/Users/oub/opt/anaconda3/lib/python3.9/site-packages/scipy/optimize/linesearch.py:437: LineSearchWarning: Rounding errors prevent the line search from converging\n",
      "  warn(msg, LineSearchWarning)\n",
      "/Users/oub/opt/anaconda3/lib/python3.9/site-packages/scipy/optimize/linesearch.py:327: LineSearchWarning: The line search algorithm did not converge\n",
      "  warn('The line search algorithm did not converge', LineSearchWarning)\n",
      "/Users/oub/opt/anaconda3/lib/python3.9/site-packages/sklearn/utils/optimize.py:203: UserWarning: Line Search failed\n",
      "  warnings.warn(\"Line Search failed\")\n"
     ]
    },
    {
     "name": "stdout",
     "output_type": "stream",
     "text": [
      "[CV] END class_weight={0: 0.587035175879397, 1: 0.412964824120603}; total time=  17.5s\n",
      "[CV] END class_weight={0: 0.587035175879397, 1: 0.412964824120603}; total time=  24.1s\n",
      "[CV] END class_weight={0: 0.587035175879397, 1: 0.412964824120603}; total time=  20.4s\n"
     ]
    },
    {
     "name": "stderr",
     "output_type": "stream",
     "text": [
      "/Users/oub/opt/anaconda3/lib/python3.9/site-packages/scipy/optimize/linesearch.py:327: LineSearchWarning: The line search algorithm did not converge\n",
      "  warn('The line search algorithm did not converge', LineSearchWarning)\n",
      "/Users/oub/opt/anaconda3/lib/python3.9/site-packages/sklearn/utils/optimize.py:203: UserWarning: Line Search failed\n",
      "  warnings.warn(\"Line Search failed\")\n"
     ]
    },
    {
     "name": "stdout",
     "output_type": "stream",
     "text": [
      "[CV] END class_weight={0: 0.587035175879397, 1: 0.412964824120603}; total time=  33.0s\n",
      "[CV] END class_weight={0: 0.5920100502512563, 1: 0.4079899497487437}; total time=  20.0s\n",
      "[CV] END class_weight={0: 0.5920100502512563, 1: 0.4079899497487437}; total time=  18.4s\n"
     ]
    },
    {
     "name": "stderr",
     "output_type": "stream",
     "text": [
      "/Users/oub/opt/anaconda3/lib/python3.9/site-packages/scipy/optimize/linesearch.py:327: LineSearchWarning: The line search algorithm did not converge\n",
      "  warn('The line search algorithm did not converge', LineSearchWarning)\n",
      "/Users/oub/opt/anaconda3/lib/python3.9/site-packages/sklearn/utils/optimize.py:203: UserWarning: Line Search failed\n",
      "  warnings.warn(\"Line Search failed\")\n"
     ]
    },
    {
     "name": "stdout",
     "output_type": "stream",
     "text": [
      "[CV] END class_weight={0: 0.5920100502512563, 1: 0.4079899497487437}; total time=  30.6s\n",
      "[CV] END class_weight={0: 0.5920100502512563, 1: 0.4079899497487437}; total time=  27.9s\n",
      "[CV] END class_weight={0: 0.5920100502512563, 1: 0.4079899497487437}; total time=  27.3s\n",
      "[CV] END class_weight={0: 0.5969849246231156, 1: 0.4030150753768844}; total time=  29.4s\n",
      "[CV] END class_weight={0: 0.5969849246231156, 1: 0.4030150753768844}; total time=  27.1s\n",
      "[CV] END class_weight={0: 0.5969849246231156, 1: 0.4030150753768844}; total time=  24.0s\n",
      "[CV] END class_weight={0: 0.5969849246231156, 1: 0.4030150753768844}; total time=  27.6s\n",
      "[CV] END class_weight={0: 0.5969849246231156, 1: 0.4030150753768844}; total time=  19.9s\n",
      "[CV] END class_weight={0: 0.6019597989949749, 1: 0.39804020100502513}; total time=  16.7s\n",
      "[CV] END class_weight={0: 0.6019597989949749, 1: 0.39804020100502513}; total time=  22.3s\n",
      "[CV] END class_weight={0: 0.6019597989949749, 1: 0.39804020100502513}; total time=  26.5s\n",
      "[CV] END class_weight={0: 0.6019597989949749, 1: 0.39804020100502513}; total time=  28.9s\n",
      "[CV] END class_weight={0: 0.6019597989949749, 1: 0.39804020100502513}; total time=  28.6s\n",
      "[CV] END class_weight={0: 0.6069346733668342, 1: 0.39306532663316585}; total time=  27.5s\n"
     ]
    },
    {
     "name": "stderr",
     "output_type": "stream",
     "text": [
      "/Users/oub/opt/anaconda3/lib/python3.9/site-packages/scipy/optimize/linesearch.py:327: LineSearchWarning: The line search algorithm did not converge\n",
      "  warn('The line search algorithm did not converge', LineSearchWarning)\n",
      "/Users/oub/opt/anaconda3/lib/python3.9/site-packages/sklearn/utils/optimize.py:203: UserWarning: Line Search failed\n",
      "  warnings.warn(\"Line Search failed\")\n"
     ]
    },
    {
     "name": "stdout",
     "output_type": "stream",
     "text": [
      "[CV] END class_weight={0: 0.6069346733668342, 1: 0.39306532663316585}; total time=  41.8s\n",
      "[CV] END class_weight={0: 0.6069346733668342, 1: 0.39306532663316585}; total time=  37.3s\n",
      "[CV] END class_weight={0: 0.6069346733668342, 1: 0.39306532663316585}; total time=  40.0s\n",
      "[CV] END class_weight={0: 0.6069346733668342, 1: 0.39306532663316585}; total time=  44.2s\n",
      "[CV] END class_weight={0: 0.6119095477386934, 1: 0.38809045226130656}; total time=  26.2s\n",
      "[CV] END class_weight={0: 0.6119095477386934, 1: 0.38809045226130656}; total time=  23.5s\n",
      "[CV] END class_weight={0: 0.6119095477386934, 1: 0.38809045226130656}; total time=  27.4s\n",
      "[CV] END class_weight={0: 0.6119095477386934, 1: 0.38809045226130656}; total time=  15.4s\n",
      "[CV] END class_weight={0: 0.6119095477386934, 1: 0.38809045226130656}; total time=  23.4s\n",
      "[CV] END class_weight={0: 0.6168844221105528, 1: 0.38311557788944717}; total time=  18.8s\n",
      "[CV] END class_weight={0: 0.6168844221105528, 1: 0.38311557788944717}; total time=  19.1s\n",
      "[CV] END class_weight={0: 0.6168844221105528, 1: 0.38311557788944717}; total time=  17.9s\n",
      "[CV] END class_weight={0: 0.6218592964824121, 1: 0.3781407035175879}; total time=  20.8s\n",
      "[CV] END class_weight={0: 0.6168844221105528, 1: 0.38311557788944717}; total time=  31.0s\n"
     ]
    },
    {
     "name": "stderr",
     "output_type": "stream",
     "text": [
      "/Users/oub/opt/anaconda3/lib/python3.9/site-packages/scipy/optimize/linesearch.py:327: LineSearchWarning: The line search algorithm did not converge\n",
      "  warn('The line search algorithm did not converge', LineSearchWarning)\n",
      "/Users/oub/opt/anaconda3/lib/python3.9/site-packages/sklearn/utils/optimize.py:203: UserWarning: Line Search failed\n",
      "  warnings.warn(\"Line Search failed\")\n"
     ]
    },
    {
     "name": "stdout",
     "output_type": "stream",
     "text": [
      "[CV] END class_weight={0: 0.6168844221105528, 1: 0.38311557788944717}; total time=  31.4s\n"
     ]
    },
    {
     "name": "stderr",
     "output_type": "stream",
     "text": [
      "/Users/oub/opt/anaconda3/lib/python3.9/site-packages/scipy/optimize/linesearch.py:327: LineSearchWarning: The line search algorithm did not converge\n",
      "  warn('The line search algorithm did not converge', LineSearchWarning)\n",
      "/Users/oub/opt/anaconda3/lib/python3.9/site-packages/sklearn/utils/optimize.py:203: UserWarning: Line Search failed\n",
      "  warnings.warn(\"Line Search failed\")\n"
     ]
    },
    {
     "name": "stdout",
     "output_type": "stream",
     "text": [
      "[CV] END class_weight={0: 0.6218592964824121, 1: 0.3781407035175879}; total time=  30.4s\n"
     ]
    },
    {
     "name": "stderr",
     "output_type": "stream",
     "text": [
      "/Users/oub/opt/anaconda3/lib/python3.9/site-packages/scipy/optimize/linesearch.py:437: LineSearchWarning: Rounding errors prevent the line search from converging\n",
      "  warn(msg, LineSearchWarning)\n",
      "/Users/oub/opt/anaconda3/lib/python3.9/site-packages/scipy/optimize/linesearch.py:327: LineSearchWarning: The line search algorithm did not converge\n",
      "  warn('The line search algorithm did not converge', LineSearchWarning)\n",
      "/Users/oub/opt/anaconda3/lib/python3.9/site-packages/sklearn/utils/optimize.py:203: UserWarning: Line Search failed\n",
      "  warnings.warn(\"Line Search failed\")\n"
     ]
    },
    {
     "name": "stdout",
     "output_type": "stream",
     "text": [
      "[CV] END class_weight={0: 0.6218592964824121, 1: 0.3781407035175879}; total time=  21.9s\n",
      "[CV] END class_weight={0: 0.6218592964824121, 1: 0.3781407035175879}; total time=  18.8s\n"
     ]
    },
    {
     "name": "stderr",
     "output_type": "stream",
     "text": [
      "/Users/oub/opt/anaconda3/lib/python3.9/site-packages/scipy/optimize/linesearch.py:327: LineSearchWarning: The line search algorithm did not converge\n",
      "  warn('The line search algorithm did not converge', LineSearchWarning)\n",
      "/Users/oub/opt/anaconda3/lib/python3.9/site-packages/sklearn/utils/optimize.py:203: UserWarning: Line Search failed\n",
      "  warnings.warn(\"Line Search failed\")\n"
     ]
    },
    {
     "name": "stdout",
     "output_type": "stream",
     "text": [
      "[CV] END class_weight={0: 0.6218592964824121, 1: 0.3781407035175879}; total time=  18.8s\n",
      "[CV] END class_weight={0: 0.6268341708542714, 1: 0.3731658291457286}; total time=  18.6s\n",
      "[CV] END class_weight={0: 0.6268341708542714, 1: 0.3731658291457286}; total time=  18.0s\n",
      "[CV] END class_weight={0: 0.6268341708542714, 1: 0.3731658291457286}; total time=  22.2s\n"
     ]
    },
    {
     "name": "stderr",
     "output_type": "stream",
     "text": [
      "/Users/oub/opt/anaconda3/lib/python3.9/site-packages/scipy/optimize/linesearch.py:437: LineSearchWarning: Rounding errors prevent the line search from converging\n",
      "  warn(msg, LineSearchWarning)\n",
      "/Users/oub/opt/anaconda3/lib/python3.9/site-packages/scipy/optimize/linesearch.py:327: LineSearchWarning: The line search algorithm did not converge\n",
      "  warn('The line search algorithm did not converge', LineSearchWarning)\n",
      "/Users/oub/opt/anaconda3/lib/python3.9/site-packages/sklearn/utils/optimize.py:203: UserWarning: Line Search failed\n",
      "  warnings.warn(\"Line Search failed\")\n"
     ]
    },
    {
     "name": "stdout",
     "output_type": "stream",
     "text": [
      "[CV] END class_weight={0: 0.6268341708542714, 1: 0.3731658291457286}; total time=  20.2s\n"
     ]
    },
    {
     "name": "stderr",
     "output_type": "stream",
     "text": [
      "/Users/oub/opt/anaconda3/lib/python3.9/site-packages/scipy/optimize/linesearch.py:327: LineSearchWarning: The line search algorithm did not converge\n",
      "  warn('The line search algorithm did not converge', LineSearchWarning)\n",
      "/Users/oub/opt/anaconda3/lib/python3.9/site-packages/sklearn/utils/optimize.py:203: UserWarning: Line Search failed\n",
      "  warnings.warn(\"Line Search failed\")\n"
     ]
    },
    {
     "name": "stdout",
     "output_type": "stream",
     "text": [
      "[CV] END class_weight={0: 0.6318090452261307, 1: 0.3681909547738693}; total time=  21.3s\n",
      "[CV] END class_weight={0: 0.6268341708542714, 1: 0.3731658291457286}; total time=  22.4s\n",
      "[CV] END class_weight={0: 0.6318090452261307, 1: 0.3681909547738693}; total time=  18.5s\n",
      "[CV] END class_weight={0: 0.6318090452261307, 1: 0.3681909547738693}; total time=  22.0s\n",
      "[CV] END class_weight={0: 0.6318090452261307, 1: 0.3681909547738693}; total time=  20.7s\n",
      "[CV] END class_weight={0: 0.6318090452261307, 1: 0.3681909547738693}; total time=  23.8s\n",
      "[CV] END class_weight={0: 0.63678391959799, 1: 0.36321608040201003}; total time=  22.9s\n",
      "[CV] END class_weight={0: 0.63678391959799, 1: 0.36321608040201003}; total time=  22.7s\n",
      "[CV] END class_weight={0: 0.63678391959799, 1: 0.36321608040201003}; total time=  17.6s\n"
     ]
    },
    {
     "name": "stderr",
     "output_type": "stream",
     "text": [
      "/Users/oub/opt/anaconda3/lib/python3.9/site-packages/scipy/optimize/linesearch.py:327: LineSearchWarning: The line search algorithm did not converge\n",
      "  warn('The line search algorithm did not converge', LineSearchWarning)\n",
      "/Users/oub/opt/anaconda3/lib/python3.9/site-packages/sklearn/utils/optimize.py:203: UserWarning: Line Search failed\n",
      "  warnings.warn(\"Line Search failed\")\n"
     ]
    },
    {
     "name": "stdout",
     "output_type": "stream",
     "text": [
      "[CV] END class_weight={0: 0.63678391959799, 1: 0.36321608040201003}; total time=  23.5s\n",
      "[CV] END class_weight={0: 0.63678391959799, 1: 0.36321608040201003}; total time=  18.5s\n",
      "[CV] END class_weight={0: 0.6417587939698493, 1: 0.35824120603015075}; total time=  20.1s\n",
      "[CV] END class_weight={0: 0.6417587939698493, 1: 0.35824120603015075}; total time=  16.8s\n",
      "[CV] END class_weight={0: 0.6417587939698493, 1: 0.35824120603015075}; total time=  20.9s\n",
      "[CV] END class_weight={0: 0.6417587939698493, 1: 0.35824120603015075}; total time=  21.5s\n",
      "[CV] END class_weight={0: 0.6417587939698493, 1: 0.35824120603015075}; total time=  19.8s\n",
      "[CV] END class_weight={0: 0.6467336683417085, 1: 0.35326633165829147}; total time=  18.8s\n",
      "[CV] END class_weight={0: 0.6467336683417085, 1: 0.35326633165829147}; total time=  15.3s\n",
      "[CV] END class_weight={0: 0.6467336683417085, 1: 0.35326633165829147}; total time=  19.1s\n",
      "[CV] END class_weight={0: 0.6467336683417085, 1: 0.35326633165829147}; total time=  22.8s\n",
      "[CV] END class_weight={0: 0.6517085427135678, 1: 0.3482914572864322}; total time=  20.0s\n"
     ]
    },
    {
     "name": "stderr",
     "output_type": "stream",
     "text": [
      "/Users/oub/opt/anaconda3/lib/python3.9/site-packages/scipy/optimize/linesearch.py:327: LineSearchWarning: The line search algorithm did not converge\n",
      "  warn('The line search algorithm did not converge', LineSearchWarning)\n",
      "/Users/oub/opt/anaconda3/lib/python3.9/site-packages/sklearn/utils/optimize.py:203: UserWarning: Line Search failed\n",
      "  warnings.warn(\"Line Search failed\")\n"
     ]
    },
    {
     "name": "stdout",
     "output_type": "stream",
     "text": [
      "[CV] END class_weight={0: 0.6467336683417085, 1: 0.35326633165829147}; total time=  26.5s\n",
      "[CV] END class_weight={0: 0.6517085427135678, 1: 0.3482914572864322}; total time=  17.5s\n",
      "[CV] END class_weight={0: 0.6517085427135678, 1: 0.3482914572864322}; total time=  22.1s\n",
      "[CV] END class_weight={0: 0.6517085427135678, 1: 0.3482914572864322}; total time=  18.4s\n",
      "[CV] END class_weight={0: 0.6566834170854271, 1: 0.3433165829145729}; total time=  18.5s\n",
      "[CV] END class_weight={0: 0.6517085427135678, 1: 0.3482914572864322}; total time=  19.8s\n",
      "[CV] END class_weight={0: 0.6566834170854271, 1: 0.3433165829145729}; total time=  32.1s\n"
     ]
    },
    {
     "name": "stderr",
     "output_type": "stream",
     "text": [
      "/Users/oub/opt/anaconda3/lib/python3.9/site-packages/scipy/optimize/linesearch.py:437: LineSearchWarning: Rounding errors prevent the line search from converging\n",
      "  warn(msg, LineSearchWarning)\n",
      "/Users/oub/opt/anaconda3/lib/python3.9/site-packages/scipy/optimize/linesearch.py:327: LineSearchWarning: The line search algorithm did not converge\n",
      "  warn('The line search algorithm did not converge', LineSearchWarning)\n",
      "/Users/oub/opt/anaconda3/lib/python3.9/site-packages/sklearn/utils/optimize.py:203: UserWarning: Line Search failed\n",
      "  warnings.warn(\"Line Search failed\")\n"
     ]
    },
    {
     "name": "stdout",
     "output_type": "stream",
     "text": [
      "[CV] END class_weight={0: 0.6566834170854271, 1: 0.3433165829145729}; total time=  33.4s\n",
      "[CV] END class_weight={0: 0.6566834170854271, 1: 0.3433165829145729}; total time=  31.5s\n",
      "[CV] END class_weight={0: 0.6566834170854271, 1: 0.3433165829145729}; total time=  33.0s\n",
      "[CV] END class_weight={0: 0.6616582914572865, 1: 0.3383417085427135}; total time=  16.9s\n",
      "[CV] END class_weight={0: 0.6616582914572865, 1: 0.3383417085427135}; total time=  20.3s\n",
      "[CV] END class_weight={0: 0.6616582914572865, 1: 0.3383417085427135}; total time=  22.9s\n"
     ]
    },
    {
     "name": "stderr",
     "output_type": "stream",
     "text": [
      "/Users/oub/opt/anaconda3/lib/python3.9/site-packages/scipy/optimize/linesearch.py:327: LineSearchWarning: The line search algorithm did not converge\n",
      "  warn('The line search algorithm did not converge', LineSearchWarning)\n",
      "/Users/oub/opt/anaconda3/lib/python3.9/site-packages/sklearn/utils/optimize.py:203: UserWarning: Line Search failed\n",
      "  warnings.warn(\"Line Search failed\")\n"
     ]
    },
    {
     "name": "stdout",
     "output_type": "stream",
     "text": [
      "[CV] END class_weight={0: 0.6616582914572865, 1: 0.3383417085427135}; total time=  25.1s\n"
     ]
    },
    {
     "name": "stderr",
     "output_type": "stream",
     "text": [
      "/Users/oub/opt/anaconda3/lib/python3.9/site-packages/scipy/optimize/linesearch.py:327: LineSearchWarning: The line search algorithm did not converge\n",
      "  warn('The line search algorithm did not converge', LineSearchWarning)\n",
      "/Users/oub/opt/anaconda3/lib/python3.9/site-packages/sklearn/utils/optimize.py:203: UserWarning: Line Search failed\n",
      "  warnings.warn(\"Line Search failed\")\n"
     ]
    },
    {
     "name": "stdout",
     "output_type": "stream",
     "text": [
      "[CV] END class_weight={0: 0.6666331658291458, 1: 0.3333668341708542}; total time=  30.2s\n",
      "[CV] END class_weight={0: 0.6616582914572865, 1: 0.3383417085427135}; total time=  31.6s\n",
      "[CV] END class_weight={0: 0.6666331658291458, 1: 0.3333668341708542}; total time=  25.4s\n",
      "[CV] END class_weight={0: 0.6666331658291458, 1: 0.3333668341708542}; total time=  25.7s\n",
      "[CV] END class_weight={0: 0.6716080402010051, 1: 0.32839195979899494}; total time=  34.0s\n",
      "[CV] END class_weight={0: 0.6716080402010051, 1: 0.32839195979899494}; total time=  38.4s\n"
     ]
    },
    {
     "name": "stderr",
     "output_type": "stream",
     "text": [
      "/Users/oub/opt/anaconda3/lib/python3.9/site-packages/scipy/optimize/linesearch.py:327: LineSearchWarning: The line search algorithm did not converge\n",
      "  warn('The line search algorithm did not converge', LineSearchWarning)\n",
      "/Users/oub/opt/anaconda3/lib/python3.9/site-packages/sklearn/utils/optimize.py:203: UserWarning: Line Search failed\n",
      "  warnings.warn(\"Line Search failed\")\n"
     ]
    },
    {
     "name": "stdout",
     "output_type": "stream",
     "text": [
      "[CV] END class_weight={0: 0.6666331658291458, 1: 0.3333668341708542}; total time=  43.9s\n"
     ]
    },
    {
     "name": "stderr",
     "output_type": "stream",
     "text": [
      "/Users/oub/opt/anaconda3/lib/python3.9/site-packages/scipy/optimize/linesearch.py:327: LineSearchWarning: The line search algorithm did not converge\n",
      "  warn('The line search algorithm did not converge', LineSearchWarning)\n",
      "/Users/oub/opt/anaconda3/lib/python3.9/site-packages/sklearn/utils/optimize.py:203: UserWarning: Line Search failed\n",
      "  warnings.warn(\"Line Search failed\")\n"
     ]
    },
    {
     "name": "stdout",
     "output_type": "stream",
     "text": [
      "[CV] END class_weight={0: 0.6666331658291458, 1: 0.3333668341708542}; total time=  45.6s\n",
      "[CV] END class_weight={0: 0.6765829145728643, 1: 0.32341708542713565}; total time=  25.7s\n",
      "[CV] END class_weight={0: 0.6716080402010051, 1: 0.32839195979899494}; total time=  29.0s\n",
      "[CV] END class_weight={0: 0.6716080402010051, 1: 0.32839195979899494}; total time=  34.2s\n"
     ]
    },
    {
     "name": "stderr",
     "output_type": "stream",
     "text": [
      "/Users/oub/opt/anaconda3/lib/python3.9/site-packages/scipy/optimize/linesearch.py:327: LineSearchWarning: The line search algorithm did not converge\n",
      "  warn('The line search algorithm did not converge', LineSearchWarning)\n",
      "/Users/oub/opt/anaconda3/lib/python3.9/site-packages/sklearn/utils/optimize.py:203: UserWarning: Line Search failed\n",
      "  warnings.warn(\"Line Search failed\")\n"
     ]
    },
    {
     "name": "stdout",
     "output_type": "stream",
     "text": [
      "[CV] END class_weight={0: 0.6716080402010051, 1: 0.32839195979899494}; total time=  30.9s\n",
      "[CV] END class_weight={0: 0.6765829145728643, 1: 0.32341708542713565}; total time=  25.2s\n",
      "[CV] END class_weight={0: 0.6765829145728643, 1: 0.32341708542713565}; total time=  29.1s\n",
      "[CV] END class_weight={0: 0.6765829145728643, 1: 0.32341708542713565}; total time=  30.0s\n",
      "[CV] END class_weight={0: 0.6765829145728643, 1: 0.32341708542713565}; total time=  28.5s\n",
      "[CV] END class_weight={0: 0.6815577889447236, 1: 0.31844221105527637}; total time=  21.8s\n",
      "[CV] END class_weight={0: 0.6815577889447236, 1: 0.31844221105527637}; total time=  18.2s\n",
      "[CV] END class_weight={0: 0.6815577889447236, 1: 0.31844221105527637}; total time=  16.2s\n",
      "[CV] END class_weight={0: 0.6815577889447236, 1: 0.31844221105527637}; total time=  20.6s\n",
      "[CV] END class_weight={0: 0.6865326633165829, 1: 0.3134673366834171}; total time=  20.8s\n",
      "[CV] END class_weight={0: 0.6865326633165829, 1: 0.3134673366834171}; total time=  22.0s\n",
      "[CV] END class_weight={0: 0.6815577889447236, 1: 0.31844221105527637}; total time=  25.5s\n",
      "[CV] END class_weight={0: 0.6865326633165829, 1: 0.3134673366834171}; total time=  25.7s\n",
      "[CV] END class_weight={0: 0.6865326633165829, 1: 0.3134673366834171}; total time=  19.0s\n"
     ]
    },
    {
     "name": "stderr",
     "output_type": "stream",
     "text": [
      "/Users/oub/opt/anaconda3/lib/python3.9/site-packages/scipy/optimize/linesearch.py:437: LineSearchWarning: Rounding errors prevent the line search from converging\n",
      "  warn(msg, LineSearchWarning)\n",
      "/Users/oub/opt/anaconda3/lib/python3.9/site-packages/scipy/optimize/linesearch.py:327: LineSearchWarning: The line search algorithm did not converge\n",
      "  warn('The line search algorithm did not converge', LineSearchWarning)\n",
      "/Users/oub/opt/anaconda3/lib/python3.9/site-packages/sklearn/utils/optimize.py:203: UserWarning: Line Search failed\n",
      "  warnings.warn(\"Line Search failed\")\n"
     ]
    },
    {
     "name": "stdout",
     "output_type": "stream",
     "text": [
      "[CV] END class_weight={0: 0.6865326633165829, 1: 0.3134673366834171}; total time=  23.5s\n",
      "[CV] END class_weight={0: 0.6915075376884422, 1: 0.3084924623115578}; total time=  21.5s\n",
      "[CV] END class_weight={0: 0.6915075376884422, 1: 0.3084924623115578}; total time=  19.8s\n",
      "[CV] END class_weight={0: 0.6915075376884422, 1: 0.3084924623115578}; total time=  17.9s\n",
      "[CV] END class_weight={0: 0.6915075376884422, 1: 0.3084924623115578}; total time=  20.6s\n",
      "[CV] END class_weight={0: 0.6915075376884422, 1: 0.3084924623115578}; total time=  23.0s\n",
      "[CV] END class_weight={0: 0.6964824120603015, 1: 0.3035175879396985}; total time=  19.5s\n",
      "[CV] END class_weight={0: 0.6964824120603015, 1: 0.3035175879396985}; total time=  18.5s\n",
      "[CV] END class_weight={0: 0.6964824120603015, 1: 0.3035175879396985}; total time=  19.8s\n",
      "[CV] END class_weight={0: 0.6964824120603015, 1: 0.3035175879396985}; total time=  18.8s\n"
     ]
    },
    {
     "name": "stderr",
     "output_type": "stream",
     "text": [
      "/Users/oub/opt/anaconda3/lib/python3.9/site-packages/scipy/optimize/linesearch.py:327: LineSearchWarning: The line search algorithm did not converge\n",
      "  warn('The line search algorithm did not converge', LineSearchWarning)\n",
      "/Users/oub/opt/anaconda3/lib/python3.9/site-packages/sklearn/utils/optimize.py:203: UserWarning: Line Search failed\n",
      "  warnings.warn(\"Line Search failed\")\n"
     ]
    },
    {
     "name": "stdout",
     "output_type": "stream",
     "text": [
      "[CV] END class_weight={0: 0.6964824120603015, 1: 0.3035175879396985}; total time=  23.9s\n",
      "[CV] END class_weight={0: 0.7014572864321609, 1: 0.2985427135678391}; total time=  19.5s\n",
      "[CV] END class_weight={0: 0.7014572864321609, 1: 0.2985427135678391}; total time=  22.9s\n",
      "[CV] END class_weight={0: 0.7014572864321609, 1: 0.2985427135678391}; total time=  22.6s\n",
      "[CV] END class_weight={0: 0.7014572864321609, 1: 0.2985427135678391}; total time=  23.5s\n",
      "[CV] END class_weight={0: 0.7014572864321609, 1: 0.2985427135678391}; total time=  22.9s\n",
      "[CV] END class_weight={0: 0.7064321608040202, 1: 0.29356783919597984}; total time=  20.1s\n"
     ]
    },
    {
     "name": "stderr",
     "output_type": "stream",
     "text": [
      "/Users/oub/opt/anaconda3/lib/python3.9/site-packages/scipy/optimize/linesearch.py:327: LineSearchWarning: The line search algorithm did not converge\n",
      "  warn('The line search algorithm did not converge', LineSearchWarning)\n",
      "/Users/oub/opt/anaconda3/lib/python3.9/site-packages/sklearn/utils/optimize.py:203: UserWarning: Line Search failed\n",
      "  warnings.warn(\"Line Search failed\")\n"
     ]
    },
    {
     "name": "stdout",
     "output_type": "stream",
     "text": [
      "[CV] END class_weight={0: 0.7064321608040202, 1: 0.29356783919597984}; total time=  25.2s\n",
      "[CV] END class_weight={0: 0.7064321608040202, 1: 0.29356783919597984}; total time=  20.9s\n"
     ]
    },
    {
     "name": "stderr",
     "output_type": "stream",
     "text": [
      "/Users/oub/opt/anaconda3/lib/python3.9/site-packages/scipy/optimize/linesearch.py:327: LineSearchWarning: The line search algorithm did not converge\n",
      "  warn('The line search algorithm did not converge', LineSearchWarning)\n",
      "/Users/oub/opt/anaconda3/lib/python3.9/site-packages/sklearn/utils/optimize.py:203: UserWarning: Line Search failed\n",
      "  warnings.warn(\"Line Search failed\")\n"
     ]
    },
    {
     "name": "stdout",
     "output_type": "stream",
     "text": [
      "[CV] END class_weight={0: 0.7064321608040202, 1: 0.29356783919597984}; total time=  28.1s\n",
      "[CV] END class_weight={0: 0.7064321608040202, 1: 0.29356783919597984}; total time=  20.1s\n",
      "[CV] END class_weight={0: 0.7114070351758794, 1: 0.28859296482412056}; total time=  19.2s\n",
      "[CV] END class_weight={0: 0.7114070351758794, 1: 0.28859296482412056}; total time=  20.2s\n",
      "[CV] END class_weight={0: 0.7114070351758794, 1: 0.28859296482412056}; total time=  20.9s\n",
      "[CV] END class_weight={0: 0.7114070351758794, 1: 0.28859296482412056}; total time=  23.6s\n",
      "[CV] END class_weight={0: 0.7114070351758794, 1: 0.28859296482412056}; total time=  18.8s\n"
     ]
    },
    {
     "name": "stderr",
     "output_type": "stream",
     "text": [
      "/Users/oub/opt/anaconda3/lib/python3.9/site-packages/scipy/optimize/linesearch.py:437: LineSearchWarning: Rounding errors prevent the line search from converging\n",
      "  warn(msg, LineSearchWarning)\n",
      "/Users/oub/opt/anaconda3/lib/python3.9/site-packages/scipy/optimize/linesearch.py:327: LineSearchWarning: The line search algorithm did not converge\n",
      "  warn('The line search algorithm did not converge', LineSearchWarning)\n",
      "/Users/oub/opt/anaconda3/lib/python3.9/site-packages/sklearn/utils/optimize.py:203: UserWarning: Line Search failed\n",
      "  warnings.warn(\"Line Search failed\")\n"
     ]
    },
    {
     "name": "stdout",
     "output_type": "stream",
     "text": [
      "[CV] END class_weight={0: 0.7163819095477387, 1: 0.2836180904522613}; total time=  18.8s\n",
      "[CV] END class_weight={0: 0.7163819095477387, 1: 0.2836180904522613}; total time=  20.5s\n",
      "[CV] END class_weight={0: 0.7163819095477387, 1: 0.2836180904522613}; total time=  21.5s\n"
     ]
    },
    {
     "name": "stderr",
     "output_type": "stream",
     "text": [
      "/Users/oub/opt/anaconda3/lib/python3.9/site-packages/scipy/optimize/linesearch.py:327: LineSearchWarning: The line search algorithm did not converge\n",
      "  warn('The line search algorithm did not converge', LineSearchWarning)\n",
      "/Users/oub/opt/anaconda3/lib/python3.9/site-packages/sklearn/utils/optimize.py:203: UserWarning: Line Search failed\n",
      "  warnings.warn(\"Line Search failed\")\n"
     ]
    },
    {
     "name": "stdout",
     "output_type": "stream",
     "text": [
      "[CV] END class_weight={0: 0.7163819095477387, 1: 0.2836180904522613}; total time=  23.3s\n",
      "[CV] END class_weight={0: 0.7163819095477387, 1: 0.2836180904522613}; total time=  22.1s\n",
      "[CV] END class_weight={0: 0.721356783919598, 1: 0.278643216080402}; total time=  17.7s\n",
      "[CV] END class_weight={0: 0.721356783919598, 1: 0.278643216080402}; total time=  25.5s\n",
      "[CV] END class_weight={0: 0.721356783919598, 1: 0.278643216080402}; total time=  30.6s\n"
     ]
    },
    {
     "name": "stderr",
     "output_type": "stream",
     "text": [
      "/Users/oub/opt/anaconda3/lib/python3.9/site-packages/scipy/optimize/linesearch.py:327: LineSearchWarning: The line search algorithm did not converge\n",
      "  warn('The line search algorithm did not converge', LineSearchWarning)\n",
      "/Users/oub/opt/anaconda3/lib/python3.9/site-packages/sklearn/utils/optimize.py:203: UserWarning: Line Search failed\n",
      "  warnings.warn(\"Line Search failed\")\n"
     ]
    },
    {
     "name": "stdout",
     "output_type": "stream",
     "text": [
      "[CV] END class_weight={0: 0.721356783919598, 1: 0.278643216080402}; total time=  35.8s\n"
     ]
    },
    {
     "name": "stderr",
     "output_type": "stream",
     "text": [
      "/Users/oub/opt/anaconda3/lib/python3.9/site-packages/scipy/optimize/linesearch.py:327: LineSearchWarning: The line search algorithm did not converge\n",
      "  warn('The line search algorithm did not converge', LineSearchWarning)\n",
      "/Users/oub/opt/anaconda3/lib/python3.9/site-packages/sklearn/utils/optimize.py:203: UserWarning: Line Search failed\n",
      "  warnings.warn(\"Line Search failed\")\n"
     ]
    },
    {
     "name": "stdout",
     "output_type": "stream",
     "text": [
      "[CV] END class_weight={0: 0.721356783919598, 1: 0.278643216080402}; total time=  34.5s\n",
      "[CV] END class_weight={0: 0.7263316582914573, 1: 0.2736683417085427}; total time=  28.0s\n",
      "[CV] END class_weight={0: 0.7263316582914573, 1: 0.2736683417085427}; total time=  23.4s\n",
      "[CV] END class_weight={0: 0.7263316582914573, 1: 0.2736683417085427}; total time=  26.1s\n",
      "[CV] END class_weight={0: 0.7263316582914573, 1: 0.2736683417085427}; total time=  26.3s\n",
      "[CV] END class_weight={0: 0.7263316582914573, 1: 0.2736683417085427}; total time=  24.3s\n",
      "[CV] END class_weight={0: 0.7313065326633166, 1: 0.2686934673366834}; total time=  22.3s\n",
      "[CV] END class_weight={0: 0.7313065326633166, 1: 0.2686934673366834}; total time=  22.3s\n",
      "[CV] END class_weight={0: 0.7313065326633166, 1: 0.2686934673366834}; total time=  21.5s\n",
      "[CV] END class_weight={0: 0.7313065326633166, 1: 0.2686934673366834}; total time=  17.7s\n"
     ]
    },
    {
     "name": "stderr",
     "output_type": "stream",
     "text": [
      "/Users/oub/opt/anaconda3/lib/python3.9/site-packages/scipy/optimize/linesearch.py:327: LineSearchWarning: The line search algorithm did not converge\n",
      "  warn('The line search algorithm did not converge', LineSearchWarning)\n",
      "/Users/oub/opt/anaconda3/lib/python3.9/site-packages/sklearn/utils/optimize.py:203: UserWarning: Line Search failed\n",
      "  warnings.warn(\"Line Search failed\")\n"
     ]
    },
    {
     "name": "stdout",
     "output_type": "stream",
     "text": [
      "[CV] END class_weight={0: 0.7313065326633166, 1: 0.2686934673366834}; total time=  25.9s\n",
      "[CV] END class_weight={0: 0.7362814070351759, 1: 0.26371859296482414}; total time=  16.4s\n",
      "[CV] END class_weight={0: 0.7362814070351759, 1: 0.26371859296482414}; total time=  17.1s\n",
      "[CV] END class_weight={0: 0.7362814070351759, 1: 0.26371859296482414}; total time=  15.5s\n",
      "[CV] END class_weight={0: 0.7362814070351759, 1: 0.26371859296482414}; total time=  13.2s\n",
      "[CV] END class_weight={0: 0.7362814070351759, 1: 0.26371859296482414}; total time=  16.2s\n",
      "[CV] END class_weight={0: 0.7412562814070351, 1: 0.25874371859296486}; total time=  14.9s\n",
      "[CV] END class_weight={0: 0.7412562814070351, 1: 0.25874371859296486}; total time=  17.1s\n",
      "[CV] END class_weight={0: 0.7412562814070351, 1: 0.25874371859296486}; total time=  16.1s\n",
      "[CV] END class_weight={0: 0.7412562814070351, 1: 0.25874371859296486}; total time=  16.7s\n",
      "[CV] END class_weight={0: 0.7412562814070351, 1: 0.25874371859296486}; total time=  15.3s\n",
      "[CV] END class_weight={0: 0.7462311557788945, 1: 0.25376884422110546}; total time=  16.9s\n",
      "[CV] END class_weight={0: 0.7462311557788945, 1: 0.25376884422110546}; total time=  16.1s\n",
      "[CV] END class_weight={0: 0.7462311557788945, 1: 0.25376884422110546}; total time=  18.3s\n",
      "[CV] END class_weight={0: 0.7462311557788945, 1: 0.25376884422110546}; total time=  14.4s\n"
     ]
    },
    {
     "name": "stderr",
     "output_type": "stream",
     "text": [
      "/Users/oub/opt/anaconda3/lib/python3.9/site-packages/scipy/optimize/linesearch.py:437: LineSearchWarning: Rounding errors prevent the line search from converging\n",
      "  warn(msg, LineSearchWarning)\n",
      "/Users/oub/opt/anaconda3/lib/python3.9/site-packages/scipy/optimize/linesearch.py:327: LineSearchWarning: The line search algorithm did not converge\n",
      "  warn('The line search algorithm did not converge', LineSearchWarning)\n",
      "/Users/oub/opt/anaconda3/lib/python3.9/site-packages/sklearn/utils/optimize.py:203: UserWarning: Line Search failed\n",
      "  warnings.warn(\"Line Search failed\")\n"
     ]
    },
    {
     "name": "stdout",
     "output_type": "stream",
     "text": [
      "[CV] END class_weight={0: 0.7462311557788945, 1: 0.25376884422110546}; total time=  17.4s\n",
      "[CV] END class_weight={0: 0.7512060301507538, 1: 0.24879396984924618}; total time=  15.6s\n",
      "[CV] END class_weight={0: 0.7512060301507538, 1: 0.24879396984924618}; total time=  17.2s\n",
      "[CV] END class_weight={0: 0.7512060301507538, 1: 0.24879396984924618}; total time=  20.2s\n",
      "[CV] END class_weight={0: 0.7512060301507538, 1: 0.24879396984924618}; total time=  18.2s\n",
      "[CV] END class_weight={0: 0.7512060301507538, 1: 0.24879396984924618}; total time=  18.0s\n",
      "[CV] END class_weight={0: 0.7561809045226131, 1: 0.2438190954773869}; total time=  16.9s\n"
     ]
    },
    {
     "name": "stderr",
     "output_type": "stream",
     "text": [
      "/Users/oub/opt/anaconda3/lib/python3.9/site-packages/scipy/optimize/linesearch.py:327: LineSearchWarning: The line search algorithm did not converge\n",
      "  warn('The line search algorithm did not converge', LineSearchWarning)\n",
      "/Users/oub/opt/anaconda3/lib/python3.9/site-packages/sklearn/utils/optimize.py:203: UserWarning: Line Search failed\n",
      "  warnings.warn(\"Line Search failed\")\n"
     ]
    },
    {
     "name": "stdout",
     "output_type": "stream",
     "text": [
      "[CV] END class_weight={0: 0.7561809045226131, 1: 0.2438190954773869}; total time=  22.6s\n",
      "[CV] END class_weight={0: 0.7561809045226131, 1: 0.2438190954773869}; total time=  21.8s\n"
     ]
    },
    {
     "name": "stderr",
     "output_type": "stream",
     "text": [
      "/Users/oub/opt/anaconda3/lib/python3.9/site-packages/scipy/optimize/linesearch.py:327: LineSearchWarning: The line search algorithm did not converge\n",
      "  warn('The line search algorithm did not converge', LineSearchWarning)\n",
      "/Users/oub/opt/anaconda3/lib/python3.9/site-packages/sklearn/utils/optimize.py:203: UserWarning: Line Search failed\n",
      "  warnings.warn(\"Line Search failed\")\n"
     ]
    },
    {
     "name": "stdout",
     "output_type": "stream",
     "text": [
      "[CV] END class_weight={0: 0.7561809045226131, 1: 0.2438190954773869}; total time=  26.1s\n",
      "[CV] END class_weight={0: 0.7561809045226131, 1: 0.2438190954773869}; total time=  21.1s\n",
      "[CV] END class_weight={0: 0.7611557788944724, 1: 0.2388442211055276}; total time=  19.6s\n",
      "[CV] END class_weight={0: 0.7611557788944724, 1: 0.2388442211055276}; total time=  15.2s\n",
      "[CV] END class_weight={0: 0.7611557788944724, 1: 0.2388442211055276}; total time=  20.9s\n",
      "[CV] END class_weight={0: 0.7611557788944724, 1: 0.2388442211055276}; total time=  17.6s\n",
      "[CV] END class_weight={0: 0.7611557788944724, 1: 0.2388442211055276}; total time=  18.0s\n",
      "[CV] END class_weight={0: 0.7661306532663317, 1: 0.23386934673366833}; total time=  22.8s\n",
      "[CV] END class_weight={0: 0.7661306532663317, 1: 0.23386934673366833}; total time=  19.2s\n",
      "[CV] END class_weight={0: 0.7661306532663317, 1: 0.23386934673366833}; total time=  18.1s\n",
      "[CV] END class_weight={0: 0.7661306532663317, 1: 0.23386934673366833}; total time=  19.1s\n",
      "[CV] END class_weight={0: 0.7661306532663317, 1: 0.23386934673366833}; total time=  17.6s\n",
      "[CV] END class_weight={0: 0.771105527638191, 1: 0.22889447236180904}; total time=  20.2s\n",
      "[CV] END class_weight={0: 0.771105527638191, 1: 0.22889447236180904}; total time=  21.1s\n",
      "[CV] END class_weight={0: 0.771105527638191, 1: 0.22889447236180904}; total time=  24.7s\n",
      "[CV] END class_weight={0: 0.771105527638191, 1: 0.22889447236180904}; total time=  20.7s\n",
      "[CV] END class_weight={0: 0.771105527638191, 1: 0.22889447236180904}; total time=  19.9s\n",
      "[CV] END class_weight={0: 0.7760804020100502, 1: 0.22391959798994976}; total time=  19.4s\n",
      "[CV] END class_weight={0: 0.7760804020100502, 1: 0.22391959798994976}; total time=  20.2s\n",
      "[CV] END class_weight={0: 0.7760804020100502, 1: 0.22391959798994976}; total time=  18.3s\n"
     ]
    },
    {
     "name": "stderr",
     "output_type": "stream",
     "text": [
      "/Users/oub/opt/anaconda3/lib/python3.9/site-packages/scipy/optimize/linesearch.py:327: LineSearchWarning: The line search algorithm did not converge\n",
      "  warn('The line search algorithm did not converge', LineSearchWarning)\n",
      "/Users/oub/opt/anaconda3/lib/python3.9/site-packages/sklearn/utils/optimize.py:203: UserWarning: Line Search failed\n",
      "  warnings.warn(\"Line Search failed\")\n"
     ]
    },
    {
     "name": "stdout",
     "output_type": "stream",
     "text": [
      "[CV] END class_weight={0: 0.7760804020100502, 1: 0.22391959798994976}; total time=  19.8s\n",
      "[CV] END class_weight={0: 0.7760804020100502, 1: 0.22391959798994976}; total time=  21.2s\n",
      "[CV] END class_weight={0: 0.7810552763819095, 1: 0.21894472361809048}; total time=  19.3s\n"
     ]
    },
    {
     "name": "stderr",
     "output_type": "stream",
     "text": [
      "/Users/oub/opt/anaconda3/lib/python3.9/site-packages/scipy/optimize/linesearch.py:437: LineSearchWarning: Rounding errors prevent the line search from converging\n",
      "  warn(msg, LineSearchWarning)\n",
      "/Users/oub/opt/anaconda3/lib/python3.9/site-packages/scipy/optimize/linesearch.py:327: LineSearchWarning: The line search algorithm did not converge\n",
      "  warn('The line search algorithm did not converge', LineSearchWarning)\n",
      "/Users/oub/opt/anaconda3/lib/python3.9/site-packages/sklearn/utils/optimize.py:203: UserWarning: Line Search failed\n",
      "  warnings.warn(\"Line Search failed\")\n"
     ]
    },
    {
     "name": "stdout",
     "output_type": "stream",
     "text": [
      "[CV] END class_weight={0: 0.7810552763819095, 1: 0.21894472361809048}; total time=  27.9s\n",
      "[CV] END class_weight={0: 0.7810552763819095, 1: 0.21894472361809048}; total time=  19.5s\n",
      "[CV] END class_weight={0: 0.7810552763819095, 1: 0.21894472361809048}; total time=  20.4s\n",
      "[CV] END class_weight={0: 0.7810552763819095, 1: 0.21894472361809048}; total time=  22.8s\n",
      "[CV] END class_weight={0: 0.7860301507537689, 1: 0.21396984924623108}; total time=  18.3s\n",
      "[CV] END class_weight={0: 0.7860301507537689, 1: 0.21396984924623108}; total time=  20.1s\n"
     ]
    },
    {
     "name": "stderr",
     "output_type": "stream",
     "text": [
      "/Users/oub/opt/anaconda3/lib/python3.9/site-packages/scipy/optimize/linesearch.py:327: LineSearchWarning: The line search algorithm did not converge\n",
      "  warn('The line search algorithm did not converge', LineSearchWarning)\n",
      "/Users/oub/opt/anaconda3/lib/python3.9/site-packages/sklearn/utils/optimize.py:203: UserWarning: Line Search failed\n",
      "  warnings.warn(\"Line Search failed\")\n"
     ]
    },
    {
     "name": "stdout",
     "output_type": "stream",
     "text": [
      "[CV] END class_weight={0: 0.7860301507537689, 1: 0.21396984924623108}; total time=  25.6s\n",
      "[CV] END class_weight={0: 0.7860301507537689, 1: 0.21396984924623108}; total time= 2.4min\n"
     ]
    },
    {
     "name": "stderr",
     "output_type": "stream",
     "text": [
      "/Users/oub/opt/anaconda3/lib/python3.9/site-packages/scipy/optimize/linesearch.py:327: LineSearchWarning: The line search algorithm did not converge\n",
      "  warn('The line search algorithm did not converge', LineSearchWarning)\n",
      "/Users/oub/opt/anaconda3/lib/python3.9/site-packages/sklearn/utils/optimize.py:203: UserWarning: Line Search failed\n",
      "  warnings.warn(\"Line Search failed\")\n"
     ]
    },
    {
     "name": "stdout",
     "output_type": "stream",
     "text": [
      "[CV] END class_weight={0: 0.7860301507537689, 1: 0.21396984924623108}; total time= 2.5min\n",
      "[CV] END class_weight={0: 0.7910050251256282, 1: 0.2089949748743718}; total time= 2.4min\n"
     ]
    },
    {
     "name": "stderr",
     "output_type": "stream",
     "text": [
      "/Users/oub/opt/anaconda3/lib/python3.9/site-packages/scipy/optimize/linesearch.py:327: LineSearchWarning: The line search algorithm did not converge\n",
      "  warn('The line search algorithm did not converge', LineSearchWarning)\n",
      "/Users/oub/opt/anaconda3/lib/python3.9/site-packages/sklearn/utils/optimize.py:203: UserWarning: Line Search failed\n",
      "  warnings.warn(\"Line Search failed\")\n"
     ]
    },
    {
     "name": "stdout",
     "output_type": "stream",
     "text": [
      "[CV] END class_weight={0: 0.7910050251256282, 1: 0.2089949748743718}; total time= 2.5min\n",
      "[CV] END class_weight={0: 0.7910050251256282, 1: 0.2089949748743718}; total time=  24.7s\n",
      "[CV] END class_weight={0: 0.7910050251256282, 1: 0.2089949748743718}; total time=101.4min\n",
      "[CV] END class_weight={0: 0.7910050251256282, 1: 0.2089949748743718}; total time=101.4min\n"
     ]
    },
    {
     "name": "stderr",
     "output_type": "stream",
     "text": [
      "/Users/oub/opt/anaconda3/lib/python3.9/site-packages/scipy/optimize/linesearch.py:327: LineSearchWarning: The line search algorithm did not converge\n",
      "  warn('The line search algorithm did not converge', LineSearchWarning)\n",
      "/Users/oub/opt/anaconda3/lib/python3.9/site-packages/sklearn/utils/optimize.py:203: UserWarning: Line Search failed\n",
      "  warnings.warn(\"Line Search failed\")\n"
     ]
    },
    {
     "name": "stdout",
     "output_type": "stream",
     "text": [
      "[CV] END class_weight={0: 0.7959798994974875, 1: 0.2040201005025125}; total time=101.5min\n",
      "[CV] END class_weight={0: 0.7959798994974875, 1: 0.2040201005025125}; total time=101.4min\n",
      "[CV] END class_weight={0: 0.7959798994974875, 1: 0.2040201005025125}; total time=120.3min\n",
      "[CV] END class_weight={0: 0.7959798994974875, 1: 0.2040201005025125}; total time=120.4min\n",
      "[CV] END class_weight={0: 0.7959798994974875, 1: 0.2040201005025125}; total time=120.3min\n",
      "[CV] END class_weight={0: 0.8009547738693468, 1: 0.19904522613065323}; total time=120.4min\n",
      "[CV] END class_weight={0: 0.8009547738693468, 1: 0.19904522613065323}; total time=  22.0s\n",
      "[CV] END class_weight={0: 0.8009547738693468, 1: 0.19904522613065323}; total time=38.7min\n",
      "[CV] END class_weight={0: 0.8009547738693468, 1: 0.19904522613065323}; total time=38.7min\n"
     ]
    },
    {
     "name": "stderr",
     "output_type": "stream",
     "text": [
      "/Users/oub/opt/anaconda3/lib/python3.9/site-packages/scipy/optimize/linesearch.py:327: LineSearchWarning: The line search algorithm did not converge\n",
      "  warn('The line search algorithm did not converge', LineSearchWarning)\n",
      "/Users/oub/opt/anaconda3/lib/python3.9/site-packages/sklearn/utils/optimize.py:203: UserWarning: Line Search failed\n",
      "  warnings.warn(\"Line Search failed\")\n"
     ]
    },
    {
     "name": "stdout",
     "output_type": "stream",
     "text": [
      "[CV] END class_weight={0: 0.8009547738693468, 1: 0.19904522613065323}; total time=38.7min\n",
      "[CV] END class_weight={0: 0.805929648241206, 1: 0.19407035175879395}; total time=38.6min\n",
      "[CV] END class_weight={0: 0.805929648241206, 1: 0.19407035175879395}; total time=  29.0s\n",
      "[CV] END class_weight={0: 0.805929648241206, 1: 0.19407035175879395}; total time=  31.7s\n",
      "[CV] END class_weight={0: 0.805929648241206, 1: 0.19407035175879395}; total time=  27.6s\n",
      "[CV] END class_weight={0: 0.805929648241206, 1: 0.19407035175879395}; total time=  28.3s\n",
      "[CV] END class_weight={0: 0.8109045226130653, 1: 0.18909547738693466}; total time=  21.5s\n"
     ]
    },
    {
     "name": "stderr",
     "output_type": "stream",
     "text": [
      "/Users/oub/opt/anaconda3/lib/python3.9/site-packages/scipy/optimize/linesearch.py:327: LineSearchWarning: The line search algorithm did not converge\n",
      "  warn('The line search algorithm did not converge', LineSearchWarning)\n",
      "/Users/oub/opt/anaconda3/lib/python3.9/site-packages/sklearn/utils/optimize.py:203: UserWarning: Line Search failed\n",
      "  warnings.warn(\"Line Search failed\")\n"
     ]
    },
    {
     "name": "stdout",
     "output_type": "stream",
     "text": [
      "[CV] END class_weight={0: 0.8109045226130653, 1: 0.18909547738693466}; total time=  29.6s\n"
     ]
    },
    {
     "name": "stderr",
     "output_type": "stream",
     "text": [
      "/Users/oub/opt/anaconda3/lib/python3.9/site-packages/scipy/optimize/linesearch.py:327: LineSearchWarning: The line search algorithm did not converge\n",
      "  warn('The line search algorithm did not converge', LineSearchWarning)\n",
      "/Users/oub/opt/anaconda3/lib/python3.9/site-packages/sklearn/utils/optimize.py:203: UserWarning: Line Search failed\n",
      "  warnings.warn(\"Line Search failed\")\n"
     ]
    },
    {
     "name": "stdout",
     "output_type": "stream",
     "text": [
      "[CV] END class_weight={0: 0.8109045226130653, 1: 0.18909547738693466}; total time=  27.7s\n",
      "[CV] END class_weight={0: 0.8109045226130653, 1: 0.18909547738693466}; total time=  24.7s\n",
      "[CV] END class_weight={0: 0.8109045226130653, 1: 0.18909547738693466}; total time=  24.6s\n",
      "[CV] END class_weight={0: 0.8158793969849246, 1: 0.18412060301507538}; total time=  21.7s\n"
     ]
    },
    {
     "name": "stderr",
     "output_type": "stream",
     "text": [
      "/Users/oub/opt/anaconda3/lib/python3.9/site-packages/scipy/optimize/linesearch.py:327: LineSearchWarning: The line search algorithm did not converge\n",
      "  warn('The line search algorithm did not converge', LineSearchWarning)\n",
      "/Users/oub/opt/anaconda3/lib/python3.9/site-packages/sklearn/utils/optimize.py:203: UserWarning: Line Search failed\n",
      "  warnings.warn(\"Line Search failed\")\n"
     ]
    },
    {
     "name": "stdout",
     "output_type": "stream",
     "text": [
      "[CV] END class_weight={0: 0.8158793969849246, 1: 0.18412060301507538}; total time=  29.3s\n"
     ]
    },
    {
     "name": "stderr",
     "output_type": "stream",
     "text": [
      "/Users/oub/opt/anaconda3/lib/python3.9/site-packages/scipy/optimize/linesearch.py:327: LineSearchWarning: The line search algorithm did not converge\n",
      "  warn('The line search algorithm did not converge', LineSearchWarning)\n",
      "/Users/oub/opt/anaconda3/lib/python3.9/site-packages/sklearn/utils/optimize.py:203: UserWarning: Line Search failed\n",
      "  warnings.warn(\"Line Search failed\")\n"
     ]
    },
    {
     "name": "stdout",
     "output_type": "stream",
     "text": [
      "[CV] END class_weight={0: 0.8158793969849246, 1: 0.18412060301507538}; total time=  26.6s\n",
      "[CV] END class_weight={0: 0.8158793969849246, 1: 0.18412060301507538}; total time=  22.0s\n",
      "[CV] END class_weight={0: 0.8158793969849246, 1: 0.18412060301507538}; total time=  20.9s\n",
      "[CV] END class_weight={0: 0.8208542713567839, 1: 0.1791457286432161}; total time=  20.0s\n",
      "[CV] END class_weight={0: 0.8208542713567839, 1: 0.1791457286432161}; total time=  19.8s\n",
      "[CV] END class_weight={0: 0.8208542713567839, 1: 0.1791457286432161}; total time=  24.3s\n",
      "[CV] END class_weight={0: 0.8208542713567839, 1: 0.1791457286432161}; total time=  23.6s\n",
      "[CV] END class_weight={0: 0.8208542713567839, 1: 0.1791457286432161}; total time=  23.2s\n",
      "[CV] END class_weight={0: 0.8258291457286432, 1: 0.1741708542713568}; total time=  21.2s\n",
      "[CV] END class_weight={0: 0.8258291457286432, 1: 0.1741708542713568}; total time=  22.1s\n",
      "[CV] END class_weight={0: 0.8258291457286432, 1: 0.1741708542713568}; total time=  19.9s\n",
      "[CV] END class_weight={0: 0.8258291457286432, 1: 0.1741708542713568}; total time=  22.1s\n"
     ]
    },
    {
     "name": "stderr",
     "output_type": "stream",
     "text": [
      "/Users/oub/opt/anaconda3/lib/python3.9/site-packages/scipy/optimize/linesearch.py:327: LineSearchWarning: The line search algorithm did not converge\n",
      "  warn('The line search algorithm did not converge', LineSearchWarning)\n",
      "/Users/oub/opt/anaconda3/lib/python3.9/site-packages/sklearn/utils/optimize.py:203: UserWarning: Line Search failed\n",
      "  warnings.warn(\"Line Search failed\")\n"
     ]
    },
    {
     "name": "stdout",
     "output_type": "stream",
     "text": [
      "[CV] END class_weight={0: 0.8258291457286432, 1: 0.1741708542713568}; total time=  23.1s\n",
      "[CV] END class_weight={0: 0.8308040201005026, 1: 0.16919597989949742}; total time=  22.2s\n",
      "[CV] END class_weight={0: 0.8308040201005026, 1: 0.16919597989949742}; total time=  19.3s\n",
      "[CV] END class_weight={0: 0.8308040201005026, 1: 0.16919597989949742}; total time=  21.3s\n",
      "[CV] END class_weight={0: 0.8308040201005026, 1: 0.16919597989949742}; total time=  22.0s\n",
      "[CV] END class_weight={0: 0.8308040201005026, 1: 0.16919597989949742}; total time=  21.2s\n"
     ]
    },
    {
     "name": "stderr",
     "output_type": "stream",
     "text": [
      "/Users/oub/opt/anaconda3/lib/python3.9/site-packages/scipy/optimize/linesearch.py:327: LineSearchWarning: The line search algorithm did not converge\n",
      "  warn('The line search algorithm did not converge', LineSearchWarning)\n",
      "/Users/oub/opt/anaconda3/lib/python3.9/site-packages/sklearn/utils/optimize.py:203: UserWarning: Line Search failed\n",
      "  warnings.warn(\"Line Search failed\")\n"
     ]
    },
    {
     "name": "stdout",
     "output_type": "stream",
     "text": [
      "[CV] END class_weight={0: 0.8357788944723619, 1: 0.16422110552763813}; total time=  22.6s\n",
      "[CV] END class_weight={0: 0.8357788944723619, 1: 0.16422110552763813}; total time=  19.3s\n",
      "[CV] END class_weight={0: 0.8357788944723619, 1: 0.16422110552763813}; total time=  19.0s\n",
      "[CV] END class_weight={0: 0.8357788944723619, 1: 0.16422110552763813}; total time=  18.7s\n",
      "[CV] END class_weight={0: 0.8357788944723619, 1: 0.16422110552763813}; total time=  22.8s\n",
      "[CV] END class_weight={0: 0.8407537688442211, 1: 0.15924623115577885}; total time=  16.0s\n",
      "[CV] END class_weight={0: 0.8407537688442211, 1: 0.15924623115577885}; total time=  21.1s\n",
      "[CV] END class_weight={0: 0.8407537688442211, 1: 0.15924623115577885}; total time=  17.1s\n",
      "[CV] END class_weight={0: 0.8407537688442211, 1: 0.15924623115577885}; total time=  18.1s\n",
      "[CV] END class_weight={0: 0.8407537688442211, 1: 0.15924623115577885}; total time=  20.7s\n",
      "[CV] END class_weight={0: 0.8457286432160804, 1: 0.15427135678391957}; total time=  22.1s\n",
      "[CV] END class_weight={0: 0.8457286432160804, 1: 0.15427135678391957}; total time=  18.9s\n",
      "[CV] END class_weight={0: 0.8457286432160804, 1: 0.15427135678391957}; total time=  20.9s\n"
     ]
    },
    {
     "name": "stderr",
     "output_type": "stream",
     "text": [
      "/Users/oub/opt/anaconda3/lib/python3.9/site-packages/scipy/optimize/linesearch.py:327: LineSearchWarning: The line search algorithm did not converge\n",
      "  warn('The line search algorithm did not converge', LineSearchWarning)\n",
      "/Users/oub/opt/anaconda3/lib/python3.9/site-packages/sklearn/utils/optimize.py:203: UserWarning: Line Search failed\n",
      "  warnings.warn(\"Line Search failed\")\n"
     ]
    },
    {
     "name": "stdout",
     "output_type": "stream",
     "text": [
      "[CV] END class_weight={0: 0.8457286432160804, 1: 0.15427135678391957}; total time=  26.5s\n",
      "[CV] END class_weight={0: 0.8457286432160804, 1: 0.15427135678391957}; total time=  23.0s\n"
     ]
    },
    {
     "name": "stderr",
     "output_type": "stream",
     "text": [
      "/Users/oub/opt/anaconda3/lib/python3.9/site-packages/scipy/optimize/linesearch.py:437: LineSearchWarning: Rounding errors prevent the line search from converging\n",
      "  warn(msg, LineSearchWarning)\n",
      "/Users/oub/opt/anaconda3/lib/python3.9/site-packages/scipy/optimize/linesearch.py:327: LineSearchWarning: The line search algorithm did not converge\n",
      "  warn('The line search algorithm did not converge', LineSearchWarning)\n",
      "/Users/oub/opt/anaconda3/lib/python3.9/site-packages/sklearn/utils/optimize.py:203: UserWarning: Line Search failed\n",
      "  warnings.warn(\"Line Search failed\")\n"
     ]
    },
    {
     "name": "stdout",
     "output_type": "stream",
     "text": [
      "[CV] END class_weight={0: 0.8507035175879397, 1: 0.14929648241206028}; total time=  20.5s\n",
      "[CV] END class_weight={0: 0.8507035175879397, 1: 0.14929648241206028}; total time=  19.8s\n",
      "[CV] END class_weight={0: 0.8507035175879397, 1: 0.14929648241206028}; total time=  20.9s\n",
      "[CV] END class_weight={0: 0.8507035175879397, 1: 0.14929648241206028}; total time=  20.6s\n",
      "[CV] END class_weight={0: 0.8507035175879397, 1: 0.14929648241206028}; total time=  19.8s\n",
      "[CV] END class_weight={0: 0.855678391959799, 1: 0.144321608040201}; total time=  18.4s\n",
      "[CV] END class_weight={0: 0.855678391959799, 1: 0.144321608040201}; total time=  18.5s\n",
      "[CV] END class_weight={0: 0.855678391959799, 1: 0.144321608040201}; total time=  18.4s\n",
      "[CV] END class_weight={0: 0.855678391959799, 1: 0.144321608040201}; total time=  18.6s\n"
     ]
    },
    {
     "name": "stderr",
     "output_type": "stream",
     "text": [
      "/Users/oub/opt/anaconda3/lib/python3.9/site-packages/scipy/optimize/linesearch.py:327: LineSearchWarning: The line search algorithm did not converge\n",
      "  warn('The line search algorithm did not converge', LineSearchWarning)\n",
      "/Users/oub/opt/anaconda3/lib/python3.9/site-packages/sklearn/utils/optimize.py:203: UserWarning: Line Search failed\n",
      "  warnings.warn(\"Line Search failed\")\n"
     ]
    },
    {
     "name": "stdout",
     "output_type": "stream",
     "text": [
      "[CV] END class_weight={0: 0.855678391959799, 1: 0.144321608040201}; total time=  22.7s\n",
      "[CV] END class_weight={0: 0.8606532663316583, 1: 0.13934673366834172}; total time=  20.1s\n",
      "[CV] END class_weight={0: 0.8606532663316583, 1: 0.13934673366834172}; total time=  22.5s\n",
      "[CV] END class_weight={0: 0.8606532663316583, 1: 0.13934673366834172}; total time=  20.3s\n",
      "[CV] END class_weight={0: 0.8606532663316583, 1: 0.13934673366834172}; total time=  17.5s\n",
      "[CV] END class_weight={0: 0.8606532663316583, 1: 0.13934673366834172}; total time=  20.1s\n",
      "[CV] END class_weight={0: 0.8656281407035176, 1: 0.13437185929648243}; total time=  18.1s\n",
      "[CV] END class_weight={0: 0.8656281407035176, 1: 0.13437185929648243}; total time=  20.4s\n",
      "[CV] END class_weight={0: 0.8656281407035176, 1: 0.13437185929648243}; total time=  21.3s\n",
      "[CV] END class_weight={0: 0.8656281407035176, 1: 0.13437185929648243}; total time=  22.0s\n",
      "[CV] END class_weight={0: 0.8656281407035176, 1: 0.13437185929648243}; total time=  23.0s\n",
      "[CV] END class_weight={0: 0.870603015075377, 1: 0.12939698492462304}; total time=  21.7s\n",
      "[CV] END class_weight={0: 0.870603015075377, 1: 0.12939698492462304}; total time=  25.3s\n",
      "[CV] END class_weight={0: 0.870603015075377, 1: 0.12939698492462304}; total time=  19.6s\n",
      "[CV] END class_weight={0: 0.870603015075377, 1: 0.12939698492462304}; total time=  21.8s\n",
      "[CV] END class_weight={0: 0.8755778894472362, 1: 0.12442211055276375}; total time=  21.2s\n",
      "[CV] END class_weight={0: 0.8755778894472362, 1: 0.12442211055276375}; total time=  20.3s\n",
      "[CV] END class_weight={0: 0.870603015075377, 1: 0.12939698492462304}; total time=  26.7s\n",
      "[CV] END class_weight={0: 0.8755778894472362, 1: 0.12442211055276375}; total time=  19.9s\n",
      "[CV] END class_weight={0: 0.8755778894472362, 1: 0.12442211055276375}; total time=  18.7s\n",
      "[CV] END class_weight={0: 0.8805527638190955, 1: 0.11944723618090447}; total time=  19.3s\n"
     ]
    },
    {
     "name": "stderr",
     "output_type": "stream",
     "text": [
      "/Users/oub/opt/anaconda3/lib/python3.9/site-packages/scipy/optimize/linesearch.py:327: LineSearchWarning: The line search algorithm did not converge\n",
      "  warn('The line search algorithm did not converge', LineSearchWarning)\n",
      "/Users/oub/opt/anaconda3/lib/python3.9/site-packages/sklearn/utils/optimize.py:203: UserWarning: Line Search failed\n",
      "  warnings.warn(\"Line Search failed\")\n"
     ]
    },
    {
     "name": "stdout",
     "output_type": "stream",
     "text": [
      "[CV] END class_weight={0: 0.8755778894472362, 1: 0.12442211055276375}; total time=  26.3s\n",
      "[CV] END class_weight={0: 0.8805527638190955, 1: 0.11944723618090447}; total time=  17.8s\n",
      "[CV] END class_weight={0: 0.8805527638190955, 1: 0.11944723618090447}; total time=  17.6s\n"
     ]
    },
    {
     "name": "stderr",
     "output_type": "stream",
     "text": [
      "/Users/oub/opt/anaconda3/lib/python3.9/site-packages/scipy/optimize/linesearch.py:327: LineSearchWarning: The line search algorithm did not converge\n",
      "  warn('The line search algorithm did not converge', LineSearchWarning)\n",
      "/Users/oub/opt/anaconda3/lib/python3.9/site-packages/sklearn/utils/optimize.py:203: UserWarning: Line Search failed\n",
      "  warnings.warn(\"Line Search failed\")\n"
     ]
    },
    {
     "name": "stdout",
     "output_type": "stream",
     "text": [
      "[CV] END class_weight={0: 0.8805527638190955, 1: 0.11944723618090447}; total time=  24.7s\n",
      "[CV] END class_weight={0: 0.8805527638190955, 1: 0.11944723618090447}; total time=  21.6s\n",
      "[CV] END class_weight={0: 0.8855276381909548, 1: 0.11447236180904519}; total time=  20.2s\n",
      "[CV] END class_weight={0: 0.8855276381909548, 1: 0.11447236180904519}; total time=  21.9s\n",
      "[CV] END class_weight={0: 0.8855276381909548, 1: 0.11447236180904519}; total time=  21.2s\n",
      "[CV] END class_weight={0: 0.8855276381909548, 1: 0.11447236180904519}; total time=  18.1s\n",
      "[CV] END class_weight={0: 0.8855276381909548, 1: 0.11447236180904519}; total time=  19.1s\n"
     ]
    },
    {
     "name": "stderr",
     "output_type": "stream",
     "text": [
      "/Users/oub/opt/anaconda3/lib/python3.9/site-packages/scipy/optimize/linesearch.py:327: LineSearchWarning: The line search algorithm did not converge\n",
      "  warn('The line search algorithm did not converge', LineSearchWarning)\n",
      "/Users/oub/opt/anaconda3/lib/python3.9/site-packages/sklearn/utils/optimize.py:203: UserWarning: Line Search failed\n",
      "  warnings.warn(\"Line Search failed\")\n"
     ]
    },
    {
     "name": "stdout",
     "output_type": "stream",
     "text": [
      "[CV] END class_weight={0: 0.8905025125628141, 1: 0.1094974874371859}; total time=  19.7s\n",
      "[CV] END class_weight={0: 0.8905025125628141, 1: 0.1094974874371859}; total time=  18.7s\n",
      "[CV] END class_weight={0: 0.8905025125628141, 1: 0.1094974874371859}; total time=  19.8s\n"
     ]
    },
    {
     "name": "stderr",
     "output_type": "stream",
     "text": [
      "/Users/oub/opt/anaconda3/lib/python3.9/site-packages/scipy/optimize/linesearch.py:327: LineSearchWarning: The line search algorithm did not converge\n",
      "  warn('The line search algorithm did not converge', LineSearchWarning)\n",
      "/Users/oub/opt/anaconda3/lib/python3.9/site-packages/sklearn/utils/optimize.py:203: UserWarning: Line Search failed\n",
      "  warnings.warn(\"Line Search failed\")\n"
     ]
    },
    {
     "name": "stdout",
     "output_type": "stream",
     "text": [
      "[CV] END class_weight={0: 0.8905025125628141, 1: 0.1094974874371859}; total time=  25.3s\n",
      "[CV] END class_weight={0: 0.8905025125628141, 1: 0.1094974874371859}; total time=  18.3s\n",
      "[CV] END class_weight={0: 0.8954773869346734, 1: 0.10452261306532662}; total time=  18.4s\n",
      "[CV] END class_weight={0: 0.8954773869346734, 1: 0.10452261306532662}; total time=  19.0s\n",
      "[CV] END class_weight={0: 0.8954773869346734, 1: 0.10452261306532662}; total time=  16.9s\n"
     ]
    },
    {
     "name": "stderr",
     "output_type": "stream",
     "text": [
      "/Users/oub/opt/anaconda3/lib/python3.9/site-packages/scipy/optimize/linesearch.py:327: LineSearchWarning: The line search algorithm did not converge\n",
      "  warn('The line search algorithm did not converge', LineSearchWarning)\n",
      "/Users/oub/opt/anaconda3/lib/python3.9/site-packages/sklearn/utils/optimize.py:203: UserWarning: Line Search failed\n",
      "  warnings.warn(\"Line Search failed\")\n"
     ]
    },
    {
     "name": "stdout",
     "output_type": "stream",
     "text": [
      "[CV] END class_weight={0: 0.8954773869346734, 1: 0.10452261306532662}; total time=  32.9s\n",
      "[CV] END class_weight={0: 0.8954773869346734, 1: 0.10452261306532662}; total time=  18.4s\n",
      "[CV] END class_weight={0: 0.9004522613065327, 1: 0.09954773869346734}; total time=  17.8s\n",
      "[CV] END class_weight={0: 0.9004522613065327, 1: 0.09954773869346734}; total time=  21.5s\n",
      "[CV] END class_weight={0: 0.9004522613065327, 1: 0.09954773869346734}; total time=  19.1s\n",
      "[CV] END class_weight={0: 0.9004522613065327, 1: 0.09954773869346734}; total time=  21.1s\n",
      "[CV] END class_weight={0: 0.9004522613065327, 1: 0.09954773869346734}; total time=  20.2s\n",
      "[CV] END class_weight={0: 0.905427135678392, 1: 0.09457286432160805}; total time=  21.7s\n"
     ]
    },
    {
     "name": "stderr",
     "output_type": "stream",
     "text": [
      "/Users/oub/opt/anaconda3/lib/python3.9/site-packages/scipy/optimize/linesearch.py:437: LineSearchWarning: Rounding errors prevent the line search from converging\n",
      "  warn(msg, LineSearchWarning)\n",
      "/Users/oub/opt/anaconda3/lib/python3.9/site-packages/scipy/optimize/linesearch.py:327: LineSearchWarning: The line search algorithm did not converge\n",
      "  warn('The line search algorithm did not converge', LineSearchWarning)\n",
      "/Users/oub/opt/anaconda3/lib/python3.9/site-packages/sklearn/utils/optimize.py:203: UserWarning: Line Search failed\n",
      "  warnings.warn(\"Line Search failed\")\n"
     ]
    },
    {
     "name": "stdout",
     "output_type": "stream",
     "text": [
      "[CV] END class_weight={0: 0.905427135678392, 1: 0.09457286432160805}; total time=  24.6s\n",
      "[CV] END class_weight={0: 0.905427135678392, 1: 0.09457286432160805}; total time=  26.4s\n",
      "[CV] END class_weight={0: 0.905427135678392, 1: 0.09457286432160805}; total time=  24.5s\n",
      "[CV] END class_weight={0: 0.905427135678392, 1: 0.09457286432160805}; total time=  20.1s\n",
      "[CV] END class_weight={0: 0.9104020100502512, 1: 0.08959798994974877}; total time=  22.9s\n",
      "[CV] END class_weight={0: 0.9104020100502512, 1: 0.08959798994974877}; total time=  18.2s\n",
      "[CV] END class_weight={0: 0.9104020100502512, 1: 0.08959798994974877}; total time=  22.4s[CV] END class_weight={0: 0.9104020100502512, 1: 0.08959798994974877}; total time=  19.8s\n",
      "\n",
      "[CV] END class_weight={0: 0.9104020100502512, 1: 0.08959798994974877}; total time=  18.3s\n",
      "[CV] END class_weight={0: 0.9153768844221106, 1: 0.08462311557788937}; total time=  22.1s\n",
      "[CV] END class_weight={0: 0.9153768844221106, 1: 0.08462311557788937}; total time=  18.6s\n",
      "[CV] END class_weight={0: 0.9153768844221106, 1: 0.08462311557788937}; total time=  20.7s\n"
     ]
    },
    {
     "name": "stderr",
     "output_type": "stream",
     "text": [
      "/Users/oub/opt/anaconda3/lib/python3.9/site-packages/scipy/optimize/linesearch.py:327: LineSearchWarning: The line search algorithm did not converge\n",
      "  warn('The line search algorithm did not converge', LineSearchWarning)\n",
      "/Users/oub/opt/anaconda3/lib/python3.9/site-packages/sklearn/utils/optimize.py:203: UserWarning: Line Search failed\n",
      "  warnings.warn(\"Line Search failed\")\n"
     ]
    },
    {
     "name": "stdout",
     "output_type": "stream",
     "text": [
      "[CV] END class_weight={0: 0.9153768844221106, 1: 0.08462311557788937}; total time=  24.4s\n",
      "[CV] END class_weight={0: 0.9203517587939699, 1: 0.07964824120603009}; total time=  15.1s\n",
      "[CV] END class_weight={0: 0.9153768844221106, 1: 0.08462311557788937}; total time=  21.2s\n",
      "[CV] END class_weight={0: 0.9203517587939699, 1: 0.07964824120603009}; total time=  17.0s\n",
      "[CV] END class_weight={0: 0.9203517587939699, 1: 0.07964824120603009}; total time=  17.2s\n",
      "[CV] END class_weight={0: 0.9203517587939699, 1: 0.07964824120603009}; total time=  21.1s\n",
      "[CV] END class_weight={0: 0.9203517587939699, 1: 0.07964824120603009}; total time=  19.8s\n"
     ]
    },
    {
     "name": "stderr",
     "output_type": "stream",
     "text": [
      "/Users/oub/opt/anaconda3/lib/python3.9/site-packages/scipy/optimize/linesearch.py:327: LineSearchWarning: The line search algorithm did not converge\n",
      "  warn('The line search algorithm did not converge', LineSearchWarning)\n",
      "/Users/oub/opt/anaconda3/lib/python3.9/site-packages/sklearn/utils/optimize.py:203: UserWarning: Line Search failed\n",
      "  warnings.warn(\"Line Search failed\")\n"
     ]
    },
    {
     "name": "stdout",
     "output_type": "stream",
     "text": [
      "[CV] END class_weight={0: 0.9253266331658292, 1: 0.0746733668341708}; total time=  25.6s\n",
      "[CV] END class_weight={0: 0.9253266331658292, 1: 0.0746733668341708}; total time=  19.7s\n",
      "[CV] END class_weight={0: 0.9253266331658292, 1: 0.0746733668341708}; total time=  19.2s\n",
      "[CV] END class_weight={0: 0.9253266331658292, 1: 0.0746733668341708}; total time=  19.0s\n",
      "[CV] END class_weight={0: 0.9253266331658292, 1: 0.0746733668341708}; total time=  22.4s\n",
      "[CV] END class_weight={0: 0.9303015075376885, 1: 0.06969849246231152}; total time=  21.9s\n",
      "[CV] END class_weight={0: 0.9303015075376885, 1: 0.06969849246231152}; total time=  21.8s\n",
      "[CV] END class_weight={0: 0.9303015075376885, 1: 0.06969849246231152}; total time=  21.7s\n",
      "[CV] END class_weight={0: 0.9303015075376885, 1: 0.06969849246231152}; total time=  17.5s\n",
      "[CV] END class_weight={0: 0.9303015075376885, 1: 0.06969849246231152}; total time=  18.0s\n",
      "[CV] END class_weight={0: 0.9352763819095478, 1: 0.06472361809045224}; total time=  20.6s\n",
      "[CV] END class_weight={0: 0.9352763819095478, 1: 0.06472361809045224}; total time=  21.6s\n",
      "[CV] END class_weight={0: 0.9352763819095478, 1: 0.06472361809045224}; total time=  20.3s\n",
      "[CV] END class_weight={0: 0.9352763819095478, 1: 0.06472361809045224}; total time=  19.6s\n",
      "[CV] END class_weight={0: 0.940251256281407, 1: 0.059748743718592956}; total time=  17.7s\n",
      "[CV] END class_weight={0: 0.9352763819095478, 1: 0.06472361809045224}; total time=  19.8s\n",
      "[CV] END class_weight={0: 0.940251256281407, 1: 0.059748743718592956}; total time=  20.8s\n",
      "[CV] END class_weight={0: 0.940251256281407, 1: 0.059748743718592956}; total time=  18.0s\n",
      "[CV] END class_weight={0: 0.940251256281407, 1: 0.059748743718592956}; total time=  17.3s\n",
      "[CV] END class_weight={0: 0.940251256281407, 1: 0.059748743718592956}; total time=  18.4s\n",
      "[CV] END class_weight={0: 0.9452261306532663, 1: 0.05477386934673367}; total time=  18.4s\n",
      "[CV] END class_weight={0: 0.9452261306532663, 1: 0.05477386934673367}; total time=  22.7s\n",
      "[CV] END class_weight={0: 0.9452261306532663, 1: 0.05477386934673367}; total time=  18.9s\n",
      "[CV] END class_weight={0: 0.9452261306532663, 1: 0.05477386934673367}; total time=  21.6s\n",
      "[CV] END class_weight={0: 0.9452261306532663, 1: 0.05477386934673367}; total time=  16.4s\n",
      "[CV] END class_weight={0: 0.9502010050251256, 1: 0.04979899497487439}; total time=  20.7s\n",
      "[CV] END class_weight={0: 0.9502010050251256, 1: 0.04979899497487439}; total time=  23.4s\n"
     ]
    },
    {
     "name": "stderr",
     "output_type": "stream",
     "text": [
      "/Users/oub/opt/anaconda3/lib/python3.9/site-packages/scipy/optimize/linesearch.py:327: LineSearchWarning: The line search algorithm did not converge\n",
      "  warn('The line search algorithm did not converge', LineSearchWarning)\n",
      "/Users/oub/opt/anaconda3/lib/python3.9/site-packages/sklearn/utils/optimize.py:203: UserWarning: Line Search failed\n",
      "  warnings.warn(\"Line Search failed\")\n"
     ]
    },
    {
     "name": "stdout",
     "output_type": "stream",
     "text": [
      "[CV] END class_weight={0: 0.9502010050251256, 1: 0.04979899497487439}; total time=  25.2s\n",
      "[CV] END class_weight={0: 0.9502010050251256, 1: 0.04979899497487439}; total time=  23.1s\n",
      "[CV] END class_weight={0: 0.9502010050251256, 1: 0.04979899497487439}; total time=  19.6s\n",
      "[CV] END class_weight={0: 0.9551758793969849, 1: 0.044824120603015105}; total time=  22.9s\n",
      "[CV] END class_weight={0: 0.9551758793969849, 1: 0.044824120603015105}; total time=  23.1s\n",
      "[CV] END class_weight={0: 0.9551758793969849, 1: 0.044824120603015105}; total time=  20.1s\n",
      "[CV] END class_weight={0: 0.9551758793969849, 1: 0.044824120603015105}; total time=  19.0s\n",
      "[CV] END class_weight={0: 0.9551758793969849, 1: 0.044824120603015105}; total time=  20.1s\n",
      "[CV] END class_weight={0: 0.9601507537688443, 1: 0.03984924623115571}; total time=  21.4s\n"
     ]
    },
    {
     "name": "stderr",
     "output_type": "stream",
     "text": [
      "/Users/oub/opt/anaconda3/lib/python3.9/site-packages/scipy/optimize/linesearch.py:327: LineSearchWarning: The line search algorithm did not converge\n",
      "  warn('The line search algorithm did not converge', LineSearchWarning)\n",
      "/Users/oub/opt/anaconda3/lib/python3.9/site-packages/sklearn/utils/optimize.py:203: UserWarning: Line Search failed\n",
      "  warnings.warn(\"Line Search failed\")\n"
     ]
    },
    {
     "name": "stdout",
     "output_type": "stream",
     "text": [
      "[CV] END class_weight={0: 0.9601507537688443, 1: 0.03984924623115571}; total time=  23.7s\n"
     ]
    },
    {
     "name": "stderr",
     "output_type": "stream",
     "text": [
      "/Users/oub/opt/anaconda3/lib/python3.9/site-packages/scipy/optimize/linesearch.py:327: LineSearchWarning: The line search algorithm did not converge\n",
      "  warn('The line search algorithm did not converge', LineSearchWarning)\n",
      "/Users/oub/opt/anaconda3/lib/python3.9/site-packages/sklearn/utils/optimize.py:203: UserWarning: Line Search failed\n",
      "  warnings.warn(\"Line Search failed\")\n"
     ]
    },
    {
     "name": "stdout",
     "output_type": "stream",
     "text": [
      "[CV] END class_weight={0: 0.9601507537688443, 1: 0.03984924623115571}; total time=  23.0s\n",
      "[CV] END class_weight={0: 0.9601507537688443, 1: 0.03984924623115571}; total time=  18.9s\n",
      "[CV] END class_weight={0: 0.9601507537688443, 1: 0.03984924623115571}; total time=  20.8s\n",
      "[CV] END class_weight={0: 0.9651256281407036, 1: 0.03487437185929643}; total time=  23.1s\n",
      "[CV] END class_weight={0: 0.9651256281407036, 1: 0.03487437185929643}; total time=  23.0s\n",
      "[CV] END class_weight={0: 0.9651256281407036, 1: 0.03487437185929643}; total time=  21.8s\n",
      "[CV] END class_weight={0: 0.9651256281407036, 1: 0.03487437185929643}; total time=  21.0s\n",
      "[CV] END class_weight={0: 0.9651256281407036, 1: 0.03487437185929643}; total time=  20.1s\n",
      "[CV] END class_weight={0: 0.9701005025125629, 1: 0.029899497487437143}; total time=  20.3s\n",
      "[CV] END class_weight={0: 0.9701005025125629, 1: 0.029899497487437143}; total time=  19.6s\n",
      "[CV] END class_weight={0: 0.9701005025125629, 1: 0.029899497487437143}; total time=  22.3s\n",
      "[CV] END class_weight={0: 0.9701005025125629, 1: 0.029899497487437143}; total time=  28.5s\n",
      "[CV] END class_weight={0: 0.9701005025125629, 1: 0.029899497487437143}; total time=  35.8s\n",
      "[CV] END class_weight={0: 0.9750753768844221, 1: 0.02492462311557786}; total time=  37.0s\n",
      "[CV] END class_weight={0: 0.9750753768844221, 1: 0.02492462311557786}; total time=  40.6s\n",
      "[CV] END class_weight={0: 0.9750753768844221, 1: 0.02492462311557786}; total time=  28.0s\n",
      "[CV] END class_weight={0: 0.9750753768844221, 1: 0.02492462311557786}; total time=  29.5s\n",
      "[CV] END class_weight={0: 0.9750753768844221, 1: 0.02492462311557786}; total time=  33.9s\n"
     ]
    },
    {
     "name": "stderr",
     "output_type": "stream",
     "text": [
      "/Users/oub/opt/anaconda3/lib/python3.9/site-packages/scipy/optimize/linesearch.py:327: LineSearchWarning: The line search algorithm did not converge\n",
      "  warn('The line search algorithm did not converge', LineSearchWarning)\n",
      "/Users/oub/opt/anaconda3/lib/python3.9/site-packages/sklearn/utils/optimize.py:203: UserWarning: Line Search failed\n",
      "  warnings.warn(\"Line Search failed\")\n"
     ]
    },
    {
     "name": "stdout",
     "output_type": "stream",
     "text": [
      "[CV] END class_weight={0: 0.9800502512562814, 1: 0.019949748743718576}; total time=  33.4s\n"
     ]
    },
    {
     "name": "stderr",
     "output_type": "stream",
     "text": [
      "/Users/oub/opt/anaconda3/lib/python3.9/site-packages/scipy/optimize/linesearch.py:437: LineSearchWarning: Rounding errors prevent the line search from converging\n",
      "  warn(msg, LineSearchWarning)\n",
      "/Users/oub/opt/anaconda3/lib/python3.9/site-packages/scipy/optimize/linesearch.py:327: LineSearchWarning: The line search algorithm did not converge\n",
      "  warn('The line search algorithm did not converge', LineSearchWarning)\n",
      "/Users/oub/opt/anaconda3/lib/python3.9/site-packages/sklearn/utils/optimize.py:203: UserWarning: Line Search failed\n",
      "  warnings.warn(\"Line Search failed\")\n"
     ]
    },
    {
     "name": "stdout",
     "output_type": "stream",
     "text": [
      "[CV] END class_weight={0: 0.9800502512562814, 1: 0.019949748743718576}; total time=  31.0s\n",
      "[CV] END class_weight={0: 0.9800502512562814, 1: 0.019949748743718576}; total time=  30.4s\n",
      "[CV] END class_weight={0: 0.9800502512562814, 1: 0.019949748743718576}; total time=  23.9s\n"
     ]
    },
    {
     "name": "stderr",
     "output_type": "stream",
     "text": [
      "/Users/oub/opt/anaconda3/lib/python3.9/site-packages/scipy/optimize/linesearch.py:327: LineSearchWarning: The line search algorithm did not converge\n",
      "  warn('The line search algorithm did not converge', LineSearchWarning)\n",
      "/Users/oub/opt/anaconda3/lib/python3.9/site-packages/sklearn/utils/optimize.py:203: UserWarning: Line Search failed\n",
      "  warnings.warn(\"Line Search failed\")\n"
     ]
    },
    {
     "name": "stdout",
     "output_type": "stream",
     "text": [
      "[CV] END class_weight={0: 0.9800502512562814, 1: 0.019949748743718576}; total time=  35.7s\n",
      "[CV] END class_weight={0: 0.9850251256281407, 1: 0.014974874371859292}; total time=  26.1s\n",
      "[CV] END class_weight={0: 0.9850251256281407, 1: 0.014974874371859292}; total time=  25.6s\n",
      "[CV] END class_weight={0: 0.9850251256281407, 1: 0.014974874371859292}; total time=  25.2s\n",
      "[CV] END class_weight={0: 0.9850251256281407, 1: 0.014974874371859292}; total time=  22.8s\n",
      "[CV] END class_weight={0: 0.9850251256281407, 1: 0.014974874371859292}; total time=  22.2s\n"
     ]
    },
    {
     "name": "stderr",
     "output_type": "stream",
     "text": [
      "/Users/oub/opt/anaconda3/lib/python3.9/site-packages/scipy/optimize/linesearch.py:327: LineSearchWarning: The line search algorithm did not converge\n",
      "  warn('The line search algorithm did not converge', LineSearchWarning)\n",
      "/Users/oub/opt/anaconda3/lib/python3.9/site-packages/sklearn/utils/optimize.py:203: UserWarning: Line Search failed\n",
      "  warnings.warn(\"Line Search failed\")\n"
     ]
    },
    {
     "name": "stdout",
     "output_type": "stream",
     "text": [
      "[CV] END ....class_weight={0: 0.99, 1: 0.010000000000000009}; total time=  30.3s\n",
      "[CV] END ....class_weight={0: 0.99, 1: 0.010000000000000009}; total time=  23.4s\n",
      "[CV] END ....class_weight={0: 0.99, 1: 0.010000000000000009}; total time=  23.6s\n",
      "[CV] END ....class_weight={0: 0.99, 1: 0.010000000000000009}; total time=  24.9s\n",
      "[CV] END ....class_weight={0: 0.99, 1: 0.010000000000000009}; total time=  21.4s\n"
     ]
    },
    {
     "name": "stderr",
     "output_type": "stream",
     "text": [
      "/Users/oub/opt/anaconda3/lib/python3.9/site-packages/seaborn/_decorators.py:36: FutureWarning: Pass the following variables as keyword args: x, y. From version 0.12, the only valid positional argument will be `data`, and passing other arguments without an explicit keyword will result in an error or misinterpretation.\n",
      "  warnings.warn(\n"
     ]
    },
    {
     "data": {
      "text/plain": [
       "Text(0.5, 1.0, 'Scoring for different class weights')"
      ]
     },
     "execution_count": 28,
     "metadata": {},
     "output_type": "execute_result"
    },
    {
     "data": {
      "image/png": "[encoded data removed]",
      "text/plain": [
       "<Figure size 864x576 with 1 Axes>"
      ]
     },
     "metadata": {},
     "output_type": "display_data"
    }
   ],
   "source": [
    "from sklearn.model_selection import GridSearchCV, StratifiedKFold\n",
    "import numpy as np\n",
    "import seaborn as sns\n",
    "from sklearn.linear_model import LogisticRegression\n",
    "\n",
    "lr = LogisticRegression(solver='newton-cg')\n",
    "\n",
    "#Setting the range for class weights\n",
    "weights = np.linspace(0.0,0.99,200)\n",
    "\n",
    "#Creating a dictionary grid for grid search\n",
    "param_grid = {'class_weight': [{0:x, 1:1.0-x} for x in weights]}\n",
    "\n",
    "#Fitting grid search to the train data with 5 folds\n",
    "gridsearch = GridSearchCV(estimator= lr, \n",
    "                          param_grid= param_grid,\n",
    "                          cv=StratifiedKFold(), \n",
    "                          n_jobs=-1, \n",
    "                          scoring='f1', \n",
    "                          verbose=2).fit(X_train, y_train)\n",
    "\n",
    "#Ploting the score for different values of weight\n",
    "sns.set_style('whitegrid')\n",
    "plt.figure(figsize=(12,8))\n",
    "weigh_data = pd.DataFrame({ 'score': gridsearch.cv_results_['mean_test_score'], 'weight': (1- weights)})\n",
    "sns.lineplot(weigh_data['weight'], weigh_data['score'])\n",
    "plt.xlabel('Weight for class 1')\n",
    "plt.ylabel('F1 score')\n",
    "plt.xticks([round(i/10,1) for i in range(0,11,1)])\n",
    "plt.title('Scoring for different class weights', fontsize=24)"
   ]
  },
  {
   "cell_type": "code",
   "execution_count": 79,
   "metadata": {},
   "outputs": [
    {
     "name": "stderr",
     "output_type": "stream",
     "text": [
      "/var/folders/09/jl1661rj0md675sp9z1wgqwc0000gn/T/ipykernel_90609/365595252.py:1: SettingWithCopyWarning: \n",
      "A value is trying to be set on a copy of a slice from a DataFrame.\n",
      "Try using .loc[row_indexer,col_indexer] = value instead\n",
      "\n",
      "See the caveats in the documentation: https://pandas.pydata.org/pandas-docs/stable/user_guide/indexing.html#returning-a-view-versus-a-copy\n",
      "  month[\"datetime\"] = month[\"datetime\"].apply(lambda x: time.strftime(\"%d\", x))\n"
     ]
    }
   ],
   "source": [
    "month[\"datetime\"] = month[\"datetime\"].apply(lambda x: time.strftime(\"%d\", x))\n",
    "ID = (month['machineID']== 1)\n",
    "month = month[ID]"
   ]
  },
  {
   "cell_type": "code",
   "execution_count": 70,
   "metadata": {},
   "outputs": [
    {
     "data": {
      "text/plain": [
       "datetime     17\n",
       "machineID    17\n",
       "volt         17\n",
       "rotate       17\n",
       "pressure     17\n",
       "vibration    17\n",
       "dtype: int64"
      ]
     },
     "execution_count": 70,
     "metadata": {},
     "output_type": "execute_result"
    }
   ],
   "source": [
    "month.count()"
   ]
  },
  {
   "cell_type": "code",
   "execution_count": 94,
   "metadata": {},
   "outputs": [
    {
     "data": {
      "text/plain": [
       "<matplotlib.collections.PathCollection at 0x7f7b88697970>"
      ]
     },
     "execution_count": 94,
     "metadata": {},
     "output_type": "execute_result"
    },
    {
     "data": {
      "image/png": "[encoded data removed]",
      "text/plain": [
       "<Figure size 432x288 with 1 Axes>"
      ]
     },
     "metadata": {
      "needs_background": "light"
     },
     "output_type": "display_data"
    }
   ],
   "source": [
    "plt.scatter(month.datetime, month.vibration)"
   ]
  },
  {
   "cell_type": "code",
   "execution_count": 112,
   "metadata": {},
   "outputs": [
    {
     "data": {
      "text/plain": [
       "{'whiskers': [<matplotlib.lines.Line2D at 0x7f7b58503e20>,\n",
       "  <matplotlib.lines.Line2D at 0x7f7b584e91f0>,\n",
       "  <matplotlib.lines.Line2D at 0x7f7b584dd790>,\n",
       "  <matplotlib.lines.Line2D at 0x7f7b584ddb20>,\n",
       "  <matplotlib.lines.Line2D at 0x7f7b55920100>,\n",
       "  <matplotlib.lines.Line2D at 0x7f7b55920490>,\n",
       "  <matplotlib.lines.Line2D at 0x7f7b55917a30>,\n",
       "  <matplotlib.lines.Line2D at 0x7f7b55917dc0>],\n",
       " 'caps': [<matplotlib.lines.Line2D at 0x7f7b584e9580>,\n",
       "  <matplotlib.lines.Line2D at 0x7f7b584e9910>,\n",
       "  <matplotlib.lines.Line2D at 0x7f7b584ddeb0>,\n",
       "  <matplotlib.lines.Line2D at 0x7f7b584f1280>,\n",
       "  <matplotlib.lines.Line2D at 0x7f7b55920820>,\n",
       "  <matplotlib.lines.Line2D at 0x7f7b55920bb0>,\n",
       "  <matplotlib.lines.Line2D at 0x7f7b55909190>,\n",
       "  <matplotlib.lines.Line2D at 0x7f7b55909520>],\n",
       " 'boxes': [<matplotlib.lines.Line2D at 0x7f7b55313760>,\n",
       "  <matplotlib.lines.Line2D at 0x7f7b584dd400>,\n",
       "  <matplotlib.lines.Line2D at 0x7f7b584f1d30>,\n",
       "  <matplotlib.lines.Line2D at 0x7f7b559176a0>],\n",
       " 'medians': [<matplotlib.lines.Line2D at 0x7f7b584e9ca0>,\n",
       "  <matplotlib.lines.Line2D at 0x7f7b584f1610>,\n",
       "  <matplotlib.lines.Line2D at 0x7f7b55920f40>,\n",
       "  <matplotlib.lines.Line2D at 0x7f7b559098b0>],\n",
       " 'fliers': [<matplotlib.lines.Line2D at 0x7f7b584dd070>,\n",
       "  <matplotlib.lines.Line2D at 0x7f7b584f19a0>,\n",
       "  <matplotlib.lines.Line2D at 0x7f7b55917310>,\n",
       "  <matplotlib.lines.Line2D at 0x7f7b55909c40>],\n",
       " 'means': []}"
      ]
     },
     "execution_count": 112,
     "metadata": {},
     "output_type": "execute_result"
    },
    {
     "data": {
      "image/png": "[encoded data removed]",
      "text/plain": [
       "<Figure size 432x288 with 1 Axes>"
      ]
     },
     "metadata": {
      "needs_background": "light"
     },
     "output_type": "display_data"
    }
   ],
   "source": [
    "fig1, ax1 = plt.subplots()\n",
    "ax1.set_title('Volt & Pressure & Vibration & rotation')\n",
    "ax1.boxplot(df[[\"volt\",\"pressure\",\"vibration\",\"rotate\"]])\n",
    "#ax1.boxplot(df2[\"pressure\"])\n",
    "#ax1.boxplot(df2[\"vibration\"])"
   ]
  },
  {
   "cell_type": "code",
   "execution_count": 8,
   "metadata": {},
   "outputs": [
    {
     "name": "stdout",
     "output_type": "stream",
     "text": [
      "Moyenne de la pression sur les machines :  0.5423908816352501\n",
      "Moyenne de la tension sur les machines :  0.6693892235466741\n",
      "Moyenne de la vibration sur les machines :  0.5259075768924533\n"
     ]
    }
   ],
   "source": [
    "print(\"Moyenne de la pression sur les machines : \",df.pressure.mean()/df.pressure.max())\n",
    "print(\"Moyenne de la tension sur les machines : \",df.volt.mean()/df.volt.max())\n",
    "print(\"Moyenne de la vibration sur les machines : \",df.vibration.mean()/df.vibration.max())"
   ]
  },
  {
   "cell_type": "code",
   "execution_count": null,
   "metadata": {},
   "outputs": [],
   "source": []
  }
 ],
 "metadata": {
  "kernelspec": {
   "display_name": "Python 3.8.10 64-bit",
   "language": "python",
   "name": "python3"
  },
  "language_info": {
   "codemirror_mode": {
    "name": "ipython",
    "version": 3
   },
   "file_extension": ".py",
   "mimetype": "text/x-python",
   "name": "python",
   "nbconvert_exporter": "python",
   "pygments_lexer": "ipython3",
   "version": "3.8.10"
  },
  "orig_nbformat": 4,
  "vscode": {
   "interpreter": {
    "hash": "ad94e5bd57c7a07ce3c4f2d73b9a1c27e45962b5af88d6c3569526935091d1ff"
   }
  }
 },
 "nbformat": 4,
 "nbformat_minor": 2
}
