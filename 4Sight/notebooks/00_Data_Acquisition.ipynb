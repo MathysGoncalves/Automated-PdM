{
 "cells": [
  {
   "cell_type": "code",
   "execution_count": 1,
   "metadata": {},
   "outputs": [],
   "source": [
    "import os\n",
    "import pandas as pd\n",
    "import numpy as np\n",
    "import matplotlib.pyplot as plt\n",
    "\n",
    "%matplotlib inline"
   ]
  },
  {
   "cell_type": "markdown",
   "metadata": {},
   "source": [
    "## Data Acquisition "
   ]
  },
  {
   "cell_type": "code",
   "execution_count": 2,
   "metadata": {},
   "outputs": [],
   "source": [
    "def file_converter(path):\n",
    "    head, sep, tail = path.partition('.')\n",
    "    if tail.lower() in ['xls', 'xlsx', 'xlsm', 'xlsb', 'odf', 'ods' 'odt']:\n",
    "        read_file = pd.read_excel(path)\n",
    "    \n",
    "    new_path = head + '.csv'\n",
    "    read_file.to_csv(new_path, index = None, header=True)\n",
    "    return new_path"
   ]
  },
  {
   "cell_type": "code",
   "execution_count": 3,
   "metadata": {},
   "outputs": [
    {
     "name": "stdout",
     "output_type": "stream",
     "text": [
      "Dataset shape: (6, 4)\n"
     ]
    },
    {
     "name": "stderr",
     "output_type": "stream",
     "text": [
      "/tmp/ipykernel_38852/1193243194.py:10: FutureWarning: The frame.append method is deprecated and will be removed from pandas in a future version. Use pandas.concat instead.\n",
      "  merged_data = merged_data.append(dataset_mean_abs)\n",
      "/tmp/ipykernel_38852/1193243194.py:10: FutureWarning: The frame.append method is deprecated and will be removed from pandas in a future version. Use pandas.concat instead.\n",
      "  merged_data = merged_data.append(dataset_mean_abs)\n",
      "/tmp/ipykernel_38852/1193243194.py:10: FutureWarning: The frame.append method is deprecated and will be removed from pandas in a future version. Use pandas.concat instead.\n",
      "  merged_data = merged_data.append(dataset_mean_abs)\n",
      "/tmp/ipykernel_38852/1193243194.py:10: FutureWarning: The frame.append method is deprecated and will be removed from pandas in a future version. Use pandas.concat instead.\n",
      "  merged_data = merged_data.append(dataset_mean_abs)\n",
      "/tmp/ipykernel_38852/1193243194.py:10: FutureWarning: The frame.append method is deprecated and will be removed from pandas in a future version. Use pandas.concat instead.\n",
      "  merged_data = merged_data.append(dataset_mean_abs)\n",
      "/tmp/ipykernel_38852/1193243194.py:10: FutureWarning: The frame.append method is deprecated and will be removed from pandas in a future version. Use pandas.concat instead.\n",
      "  merged_data = merged_data.append(dataset_mean_abs)\n"
     ]
    },
    {
     "data": {
      "text/html": [
       "<div>\n",
       "<style scoped>\n",
       "    .dataframe tbody tr th:only-of-type {\n",
       "        vertical-align: middle;\n",
       "    }\n",
       "\n",
       "    .dataframe tbody tr th {\n",
       "        vertical-align: top;\n",
       "    }\n",
       "\n",
       "    .dataframe thead th {\n",
       "        text-align: right;\n",
       "    }\n",
       "</style>\n",
       "<table border=\"1\" class=\"dataframe\">\n",
       "  <thead>\n",
       "    <tr style=\"text-align: right;\">\n",
       "      <th></th>\n",
       "      <th>Bearing 1</th>\n",
       "      <th>Bearing 2</th>\n",
       "      <th>Bearing 3</th>\n",
       "      <th>Bearing 4</th>\n",
       "    </tr>\n",
       "  </thead>\n",
       "  <tbody>\n",
       "    <tr>\n",
       "      <th>2004.02.12.11.12.39</th>\n",
       "      <td>0.061361</td>\n",
       "      <td>0.075609</td>\n",
       "      <td>0.082837</td>\n",
       "      <td>0.045118</td>\n",
       "    </tr>\n",
       "    <tr>\n",
       "      <th>2004.02.12.11.22.39</th>\n",
       "      <td>0.061665</td>\n",
       "      <td>0.073279</td>\n",
       "      <td>0.084879</td>\n",
       "      <td>0.044172</td>\n",
       "    </tr>\n",
       "    <tr>\n",
       "      <th>2004.02.12.11.42.39</th>\n",
       "      <td>0.061231</td>\n",
       "      <td>0.074172</td>\n",
       "      <td>0.082022</td>\n",
       "      <td>0.043840</td>\n",
       "    </tr>\n",
       "    <tr>\n",
       "      <th>2004.02.12.11.02.39</th>\n",
       "      <td>0.061455</td>\n",
       "      <td>0.073844</td>\n",
       "      <td>0.084457</td>\n",
       "      <td>0.045081</td>\n",
       "    </tr>\n",
       "    <tr>\n",
       "      <th>2004.02.12.11.32.39</th>\n",
       "      <td>0.061944</td>\n",
       "      <td>0.074593</td>\n",
       "      <td>0.082626</td>\n",
       "      <td>0.044659</td>\n",
       "    </tr>\n",
       "  </tbody>\n",
       "</table>\n",
       "</div>"
      ],
      "text/plain": [
       "                     Bearing 1  Bearing 2  Bearing 3  Bearing 4\n",
       "2004.02.12.11.12.39   0.061361   0.075609   0.082837   0.045118\n",
       "2004.02.12.11.22.39   0.061665   0.073279   0.084879   0.044172\n",
       "2004.02.12.11.42.39   0.061231   0.074172   0.082022   0.043840\n",
       "2004.02.12.11.02.39   0.061455   0.073844   0.084457   0.045081\n",
       "2004.02.12.11.32.39   0.061944   0.074593   0.082626   0.044659"
      ]
     },
     "execution_count": 3,
     "metadata": {},
     "output_type": "execute_result"
    }
   ],
   "source": [
    "# load, average and merge sensor samples\n",
    "data_dir = '../data/raw/Bearing_Nasa'\n",
    "merged_data = pd.DataFrame()\n",
    "\n",
    "for filename in os.listdir(data_dir):\n",
    "    dataset = pd.read_csv(os.path.join(data_dir, filename), sep='\\t')\n",
    "    dataset_mean_abs = np.array(dataset.abs().mean())\n",
    "    dataset_mean_abs = pd.DataFrame(dataset_mean_abs.reshape(1,4))\n",
    "    dataset_mean_abs.index = [filename]\n",
    "    merged_data = merged_data.append(dataset_mean_abs)\n",
    "    \n",
    "merged_data.columns = ['Bearing 1', 'Bearing 2', 'Bearing 3', 'Bearing 4']\n",
    "\n",
    "print(\"Dataset shape:\", merged_data.shape)\n",
    "merged_data.head()"
   ]
  },
  {
   "cell_type": "code",
   "execution_count": 4,
   "metadata": {},
   "outputs": [],
   "source": [
    "merged_data.index = pd.to_datetime(merged_data.index, format='%Y.%m.%d.%H.%M.%S')\n",
    "merged_data = merged_data.sort_index()\n",
    "merged_data.to_csv('../data/processed/Bearing_Nasa_data.csv')"
   ]
  },
  {
   "cell_type": "markdown",
   "metadata": {},
   "source": [
    "## Plotting"
   ]
  },
  {
   "cell_type": "code",
   "execution_count": 5,
   "metadata": {},
   "outputs": [],
   "source": [
    "bearing_data = pd.read_csv('../data/processed/Bearing_Nasa_data.csv')"
   ]
  },
  {
   "cell_type": "code",
   "execution_count": 6,
   "metadata": {},
   "outputs": [
    {
     "data": {
      "image/png": "[encoded data removed]",
      "text/plain": [
       "<Figure size 1120x480 with 1 Axes>"
      ]
     },
     "metadata": {},
     "output_type": "display_data"
    }
   ],
   "source": [
    "fig, ax = plt.subplots(figsize=(14, 6), dpi=80)\n",
    "ax.plot(bearing_data['Bearing 1'], label='Bearing 1', color='blue', animated = True, linewidth=1)\n",
    "ax.plot(bearing_data['Bearing 2'], label='Bearing 2', color='red', animated = True, linewidth=1)\n",
    "ax.plot(bearing_data['Bearing 3'], label='Bearing 3', color='green', animated = True, linewidth=1)\n",
    "ax.plot(bearing_data['Bearing 4'], label='Bearing 4', color='black', animated = True, linewidth=1)\n",
    "plt.legend(loc='lower left')\n",
    "ax.set_title('Bearing Sensor Training Data', fontsize=16)\n",
    "plt.show()"
   ]
  },
  {
   "attachments": {},
   "cell_type": "markdown",
   "metadata": {},
   "source": [
    "## Postgres"
   ]
  },
  {
   "cell_type": "code",
   "execution_count": 7,
   "metadata": {},
   "outputs": [],
   "source": [
    "import psycopg2\n",
    "from psycopg2 import sql\n",
    "import pandas as pd"
   ]
  },
  {
   "cell_type": "code",
   "execution_count": 8,
   "metadata": {},
   "outputs": [],
   "source": [
    "# Connect to the default postgres database as the admin user\n",
    "conn = psycopg2.connect(\n",
    "    host=\"localhost\",\n",
    "    user=\"postgres\",\n",
    "    password=\"postgres\"\n",
    ")\n",
    "\n",
    "# Set autocommit mode on\n",
    "conn.autocommit = True\n",
    "\n",
    "# Create a new database named \"my_database\"\n",
    "with conn.cursor() as cur:\n",
    "    cur.execute(\"SELECT 1 FROM pg_catalog.pg_database WHERE datname = 'python_db'\")\n",
    "    exists = cur.fetchone()\n",
    "    if not exists:\n",
    "      print(\"Creation of the Database\")\n",
    "      cur.execute('CREATE DATABASE python_db')\n",
    "\n",
    "# Close the connection\n",
    "conn.close()"
   ]
  },
  {
   "cell_type": "code",
   "execution_count": 9,
   "metadata": {},
   "outputs": [],
   "source": [
    "def write_dataframe_to_postgres(df, table_name, db_config):\n",
    "    # Connect to the database\n",
    "    conn = psycopg2.connect(**db_config)\n",
    "    cur = conn.cursor()\n",
    "\n",
    "    # Define the column names and types\n",
    "    columns = df.columns.tolist()\n",
    "    column_types = ['VARCHAR(255)' for col in columns]\n",
    "\n",
    "    # Create the table\n",
    "    create_table_query = sql.SQL(\"CREATE TABLE IF NOT EXISTS {} ({})\").format(\n",
    "        sql.Identifier(table_name),\n",
    "        sql.SQL(',').join(\n",
    "            sql.SQL(\"{} {}\").format(sql.Identifier(col), sql.SQL(col_type))\n",
    "            for col, col_type in zip(columns, column_types)\n",
    "        )\n",
    "    )\n",
    "    cur.execute(create_table_query)\n",
    "\n",
    "    data = [tuple(row) for row in df.to_numpy()]                # Convert the DataFrame to a list of tuples\n",
    "\n",
    "    # Define the insert statement\n",
    "    insert_query = sql.SQL(\"INSERT INTO {} ({}) VALUES ({})\").format(\n",
    "        sql.Identifier(table_name),\n",
    "        sql.SQL(',').join(map(sql.Identifier, columns)),\n",
    "        sql.SQL(',').join(sql.Placeholder() * len(columns))\n",
    "    )\n",
    "\n",
    "    cur.executemany(insert_query, data)                         # Insert the data\n",
    "    conn.commit()                                               # Commit the transaction\n",
    "\n",
    "    # Close the cursor and connection\n",
    "    cur.close()\n",
    "    conn.close()\n",
    "\n",
    "    print(f\"Successfully wrote {len(data)} rows to table {table_name} in database {db_config['database']}!\")\n"
   ]
  },
  {
   "cell_type": "code",
   "execution_count": 10,
   "metadata": {},
   "outputs": [],
   "source": [
    "def parse_date_column(df):\n",
    "    date_columns = []\n",
    "    df_col = df.columns\n",
    "    for col in df_col:\n",
    "        try:\n",
    "            parsed_date = pd.to_datetime(df[col], infer_datetime_format=True)\n",
    "            if pd.Series(parsed_date).notna().all():\n",
    "                date_columns.append(col)\n",
    "                df[col] = parsed_date\n",
    "        except ValueError:\n",
    "            pass\n",
    "\n",
    "    return df, date_columns"
   ]
  },
  {
   "cell_type": "code",
   "execution_count": 11,
   "metadata": {},
   "outputs": [],
   "source": [
    "def read_table_from_postgres(table_name, db_config):\n",
    "    conn = psycopg2.connect(**db_config)                    # Connect to the database\n",
    "    df = pd.read_sql(f\"SELECT * FROM \\\"{table_name}\\\"\", conn)   # Read the table into a DataFrame\n",
    "    conn.close()                                            # Close the connection\n",
    "    df, date_column = parse_date_column(df)\n",
    "    df.rename(columns={date_column[0]: \"Date_parsed\"})\n",
    "    df = df.dropna(axis=0, subset=['Date_parsed'])\n",
    "    df = df.set_index('Date_parsed')\n",
    "    df = df.sort_index()\n",
    "\n",
    "    return df"
   ]
  },
  {
   "cell_type": "code",
   "execution_count": 12,
   "metadata": {},
   "outputs": [
    {
     "name": "stdout",
     "output_type": "stream",
     "text": [
      "Successfully wrote 246 rows to table test_Bearing_Nasa in database python_db!\n",
      "Successfully wrote 736 rows to table train_Bearing_Nasa in database python_db!\n"
     ]
    }
   ],
   "source": [
    "test_bearing_data = pd.read_csv('../data/processed/test_Bearing_Nasa.csv')\n",
    "test_table_name = 'test_Bearing_Nasa'\n",
    "\n",
    "train_bearing_data = pd.read_csv('../data/processed/train_Bearing_Nasa.csv')\n",
    "train_table_name = 'train_Bearing_Nasa'\n",
    "db_config = {\n",
    "    'host': 'localhost',\n",
    "    'database': 'python_db',\n",
    "    'user': 'postgres',\n",
    "    'password': 'postgres'\n",
    "}\n",
    "\n",
    "write_dataframe_to_postgres(test_bearing_data, test_table_name, db_config)\n",
    "write_dataframe_to_postgres(train_bearing_data, train_table_name, db_config)"
   ]
  },
  {
   "cell_type": "code",
   "execution_count": 23,
   "metadata": {},
   "outputs": [
    {
     "name": "stderr",
     "output_type": "stream",
     "text": [
      "/tmp/ipykernel_38852/2630714877.py:3: UserWarning: pandas only supports SQLAlchemy connectable (engine/connection) or database string URI or sqlite3 DBAPI2 connection. Other DBAPI2 objects are not tested. Please consider using SQLAlchemy.\n",
      "  df = pd.read_sql(f\"SELECT * FROM \\\"{table_name}\\\"\", conn)   # Read the table into a DataFrame\n"
     ]
    },
    {
     "data": {
      "text/html": [
       "<div>\n",
       "<style scoped>\n",
       "    .dataframe tbody tr th:only-of-type {\n",
       "        vertical-align: middle;\n",
       "    }\n",
       "\n",
       "    .dataframe tbody tr th {\n",
       "        vertical-align: top;\n",
       "    }\n",
       "\n",
       "    .dataframe thead th {\n",
       "        text-align: right;\n",
       "    }\n",
       "</style>\n",
       "<table border=\"1\" class=\"dataframe\">\n",
       "  <thead>\n",
       "    <tr style=\"text-align: right;\">\n",
       "      <th></th>\n",
       "      <th>Bearing 1</th>\n",
       "      <th>Bearing 2</th>\n",
       "      <th>Bearing 3</th>\n",
       "      <th>Bearing 4</th>\n",
       "    </tr>\n",
       "    <tr>\n",
       "      <th>Date_parsed</th>\n",
       "      <th></th>\n",
       "      <th></th>\n",
       "      <th></th>\n",
       "      <th></th>\n",
       "    </tr>\n",
       "  </thead>\n",
       "  <tbody>\n",
       "    <tr>\n",
       "      <th>2004-02-12 10:52:39</th>\n",
       "      <td>0.0602364373260413</td>\n",
       "      <td>0.0742266223936715</td>\n",
       "      <td>0.0839260706089164</td>\n",
       "      <td>0.0444430880414082</td>\n",
       "    </tr>\n",
       "    <tr>\n",
       "      <th>2004-02-12 10:52:39</th>\n",
       "      <td>0.0602364373260413</td>\n",
       "      <td>0.0742266223936715</td>\n",
       "      <td>0.0839260706089164</td>\n",
       "      <td>0.0444430880414082</td>\n",
       "    </tr>\n",
       "    <tr>\n",
       "      <th>2004-02-12 11:02:39</th>\n",
       "      <td>0.0614554421602617</td>\n",
       "      <td>0.073844084183798</td>\n",
       "      <td>0.0844574442111431</td>\n",
       "      <td>0.0450814004590067</td>\n",
       "    </tr>\n",
       "    <tr>\n",
       "      <th>2004-02-12 11:02:39</th>\n",
       "      <td>0.0614554421602617</td>\n",
       "      <td>0.073844084183798</td>\n",
       "      <td>0.0844574442111431</td>\n",
       "      <td>0.0450814004590067</td>\n",
       "    </tr>\n",
       "    <tr>\n",
       "      <th>2004-02-12 11:12:39</th>\n",
       "      <td>0.0613607598027247</td>\n",
       "      <td>0.0756087699594706</td>\n",
       "      <td>0.082836808437912</td>\n",
       "      <td>0.0451183651545485</td>\n",
       "    </tr>\n",
       "    <tr>\n",
       "      <th>...</th>\n",
       "      <td>...</td>\n",
       "      <td>...</td>\n",
       "      <td>...</td>\n",
       "      <td>...</td>\n",
       "    </tr>\n",
       "    <tr>\n",
       "      <th>2004-02-17 13:02:39</th>\n",
       "      <td>0.1097789931148981</td>\n",
       "      <td>0.0780170418477464</td>\n",
       "      <td>0.0794486547194687</td>\n",
       "      <td>0.0498081449289516</td>\n",
       "    </tr>\n",
       "    <tr>\n",
       "      <th>2004-02-17 13:12:39</th>\n",
       "      <td>0.1100961961033253</td>\n",
       "      <td>0.0772929830558132</td>\n",
       "      <td>0.0791584550026856</td>\n",
       "      <td>0.0500879437472533</td>\n",
       "    </tr>\n",
       "    <tr>\n",
       "      <th>2004-02-17 13:12:39</th>\n",
       "      <td>0.1100961961033253</td>\n",
       "      <td>0.0772929830558132</td>\n",
       "      <td>0.0791584550026856</td>\n",
       "      <td>0.0500879437472533</td>\n",
       "    </tr>\n",
       "    <tr>\n",
       "      <th>2004-02-17 13:22:39</th>\n",
       "      <td>0.1104955320083988</td>\n",
       "      <td>0.0779837882709116</td>\n",
       "      <td>0.0782658821231505</td>\n",
       "      <td>0.0513468431075736</td>\n",
       "    </tr>\n",
       "    <tr>\n",
       "      <th>2004-02-17 13:22:39</th>\n",
       "      <td>0.1104955320083988</td>\n",
       "      <td>0.0779837882709116</td>\n",
       "      <td>0.0782658821231505</td>\n",
       "      <td>0.0513468431075736</td>\n",
       "    </tr>\n",
       "  </tbody>\n",
       "</table>\n",
       "<p>1472 rows × 4 columns</p>\n",
       "</div>"
      ],
      "text/plain": [
       "                              Bearing 1           Bearing 2  \\\n",
       "Date_parsed                                                   \n",
       "2004-02-12 10:52:39  0.0602364373260413  0.0742266223936715   \n",
       "2004-02-12 10:52:39  0.0602364373260413  0.0742266223936715   \n",
       "2004-02-12 11:02:39  0.0614554421602617   0.073844084183798   \n",
       "2004-02-12 11:02:39  0.0614554421602617   0.073844084183798   \n",
       "2004-02-12 11:12:39  0.0613607598027247  0.0756087699594706   \n",
       "...                                 ...                 ...   \n",
       "2004-02-17 13:02:39  0.1097789931148981  0.0780170418477464   \n",
       "2004-02-17 13:12:39  0.1100961961033253  0.0772929830558132   \n",
       "2004-02-17 13:12:39  0.1100961961033253  0.0772929830558132   \n",
       "2004-02-17 13:22:39  0.1104955320083988  0.0779837882709116   \n",
       "2004-02-17 13:22:39  0.1104955320083988  0.0779837882709116   \n",
       "\n",
       "                              Bearing 3           Bearing 4  \n",
       "Date_parsed                                                  \n",
       "2004-02-12 10:52:39  0.0839260706089164  0.0444430880414082  \n",
       "2004-02-12 10:52:39  0.0839260706089164  0.0444430880414082  \n",
       "2004-02-12 11:02:39  0.0844574442111431  0.0450814004590067  \n",
       "2004-02-12 11:02:39  0.0844574442111431  0.0450814004590067  \n",
       "2004-02-12 11:12:39   0.082836808437912  0.0451183651545485  \n",
       "...                                 ...                 ...  \n",
       "2004-02-17 13:02:39  0.0794486547194687  0.0498081449289516  \n",
       "2004-02-17 13:12:39  0.0791584550026856  0.0500879437472533  \n",
       "2004-02-17 13:12:39  0.0791584550026856  0.0500879437472533  \n",
       "2004-02-17 13:22:39  0.0782658821231505  0.0513468431075736  \n",
       "2004-02-17 13:22:39  0.0782658821231505  0.0513468431075736  \n",
       "\n",
       "[1472 rows x 4 columns]"
      ]
     },
     "execution_count": 23,
     "metadata": {},
     "output_type": "execute_result"
    }
   ],
   "source": [
    "df = read_table_from_postgres(train_table_name, db_config)\n",
    "df"
   ]
  },
  {
   "cell_type": "code",
   "execution_count": 21,
   "metadata": {},
   "outputs": [
    {
     "name": "stdout",
     "output_type": "stream",
     "text": [
      "Duplicate rows removed\n"
     ]
    }
   ],
   "source": [
    "def drop_duplicates(table_name, db_config):\n",
    "    conn = psycopg2.connect(**db_config)    \n",
    "    try:\n",
    "        cursor = conn.cursor()\n",
    "        cursor.execute(f\"SELECT DISTINCT * FROM \\\"{table_name}\\\";\")\n",
    "        conn.commit()\n",
    "        print(\"Duplicate rows removed\")\n",
    "    except Exception as e:\n",
    "        print(\"Error:\", e)\n",
    "\n",
    "drop_duplicates(train_table_name, db_config)"
   ]
  }
 ],
 "metadata": {
  "kernelspec": {
   "display_name": "Python 3.10.8 ('mlclassic')",
   "language": "python",
   "name": "python3"
  },
  "language_info": {
   "codemirror_mode": {
    "name": "ipython",
    "version": 3
   },
   "file_extension": ".py",
   "mimetype": "text/x-python",
   "name": "python",
   "nbconvert_exporter": "python",
   "pygments_lexer": "ipython3",
   "version": "3.10.8"
  },
  "orig_nbformat": 4,
  "vscode": {
   "interpreter": {
    "hash": "7ca5547192d47443812c99a56ab23129e6692e2450fd2f638718118198b369cf"
   }
  }
 },
 "nbformat": 4,
 "nbformat_minor": 2
}
